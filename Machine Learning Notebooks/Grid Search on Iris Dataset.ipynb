{
 "cells": [
  {
   "cell_type": "markdown",
   "metadata": {},
   "source": [
    "## Iris Dataset\n",
    "\n",
    "**Context**: This is perhaps the best known database to be found in the pattern recognition literature. Fisher's paper is a classic in the field and is referenced frequently to this day. The data set contains 3 classes of 50 instances each, where each class refers to a type of iris plant. One class is linearly separable from the other 2; the latter are NOT linearly separable from each other.\n",
    "\n",
    "Task: Predicting the class of iris plant.\n"
   ]
  },
  {
   "cell_type": "markdown",
   "metadata": {
    "id": "MYW-cY8nfk0s"
   },
   "source": [
    "**Reading Data**"
   ]
  },
  {
   "cell_type": "code",
   "execution_count": 1,
   "metadata": {
    "id": "jugEvazvd3E7"
   },
   "outputs": [],
   "source": [
    "import pandas as pd\n",
    "import numpy as np\n",
    "import pandas as pd\n",
    "import seaborn as sns\n",
    "import matplotlib.pyplot as plt\n",
    "\n",
    "%matplotlib inline"
   ]
  },
  {
   "cell_type": "code",
   "execution_count": 2,
   "metadata": {
    "colab": {
     "base_uri": "https://localhost:8080/",
     "height": 423
    },
    "id": "GOq9FGstd3E9",
    "outputId": "212a20db-956c-42a1-e8d2-b77a8f795717"
   },
   "outputs": [
    {
     "data": {
      "text/html": [
       "<div>\n",
       "<style scoped>\n",
       "    .dataframe tbody tr th:only-of-type {\n",
       "        vertical-align: middle;\n",
       "    }\n",
       "\n",
       "    .dataframe tbody tr th {\n",
       "        vertical-align: top;\n",
       "    }\n",
       "\n",
       "    .dataframe thead th {\n",
       "        text-align: right;\n",
       "    }\n",
       "</style>\n",
       "<table border=\"1\" class=\"dataframe\">\n",
       "  <thead>\n",
       "    <tr style=\"text-align: right;\">\n",
       "      <th></th>\n",
       "      <th>sepal.length</th>\n",
       "      <th>sepal.width</th>\n",
       "      <th>petal.length</th>\n",
       "      <th>petal.width</th>\n",
       "      <th>variety</th>\n",
       "    </tr>\n",
       "  </thead>\n",
       "  <tbody>\n",
       "    <tr>\n",
       "      <th>0</th>\n",
       "      <td>5.1</td>\n",
       "      <td>3.5</td>\n",
       "      <td>1.4</td>\n",
       "      <td>0.2</td>\n",
       "      <td>Setosa</td>\n",
       "    </tr>\n",
       "    <tr>\n",
       "      <th>1</th>\n",
       "      <td>4.9</td>\n",
       "      <td>3.0</td>\n",
       "      <td>1.4</td>\n",
       "      <td>0.2</td>\n",
       "      <td>Setosa</td>\n",
       "    </tr>\n",
       "    <tr>\n",
       "      <th>2</th>\n",
       "      <td>4.7</td>\n",
       "      <td>3.2</td>\n",
       "      <td>1.3</td>\n",
       "      <td>0.2</td>\n",
       "      <td>Setosa</td>\n",
       "    </tr>\n",
       "    <tr>\n",
       "      <th>3</th>\n",
       "      <td>4.6</td>\n",
       "      <td>3.1</td>\n",
       "      <td>1.5</td>\n",
       "      <td>0.2</td>\n",
       "      <td>Setosa</td>\n",
       "    </tr>\n",
       "    <tr>\n",
       "      <th>4</th>\n",
       "      <td>5.0</td>\n",
       "      <td>3.6</td>\n",
       "      <td>1.4</td>\n",
       "      <td>0.2</td>\n",
       "      <td>Setosa</td>\n",
       "    </tr>\n",
       "    <tr>\n",
       "      <th>...</th>\n",
       "      <td>...</td>\n",
       "      <td>...</td>\n",
       "      <td>...</td>\n",
       "      <td>...</td>\n",
       "      <td>...</td>\n",
       "    </tr>\n",
       "    <tr>\n",
       "      <th>145</th>\n",
       "      <td>6.7</td>\n",
       "      <td>3.0</td>\n",
       "      <td>5.2</td>\n",
       "      <td>2.3</td>\n",
       "      <td>Virginica</td>\n",
       "    </tr>\n",
       "    <tr>\n",
       "      <th>146</th>\n",
       "      <td>6.3</td>\n",
       "      <td>2.5</td>\n",
       "      <td>5.0</td>\n",
       "      <td>1.9</td>\n",
       "      <td>Virginica</td>\n",
       "    </tr>\n",
       "    <tr>\n",
       "      <th>147</th>\n",
       "      <td>6.5</td>\n",
       "      <td>3.0</td>\n",
       "      <td>5.2</td>\n",
       "      <td>2.0</td>\n",
       "      <td>Virginica</td>\n",
       "    </tr>\n",
       "    <tr>\n",
       "      <th>148</th>\n",
       "      <td>6.2</td>\n",
       "      <td>3.4</td>\n",
       "      <td>5.4</td>\n",
       "      <td>2.3</td>\n",
       "      <td>Virginica</td>\n",
       "    </tr>\n",
       "    <tr>\n",
       "      <th>149</th>\n",
       "      <td>5.9</td>\n",
       "      <td>3.0</td>\n",
       "      <td>5.1</td>\n",
       "      <td>1.8</td>\n",
       "      <td>Virginica</td>\n",
       "    </tr>\n",
       "  </tbody>\n",
       "</table>\n",
       "<p>150 rows × 5 columns</p>\n",
       "</div>"
      ],
      "text/plain": [
       "     sepal.length  sepal.width  petal.length  petal.width    variety\n",
       "0             5.1          3.5           1.4          0.2     Setosa\n",
       "1             4.9          3.0           1.4          0.2     Setosa\n",
       "2             4.7          3.2           1.3          0.2     Setosa\n",
       "3             4.6          3.1           1.5          0.2     Setosa\n",
       "4             5.0          3.6           1.4          0.2     Setosa\n",
       "..            ...          ...           ...          ...        ...\n",
       "145           6.7          3.0           5.2          2.3  Virginica\n",
       "146           6.3          2.5           5.0          1.9  Virginica\n",
       "147           6.5          3.0           5.2          2.0  Virginica\n",
       "148           6.2          3.4           5.4          2.3  Virginica\n",
       "149           5.9          3.0           5.1          1.8  Virginica\n",
       "\n",
       "[150 rows x 5 columns]"
      ]
     },
     "execution_count": 2,
     "metadata": {},
     "output_type": "execute_result"
    }
   ],
   "source": [
    "#importing dataset\n",
    "df = pd.read_excel(\"iris.xlsx\")\n",
    "df"
   ]
  },
  {
   "cell_type": "markdown",
   "metadata": {
    "id": "uP3I9EU4fuUL"
   },
   "source": [
    "**Exploring Data**"
   ]
  },
  {
   "cell_type": "code",
   "execution_count": 3,
   "metadata": {
    "colab": {
     "base_uri": "https://localhost:8080/",
     "height": 300
    },
    "id": "Uq0xU8EKd3E-",
    "outputId": "0b8f8e14-e078-44d1-d9ce-75972e31b88d"
   },
   "outputs": [
    {
     "data": {
      "text/html": [
       "<div>\n",
       "<style scoped>\n",
       "    .dataframe tbody tr th:only-of-type {\n",
       "        vertical-align: middle;\n",
       "    }\n",
       "\n",
       "    .dataframe tbody tr th {\n",
       "        vertical-align: top;\n",
       "    }\n",
       "\n",
       "    .dataframe thead th {\n",
       "        text-align: right;\n",
       "    }\n",
       "</style>\n",
       "<table border=\"1\" class=\"dataframe\">\n",
       "  <thead>\n",
       "    <tr style=\"text-align: right;\">\n",
       "      <th></th>\n",
       "      <th>sepal.length</th>\n",
       "      <th>sepal.width</th>\n",
       "      <th>petal.length</th>\n",
       "      <th>petal.width</th>\n",
       "    </tr>\n",
       "  </thead>\n",
       "  <tbody>\n",
       "    <tr>\n",
       "      <th>count</th>\n",
       "      <td>150.000000</td>\n",
       "      <td>150.000000</td>\n",
       "      <td>150.000000</td>\n",
       "      <td>150.000000</td>\n",
       "    </tr>\n",
       "    <tr>\n",
       "      <th>mean</th>\n",
       "      <td>5.843333</td>\n",
       "      <td>3.057333</td>\n",
       "      <td>3.758000</td>\n",
       "      <td>1.199333</td>\n",
       "    </tr>\n",
       "    <tr>\n",
       "      <th>std</th>\n",
       "      <td>0.828066</td>\n",
       "      <td>0.435866</td>\n",
       "      <td>1.765298</td>\n",
       "      <td>0.762238</td>\n",
       "    </tr>\n",
       "    <tr>\n",
       "      <th>min</th>\n",
       "      <td>4.300000</td>\n",
       "      <td>2.000000</td>\n",
       "      <td>1.000000</td>\n",
       "      <td>0.100000</td>\n",
       "    </tr>\n",
       "    <tr>\n",
       "      <th>25%</th>\n",
       "      <td>5.100000</td>\n",
       "      <td>2.800000</td>\n",
       "      <td>1.600000</td>\n",
       "      <td>0.300000</td>\n",
       "    </tr>\n",
       "    <tr>\n",
       "      <th>50%</th>\n",
       "      <td>5.800000</td>\n",
       "      <td>3.000000</td>\n",
       "      <td>4.350000</td>\n",
       "      <td>1.300000</td>\n",
       "    </tr>\n",
       "    <tr>\n",
       "      <th>75%</th>\n",
       "      <td>6.400000</td>\n",
       "      <td>3.300000</td>\n",
       "      <td>5.100000</td>\n",
       "      <td>1.800000</td>\n",
       "    </tr>\n",
       "    <tr>\n",
       "      <th>max</th>\n",
       "      <td>7.900000</td>\n",
       "      <td>4.400000</td>\n",
       "      <td>6.900000</td>\n",
       "      <td>2.500000</td>\n",
       "    </tr>\n",
       "  </tbody>\n",
       "</table>\n",
       "</div>"
      ],
      "text/plain": [
       "       sepal.length  sepal.width  petal.length  petal.width\n",
       "count    150.000000   150.000000    150.000000   150.000000\n",
       "mean       5.843333     3.057333      3.758000     1.199333\n",
       "std        0.828066     0.435866      1.765298     0.762238\n",
       "min        4.300000     2.000000      1.000000     0.100000\n",
       "25%        5.100000     2.800000      1.600000     0.300000\n",
       "50%        5.800000     3.000000      4.350000     1.300000\n",
       "75%        6.400000     3.300000      5.100000     1.800000\n",
       "max        7.900000     4.400000      6.900000     2.500000"
      ]
     },
     "execution_count": 3,
     "metadata": {},
     "output_type": "execute_result"
    }
   ],
   "source": [
    "df.describe()"
   ]
  },
  {
   "cell_type": "code",
   "execution_count": 4,
   "metadata": {
    "colab": {
     "base_uri": "https://localhost:8080/"
    },
    "id": "cL7I5OBHd3E_",
    "outputId": "2459e556-3ac3-4a09-8636-83d30ae16e12"
   },
   "outputs": [
    {
     "data": {
      "text/plain": [
       "sepal.length    0\n",
       "sepal.width     0\n",
       "petal.length    0\n",
       "petal.width     0\n",
       "variety         0\n",
       "dtype: int64"
      ]
     },
     "execution_count": 4,
     "metadata": {},
     "output_type": "execute_result"
    }
   ],
   "source": [
    "df.isnull().sum()"
   ]
  },
  {
   "cell_type": "code",
   "execution_count": 5,
   "metadata": {
    "colab": {
     "base_uri": "https://localhost:8080/"
    },
    "id": "pKvAVrmhd3FA",
    "outputId": "87368dc1-f388-4ea9-bcd5-4950d86074b8"
   },
   "outputs": [
    {
     "data": {
      "text/plain": [
       "Virginica     50\n",
       "Versicolor    50\n",
       "Setosa        50\n",
       "Name: variety, dtype: int64"
      ]
     },
     "execution_count": 5,
     "metadata": {},
     "output_type": "execute_result"
    }
   ],
   "source": [
    "df['variety'].value_counts()"
   ]
  },
  {
   "cell_type": "code",
   "execution_count": 6,
   "metadata": {
    "colab": {
     "base_uri": "https://localhost:8080/",
     "height": 297
    },
    "id": "3VDdy8hJd3FB",
    "outputId": "f5575cdd-cb4b-4620-9641-bcd96a9fd3ae"
   },
   "outputs": [
    {
     "data": {
      "text/plain": [
       "<AxesSubplot:xlabel='variety', ylabel='sepal.length'>"
      ]
     },
     "execution_count": 6,
     "metadata": {},
     "output_type": "execute_result"
    },
    {
     "data": {
      "image/png": "[encoded data removed]",
      "text/plain": [
       "<Figure size 432x288 with 1 Axes>"
      ]
     },
     "metadata": {},
     "output_type": "display_data"
    }
   ],
   "source": [
    "#plotting histogram for sepal length of the three classes\n",
    "sns.histplot(data=df, x=\"variety\", y=\"sepal.length\")"
   ]
  },
  {
   "cell_type": "code",
   "execution_count": 7,
   "metadata": {
    "colab": {
     "base_uri": "https://localhost:8080/",
     "height": 300
    },
    "id": "qZ1ozR1Bd3FC",
    "outputId": "d6174fb9-854f-4919-cbf9-08ad15742537"
   },
   "outputs": [
    {
     "data": {
      "text/plain": [
       "<AxesSubplot:xlabel='variety', ylabel='sepal.width'>"
      ]
     },
     "execution_count": 7,
     "metadata": {},
     "output_type": "execute_result"
    },
    {
     "data": {
      "image/png": "[encoded data removed]",
      "text/plain": [
       "<Figure size 432x288 with 1 Axes>"
      ]
     },
     "metadata": {},
     "output_type": "display_data"
    }
   ],
   "source": [
    "# plotting histogram for sepal width of the three classes\n",
    "sns.histplot(data=df, x=\"variety\", y=\"sepal.width\")"
   ]
  },
  {
   "cell_type": "code",
   "execution_count": 8,
   "metadata": {
    "colab": {
     "base_uri": "https://localhost:8080/",
     "height": 297
    },
    "id": "5EDjGbjTeLqX",
    "outputId": "354e4ee5-9660-46e7-a87a-c98ba5a20b56"
   },
   "outputs": [
    {
     "data": {
      "text/plain": [
       "<AxesSubplot:xlabel='variety', ylabel='petal.length'>"
      ]
     },
     "execution_count": 8,
     "metadata": {},
     "output_type": "execute_result"
    },
    {
     "data": {
      "image/png": "[encoded data removed]",
      "text/plain": [
       "<Figure size 432x288 with 1 Axes>"
      ]
     },
     "metadata": {},
     "output_type": "display_data"
    }
   ],
   "source": [
    "# plotting histogram for petal length of the three classes\n",
    "sns.histplot(data=df, x=\"variety\", y=\"petal.length\")"
   ]
  },
  {
   "cell_type": "code",
   "execution_count": 9,
   "metadata": {
    "colab": {
     "base_uri": "https://localhost:8080/",
     "height": 297
    },
    "id": "dAPZ2_Jqe1Tc",
    "outputId": "278567e6-6197-40e2-b27b-1ae9ceaa5db0"
   },
   "outputs": [
    {
     "data": {
      "text/plain": [
       "<AxesSubplot:xlabel='variety', ylabel='petal.width'>"
      ]
     },
     "execution_count": 9,
     "metadata": {},
     "output_type": "execute_result"
    },
    {
     "data": {
      "image/png": "[encoded data removed]",
      "text/plain": [
       "<Figure size 432x288 with 1 Axes>"
      ]
     },
     "metadata": {},
     "output_type": "display_data"
    }
   ],
   "source": [
    "# plotting histogram for petal width of the three classes\n",
    "sns.histplot(data=df, x=\"variety\", y=\"petal.width\")"
   ]
  },
  {
   "cell_type": "markdown",
   "metadata": {},
   "source": [
    "From our histograms above, we can see that virginica had the sepal length. Setosa has the largest sepal widths. Virginica also has the largest petal length and width. Setosa has the smallest sepal length, petal length and width. While versicolor had the smallest sepal width."
   ]
  },
  {
   "cell_type": "markdown",
   "metadata": {
    "id": "_zl3X1ZSjAUp"
   },
   "source": [
    "**Encoding Target Variabele**"
   ]
  },
  {
   "cell_type": "code",
   "execution_count": 10,
   "metadata": {
    "id": "oGHi-jkMi20R"
   },
   "outputs": [],
   "source": [
    "from sklearn import preprocessing\n",
    "le = preprocessing.LabelEncoder()\n",
    "\n",
    "#invoking fit_transform method on object\n",
    "df['variety']=le.fit_transform(df['variety'])\n"
   ]
  },
  {
   "cell_type": "code",
   "execution_count": 11,
   "metadata": {
    "colab": {
     "base_uri": "https://localhost:8080/",
     "height": 206
    },
    "id": "U8DoRfOPfYxm",
    "outputId": "08e1066e-d721-45ba-e6fd-852f4aa1e7d5"
   },
   "outputs": [
    {
     "data": {
      "text/html": [
       "<div>\n",
       "<style scoped>\n",
       "    .dataframe tbody tr th:only-of-type {\n",
       "        vertical-align: middle;\n",
       "    }\n",
       "\n",
       "    .dataframe tbody tr th {\n",
       "        vertical-align: top;\n",
       "    }\n",
       "\n",
       "    .dataframe thead th {\n",
       "        text-align: right;\n",
       "    }\n",
       "</style>\n",
       "<table border=\"1\" class=\"dataframe\">\n",
       "  <thead>\n",
       "    <tr style=\"text-align: right;\">\n",
       "      <th></th>\n",
       "      <th>sepal.length</th>\n",
       "      <th>sepal.width</th>\n",
       "      <th>petal.length</th>\n",
       "      <th>petal.width</th>\n",
       "      <th>variety</th>\n",
       "    </tr>\n",
       "  </thead>\n",
       "  <tbody>\n",
       "    <tr>\n",
       "      <th>0</th>\n",
       "      <td>5.1</td>\n",
       "      <td>3.5</td>\n",
       "      <td>1.4</td>\n",
       "      <td>0.2</td>\n",
       "      <td>0</td>\n",
       "    </tr>\n",
       "    <tr>\n",
       "      <th>1</th>\n",
       "      <td>4.9</td>\n",
       "      <td>3.0</td>\n",
       "      <td>1.4</td>\n",
       "      <td>0.2</td>\n",
       "      <td>0</td>\n",
       "    </tr>\n",
       "    <tr>\n",
       "      <th>2</th>\n",
       "      <td>4.7</td>\n",
       "      <td>3.2</td>\n",
       "      <td>1.3</td>\n",
       "      <td>0.2</td>\n",
       "      <td>0</td>\n",
       "    </tr>\n",
       "    <tr>\n",
       "      <th>3</th>\n",
       "      <td>4.6</td>\n",
       "      <td>3.1</td>\n",
       "      <td>1.5</td>\n",
       "      <td>0.2</td>\n",
       "      <td>0</td>\n",
       "    </tr>\n",
       "    <tr>\n",
       "      <th>4</th>\n",
       "      <td>5.0</td>\n",
       "      <td>3.6</td>\n",
       "      <td>1.4</td>\n",
       "      <td>0.2</td>\n",
       "      <td>0</td>\n",
       "    </tr>\n",
       "  </tbody>\n",
       "</table>\n",
       "</div>"
      ],
      "text/plain": [
       "   sepal.length  sepal.width  petal.length  petal.width  variety\n",
       "0           5.1          3.5           1.4          0.2        0\n",
       "1           4.9          3.0           1.4          0.2        0\n",
       "2           4.7          3.2           1.3          0.2        0\n",
       "3           4.6          3.1           1.5          0.2        0\n",
       "4           5.0          3.6           1.4          0.2        0"
      ]
     },
     "execution_count": 11,
     "metadata": {},
     "output_type": "execute_result"
    }
   ],
   "source": [
    "df.head()"
   ]
  },
  {
   "cell_type": "code",
   "execution_count": 12,
   "metadata": {
    "colab": {
     "base_uri": "https://localhost:8080/"
    },
    "id": "7oz6YdKxhmgz",
    "outputId": "7146019b-37dc-41dd-8c29-959ffc1b5963"
   },
   "outputs": [
    {
     "data": {
      "text/plain": [
       "sepal.length    float64\n",
       "sepal.width     float64\n",
       "petal.length    float64\n",
       "petal.width     float64\n",
       "variety           int32\n",
       "dtype: object"
      ]
     },
     "execution_count": 12,
     "metadata": {},
     "output_type": "execute_result"
    }
   ],
   "source": [
    "df.dtypes"
   ]
  },
  {
   "cell_type": "markdown",
   "metadata": {
    "id": "UWLMBO3jlhA9"
   },
   "source": [
    "**Checking for correlation in Dataset**\n",
    "\n",
    "We checked for the correlation between the features and target column. As we can see below, sepal.width column has the lowest correlation with the target column(variety)."
   ]
  },
  {
   "cell_type": "code",
   "execution_count": 13,
   "metadata": {
    "colab": {
     "base_uri": "https://localhost:8080/"
    },
    "id": "zBRfzoOIk5PC",
    "outputId": "934c3dd2-3ef4-4f37-f5ad-b8d64fa50048"
   },
   "outputs": [
    {
     "name": "stdout",
     "output_type": "stream",
     "text": [
      "              sepal.length  sepal.width  petal.length  petal.width   variety\n",
      "sepal.length      1.000000    -0.117570      0.871754     0.817941  0.782561\n",
      "sepal.width      -0.117570     1.000000     -0.428440    -0.366126 -0.426658\n",
      "petal.length      0.871754    -0.428440      1.000000     0.962865  0.949035\n",
      "petal.width       0.817941    -0.366126      0.962865     1.000000  0.956547\n",
      "variety           0.782561    -0.426658      0.949035     0.956547  1.000000\n"
     ]
    }
   ],
   "source": [
    "iris_corr = df.corr()\n",
    "print(iris_corr)"
   ]
  },
  {
   "cell_type": "code",
   "execution_count": 14,
   "metadata": {
    "colab": {
     "base_uri": "https://localhost:8080/",
     "height": 614
    },
    "id": "ncYTmxkNlPlC",
    "outputId": "b65a1e91-496a-412d-f9c5-34e707ca732f"
   },
   "outputs": [
    {
     "data": {
      "text/plain": [
       "<AxesSubplot:>"
      ]
     },
     "execution_count": 14,
     "metadata": {},
     "output_type": "execute_result"
    },
    {
     "data": {
      "image/png": "[encoded data removed]",
      "text/plain": [
       "<Figure size 720x720 with 2 Axes>"
      ]
     },
     "metadata": {},
     "output_type": "display_data"
    }
   ],
   "source": [
    "#correlation heatmap\n",
    "plt.figure(figsize=(10,10))\n",
    "sns.heatmap(iris_corr, annot=True)"
   ]
  },
  {
   "cell_type": "markdown",
   "metadata": {
    "id": "70gDk-feJOmj"
   },
   "source": [
    "**Observations from Correlation heatmap**\n",
    "\n",
    "petal.width, sepal.length and petal.length are all highly correlated -> I choose petal.width\n",
    "\n",
    "So we drop the other two.\n"
   ]
  },
  {
   "cell_type": "code",
   "execution_count": 15,
   "metadata": {
    "colab": {
     "base_uri": "https://localhost:8080/",
     "height": 423
    },
    "id": "Ml-d7CZtK2cg",
    "outputId": "22b08a41-f6d0-4f7d-a557-2a4068dc2a0b"
   },
   "outputs": [],
   "source": [
    "drop_list = ['sepal.length','petal.length']\n",
    "\n",
    "df.drop(drop_list, axis = 1, inplace=True)"
   ]
  },
  {
   "cell_type": "markdown",
   "metadata": {
    "id": "shsv8vmnjxo9"
   },
   "source": [
    "**Splitting Data into train, validation and test set (60.20.20)**"
   ]
  },
  {
   "cell_type": "code",
   "execution_count": 16,
   "metadata": {
    "id": "ncbWVeXihsmj"
   },
   "outputs": [],
   "source": [
    "from sklearn.model_selection import train_test_split"
   ]
  },
  {
   "cell_type": "code",
   "execution_count": 17,
   "metadata": {
    "id": "XeMONm3wiwUr"
   },
   "outputs": [],
   "source": [
    "#splitting into 60-20-20 ratios\n",
    "features = df.drop('variety', axis=1)\n",
    "labels = df['variety']\n",
    "\n",
    "X_train, X_test, y_train, y_test = train_test_split(features, labels, test_size=0.4, random_state=42)\n",
    "X_test, X_val, y_test, y_val = train_test_split(X_test, y_test, test_size=0.5, random_state=42)"
   ]
  },
  {
   "cell_type": "code",
   "execution_count": 56,
   "metadata": {
    "colab": {
     "base_uri": "https://localhost:8080/"
    },
    "id": "HbFa35Gbnvup",
    "outputId": "133381a6-fd21-4a15-c52c-9d32e1135d4b"
   },
   "outputs": [
    {
     "name": "stdout",
     "output_type": "stream",
     "text": [
      "0.6\n",
      "0.2\n",
      "0.2\n"
     ]
    }
   ],
   "source": [
    "for dataset in [y_train, y_val, y_test]:\n",
    "    print(round(len(dataset) / len(labels), 2))"
   ]
  },
  {
   "cell_type": "code",
   "execution_count": 19,
   "metadata": {
    "id": "zqE5wCIBn4bP"
   },
   "outputs": [],
   "source": [
    "X_train.to_csv('train_features.csv', index=False)\n",
    "X_val.to_csv('val_features.csv', index=False)\n",
    "X_test.to_csv('test_features.csv', index=False)\n",
    "\n",
    "y_train.to_csv('train_labels.csv', index=False)\n",
    "y_val.to_csv('val_labels.csv', index=False)\n",
    "y_test.to_csv('test_labels.csv', index=False)"
   ]
  },
  {
   "cell_type": "markdown",
   "metadata": {},
   "source": [
    "### Hyperparameter tuning for 60.20.20 split\n",
    "\n",
    "We do the hyperparameter tuning on RandomForestClassifer, SVM, and Logistic Regression Models"
   ]
  },
  {
   "cell_type": "code",
   "execution_count": 20,
   "metadata": {
    "id": "MY2c6iJfpeoO"
   },
   "outputs": [],
   "source": [
    "from sklearn.ensemble import RandomForestClassifier\n",
    "\n",
    "from sklearn.model_selection import GridSearchCV\n",
    "\n",
    "tr_features = pd.read_csv('train_features.csv')\n",
    "tr_labels = pd.read_csv('train_labels.csv')"
   ]
  },
  {
   "cell_type": "code",
   "execution_count": 21,
   "metadata": {
    "id": "Ehutt9udrXYP"
   },
   "outputs": [],
   "source": [
    "def print_results(results):\n",
    "    print('BEST PARAMS: {}\\n'.format(results.best_params_))\n",
    "\n",
    "    means = results.cv_results_['mean_test_score']\n",
    "    stds = results.cv_results_['std_test_score']\n",
    "    for mean, std, params in zip(means, stds, results.cv_results_['params']):\n",
    "        print('{} (+/-{}) for {}'.format(round(mean, 3), round(std * 2, 3), params))"
   ]
  },
  {
   "cell_type": "code",
   "execution_count": 22,
   "metadata": {},
   "outputs": [
    {
     "name": "stdout",
     "output_type": "stream",
     "text": [
      "BEST PARAMS: {'max_depth': 10, 'n_estimators': 50}\n",
      "\n",
      "0.9 (+/-0.204) for {'max_depth': 2, 'n_estimators': 5}\n",
      "0.922 (+/-0.151) for {'max_depth': 2, 'n_estimators': 50}\n",
      "0.889 (+/-0.186) for {'max_depth': 2, 'n_estimators': 100}\n",
      "0.922 (+/-0.166) for {'max_depth': 10, 'n_estimators': 5}\n",
      "0.933 (+/-0.163) for {'max_depth': 10, 'n_estimators': 50}\n",
      "0.911 (+/-0.194) for {'max_depth': 10, 'n_estimators': 100}\n",
      "0.911 (+/-0.133) for {'max_depth': 20, 'n_estimators': 5}\n",
      "0.933 (+/-0.163) for {'max_depth': 20, 'n_estimators': 50}\n",
      "0.911 (+/-0.194) for {'max_depth': 20, 'n_estimators': 100}\n",
      "0.922 (+/-0.166) for {'max_depth': None, 'n_estimators': 5}\n",
      "0.911 (+/-0.194) for {'max_depth': None, 'n_estimators': 50}\n",
      "0.922 (+/-0.151) for {'max_depth': None, 'n_estimators': 100}\n"
     ]
    }
   ],
   "source": [
    "rf = RandomForestClassifier()\n",
    "parameters = {\n",
    "    'n_estimators': [5, 50, 100],\n",
    "    'max_depth': [2, 10, 20, None]\n",
    "}\n",
    "\n",
    "cv = GridSearchCV(rf, parameters, cv=5)\n",
    "cv.fit(tr_features, tr_labels.values.ravel())\n",
    "\n",
    "print_results(cv)"
   ]
  },
  {
   "cell_type": "code",
   "execution_count": 23,
   "metadata": {},
   "outputs": [
    {
     "name": "stdout",
     "output_type": "stream",
     "text": [
      "BEST PARAMS: {'C': 1, 'kernel': 'rbf'}\n",
      "\n",
      "0.933 (+/-0.163) for {'C': 0.1, 'kernel': 'linear'}\n",
      "0.922 (+/-0.166) for {'C': 0.1, 'kernel': 'rbf'}\n",
      "0.933 (+/-0.215) for {'C': 1, 'kernel': 'linear'}\n",
      "0.944 (+/-0.172) for {'C': 1, 'kernel': 'rbf'}\n",
      "0.944 (+/-0.172) for {'C': 10, 'kernel': 'linear'}\n",
      "0.944 (+/-0.172) for {'C': 10, 'kernel': 'rbf'}\n"
     ]
    }
   ],
   "source": [
    "from sklearn.svm import SVC\n",
    "\n",
    "sv = SVC()\n",
    "parameters = {\n",
    "    'kernel': ['linear', 'rbf'],\n",
    "    'C': [0.1, 1, 10]\n",
    "        }\n",
    "\n",
    "cv_svm = GridSearchCV(sv, parameters, cv=5)\n",
    "cv_svm.fit(tr_features, tr_labels.values.ravel())\n",
    "\n",
    "print_results(cv_svm)"
   ]
  },
  {
   "cell_type": "code",
   "execution_count": 24,
   "metadata": {},
   "outputs": [
    {
     "name": "stdout",
     "output_type": "stream",
     "text": [
      "BEST PARAMS: {'C': 10}\n",
      "\n",
      "0.422 (+/-0.229) for {'C': 0.001}\n",
      "0.733 (+/-0.215) for {'C': 0.01}\n",
      "0.867 (+/-0.166) for {'C': 0.1}\n",
      "0.933 (+/-0.163) for {'C': 1}\n",
      "0.944 (+/-0.172) for {'C': 10}\n",
      "0.933 (+/-0.163) for {'C': 100}\n",
      "0.922 (+/-0.206) for {'C': 1000}\n"
     ]
    }
   ],
   "source": [
    "from sklearn.linear_model import LogisticRegression\n",
    "\n",
    "lr = LogisticRegression()\n",
    "parameters = {\n",
    "    'C': [0.001, 0.01, 0.1, 1, 10, 100, 1000]\n",
    "        }\n",
    "\n",
    "cv_lr = GridSearchCV(lr, parameters, cv=5)\n",
    "cv_lr.fit(tr_features, tr_labels.values.ravel())\n",
    "\n",
    "print_results(cv_lr)"
   ]
  },
  {
   "cell_type": "markdown",
   "metadata": {},
   "source": [
    "## Write out pickled models"
   ]
  },
  {
   "cell_type": "code",
   "execution_count": 26,
   "metadata": {},
   "outputs": [],
   "source": [
    "import joblib\n",
    "import warnings\n",
    "warnings.filterwarnings('ignore', category=FutureWarning)\n",
    "warnings.filterwarnings('ignore', category=DeprecationWarning)"
   ]
  },
  {
   "cell_type": "code",
   "execution_count": 27,
   "metadata": {},
   "outputs": [
    {
     "data": {
      "text/plain": [
       "['../../../RF_model.pkl']"
      ]
     },
     "execution_count": 27,
     "metadata": {},
     "output_type": "execute_result"
    }
   ],
   "source": [
    "joblib.dump(cv.best_estimator_, '../../../RF_model.pkl')"
   ]
  },
  {
   "cell_type": "code",
   "execution_count": 28,
   "metadata": {},
   "outputs": [
    {
     "data": {
      "text/plain": [
       "['../../../SVM_model.pkl']"
      ]
     },
     "execution_count": 28,
     "metadata": {},
     "output_type": "execute_result"
    }
   ],
   "source": [
    "joblib.dump(cv_svm.best_estimator_, '../../../SVM_model.pkl')"
   ]
  },
  {
   "cell_type": "code",
   "execution_count": 29,
   "metadata": {},
   "outputs": [
    {
     "data": {
      "text/plain": [
       "['../../../LR_model.pkl']"
      ]
     },
     "execution_count": 29,
     "metadata": {},
     "output_type": "execute_result"
    }
   ],
   "source": [
    "joblib.dump(cv_lr.best_estimator_, '../../../LR_model.pkl')"
   ]
  },
  {
   "cell_type": "markdown",
   "metadata": {},
   "source": [
    "## Comparing Model results on Validation and Test"
   ]
  },
  {
   "cell_type": "code",
   "execution_count": 30,
   "metadata": {},
   "outputs": [],
   "source": [
    "from time import time\n",
    "import warnings\n",
    "from sklearn.metrics import accuracy_score, precision_score, recall_score\n",
    "\n",
    "val_features = pd.read_csv('val_features.csv')\n",
    "val_labels = pd.read_csv('val_labels.csv')\n",
    "\n",
    "te_features = pd.read_csv('test_features.csv')\n",
    "te_labels = pd.read_csv('test_labels.csv')"
   ]
  },
  {
   "cell_type": "code",
   "execution_count": 31,
   "metadata": {},
   "outputs": [],
   "source": [
    "models = {}\n",
    "\n",
    "for mdl in ['LR', 'SVM', 'RF']:\n",
    "    models[mdl] = joblib.load('../../../{}_model.pkl'.format(mdl))"
   ]
  },
  {
   "cell_type": "code",
   "execution_count": 32,
   "metadata": {},
   "outputs": [
    {
     "data": {
      "text/plain": [
       "{'LR': LogisticRegression(C=10),\n",
       " 'RF': RandomForestClassifier(max_depth=10, n_estimators=50),\n",
       " 'SVM': SVC(C=1)}"
      ]
     },
     "execution_count": 32,
     "metadata": {},
     "output_type": "execute_result"
    }
   ],
   "source": [
    "models"
   ]
  },
  {
   "cell_type": "code",
   "execution_count": 33,
   "metadata": {},
   "outputs": [],
   "source": [
    "def evaluate_model(name, model, features, labels):\n",
    "    start = time()\n",
    "    pred = model.predict(features)\n",
    "    end = time()\n",
    "    accuracy = round(accuracy_score(labels, pred), 3)\n",
    "    precision = round(precision_score(labels, pred, average='macro'), 3)\n",
    "    recall = round(recall_score(labels, pred, average='macro'), 3)\n",
    "    print('{} -- Accuracy: {} / Precision: {} / Recall: {} / Latency: {}ms'.format(name,\n",
    "                                                                                   accuracy,\n",
    "                                                                                   precision,\n",
    "                                                                                   recall,\n",
    "                                                                                   round((end - start)*1000, 1)))"
   ]
  },
  {
   "cell_type": "code",
   "execution_count": 34,
   "metadata": {},
   "outputs": [
    {
     "name": "stdout",
     "output_type": "stream",
     "text": [
      "LR -- Accuracy: 0.933 / Precision: 0.919 / Recall: 0.919 / Latency: 4.0ms\n",
      "SVM -- Accuracy: 0.967 / Precision: 0.976 / Recall: 0.944 / Latency: 4.0ms\n",
      "RF -- Accuracy: 0.9 / Precision: 0.877 / Recall: 0.893 / Latency: 16.0ms\n"
     ]
    }
   ],
   "source": [
    "for name, mdl in models.items():\n",
    "    evaluate_model(name, mdl, val_features, val_labels)"
   ]
  },
  {
   "cell_type": "markdown",
   "metadata": {},
   "source": [
    "We can see from the above scores that SVM performs the best on the validation data, so we'll check for the test data next."
   ]
  },
  {
   "cell_type": "code",
   "execution_count": 35,
   "metadata": {},
   "outputs": [
    {
     "name": "stdout",
     "output_type": "stream",
     "text": [
      "SVM -- Accuracy: 1.0 / Precision: 1.0 / Recall: 1.0 / Latency: 4.0ms\n",
      "Random Forest -- Accuracy: 0.967 / Precision: 0.974 / Recall: 0.944 / Latency: 16.0ms\n",
      "Logistic Regression -- Accuracy: 1.0 / Precision: 1.0 / Recall: 1.0 / Latency: 3.0ms\n"
     ]
    }
   ],
   "source": [
    "evaluate_model('SVM', models['SVM'], te_features, te_labels)\n",
    "evaluate_model('Random Forest', models['RF'], te_features, te_labels)\n",
    "evaluate_model('Logistic Regression', models['LR'], te_features, te_labels)"
   ]
  },
  {
   "cell_type": "markdown",
   "metadata": {},
   "source": [
    "The SVM model performs the best on the Validation and Test Set, the Logistic Regression model also had great scores on the test set but the SVM model performed better on the validation set. They also had similar runtime, while the random forest performed the least among the 3 models and also had a longer run time."
   ]
  },
  {
   "cell_type": "markdown",
   "metadata": {},
   "source": [
    "## Splitting Data into train, validation and test set (80.10.10)"
   ]
  },
  {
   "cell_type": "code",
   "execution_count": 36,
   "metadata": {},
   "outputs": [],
   "source": [
    "X_train1, X_test1, y_train1, y_test1 = train_test_split(features, labels, test_size=0.2, random_state=42)\n",
    "X_test1, X_val1, y_test1, y_val1 = train_test_split(X_test1, y_test1, test_size=0.5, random_state=42)"
   ]
  },
  {
   "cell_type": "code",
   "execution_count": 37,
   "metadata": {},
   "outputs": [
    {
     "name": "stdout",
     "output_type": "stream",
     "text": [
      "0.8\n",
      "0.1\n",
      "0.1\n"
     ]
    }
   ],
   "source": [
    "for dataset in [y_train1, y_val1, y_test1]:\n",
    "    print(round(len(dataset) / len(labels), 2))"
   ]
  },
  {
   "cell_type": "code",
   "execution_count": 38,
   "metadata": {},
   "outputs": [],
   "source": [
    "X_train1.to_csv('train_features1.csv', index=False)\n",
    "X_val1.to_csv('val_features1.csv', index=False)\n",
    "X_test1.to_csv('test_features1.csv', index=False)\n",
    "\n",
    "y_train1.to_csv('train_labels1.csv', index=False)\n",
    "y_val1.to_csv('val_labels1.csv', index=False)\n",
    "y_test1.to_csv('test_labels1.csv', index=False)"
   ]
  },
  {
   "cell_type": "markdown",
   "metadata": {},
   "source": [
    "### Hyperparameter tuning for 80.10.10 split\n",
    "\n",
    "We do the hyperparameter tuning on RandomForestClassifer, SVM, and Logistic Regression Models"
   ]
  },
  {
   "cell_type": "code",
   "execution_count": 41,
   "metadata": {},
   "outputs": [],
   "source": [
    "tr_features1 = pd.read_csv('train_features1.csv')\n",
    "tr_labels1 = pd.read_csv('train_labels1.csv')"
   ]
  },
  {
   "cell_type": "code",
   "execution_count": 43,
   "metadata": {},
   "outputs": [
    {
     "name": "stdout",
     "output_type": "stream",
     "text": [
      "BEST PARAMS: {'max_depth': 2, 'n_estimators': 100}\n",
      "\n",
      "0.883 (+/-0.232) for {'max_depth': 2, 'n_estimators': 5}\n",
      "0.917 (+/-0.139) for {'max_depth': 2, 'n_estimators': 50}\n",
      "0.925 (+/-0.143) for {'max_depth': 2, 'n_estimators': 100}\n",
      "0.917 (+/-0.129) for {'max_depth': 10, 'n_estimators': 5}\n",
      "0.925 (+/-0.153) for {'max_depth': 10, 'n_estimators': 50}\n",
      "0.925 (+/-0.153) for {'max_depth': 10, 'n_estimators': 100}\n",
      "0.908 (+/-0.133) for {'max_depth': 20, 'n_estimators': 5}\n",
      "0.917 (+/-0.139) for {'max_depth': 20, 'n_estimators': 50}\n",
      "0.925 (+/-0.153) for {'max_depth': 20, 'n_estimators': 100}\n",
      "0.917 (+/-0.175) for {'max_depth': None, 'n_estimators': 5}\n",
      "0.925 (+/-0.153) for {'max_depth': None, 'n_estimators': 50}\n",
      "0.925 (+/-0.153) for {'max_depth': None, 'n_estimators': 100}\n"
     ]
    }
   ],
   "source": [
    "#Grid Search for RandomForestClassifier\n",
    "rf = RandomForestClassifier()\n",
    "parameters = {\n",
    "    'n_estimators': [5, 50, 100],\n",
    "    'max_depth': [2, 10, 20, None]\n",
    "}\n",
    "\n",
    "cv1 = GridSearchCV(rf, parameters, cv=5)\n",
    "cv1.fit(tr_features1, tr_labels1.values.ravel())\n",
    "\n",
    "print_results(cv1)"
   ]
  },
  {
   "cell_type": "code",
   "execution_count": 44,
   "metadata": {},
   "outputs": [
    {
     "name": "stdout",
     "output_type": "stream",
     "text": [
      "BEST PARAMS: {'C': 1, 'kernel': 'rbf'}\n",
      "\n",
      "0.933 (+/-0.113) for {'C': 0.1, 'kernel': 'linear'}\n",
      "0.867 (+/-0.062) for {'C': 0.1, 'kernel': 'rbf'}\n",
      "0.942 (+/-0.113) for {'C': 1, 'kernel': 'linear'}\n",
      "0.95 (+/-0.122) for {'C': 1, 'kernel': 'rbf'}\n",
      "0.942 (+/-0.113) for {'C': 10, 'kernel': 'linear'}\n",
      "0.942 (+/-0.113) for {'C': 10, 'kernel': 'rbf'}\n"
     ]
    }
   ],
   "source": [
    "#GridSearch for SVM \n",
    "parameters = {\n",
    "    'kernel': ['linear', 'rbf'],\n",
    "    'C': [0.1, 1, 10]\n",
    "        }\n",
    "\n",
    "cv_svm1 = GridSearchCV(sv, parameters, cv=5)\n",
    "cv_svm1.fit(tr_features1, tr_labels1.values.ravel())\n",
    "\n",
    "print_results(cv_svm1)"
   ]
  },
  {
   "cell_type": "code",
   "execution_count": 45,
   "metadata": {},
   "outputs": [
    {
     "name": "stdout",
     "output_type": "stream",
     "text": [
      "BEST PARAMS: {'C': 10}\n",
      "\n",
      "0.642 (+/-0.085) for {'C': 0.001}\n",
      "0.9 (+/-0.187) for {'C': 0.01}\n",
      "0.892 (+/-0.194) for {'C': 0.1}\n",
      "0.933 (+/-0.113) for {'C': 1}\n",
      "0.95 (+/-0.122) for {'C': 10}\n",
      "0.942 (+/-0.155) for {'C': 100}\n",
      "0.942 (+/-0.155) for {'C': 1000}\n"
     ]
    }
   ],
   "source": [
    "#Grid Search for Logistic Regression Model\n",
    "parameters = {\n",
    "    'C': [0.001, 0.01, 0.1, 1, 10, 100, 1000]\n",
    "        }\n",
    "\n",
    "cv_lr1 = GridSearchCV(lr, parameters, cv=5)\n",
    "cv_lr1.fit(tr_features1, tr_labels1.values.ravel())\n",
    "\n",
    "print_results(cv_lr1)"
   ]
  },
  {
   "cell_type": "code",
   "execution_count": 46,
   "metadata": {},
   "outputs": [
    {
     "data": {
      "text/plain": [
       "['../../../RF_model1.pkl']"
      ]
     },
     "execution_count": 46,
     "metadata": {},
     "output_type": "execute_result"
    }
   ],
   "source": [
    "joblib.dump(cv1.best_estimator_, '../../../RF_model1.pkl')"
   ]
  },
  {
   "cell_type": "code",
   "execution_count": 47,
   "metadata": {},
   "outputs": [
    {
     "data": {
      "text/plain": [
       "['../../../SVM_model1.pkl']"
      ]
     },
     "execution_count": 47,
     "metadata": {},
     "output_type": "execute_result"
    }
   ],
   "source": [
    "joblib.dump(cv_svm1.best_estimator_, '../../../SVM_model1.pkl')"
   ]
  },
  {
   "cell_type": "code",
   "execution_count": 48,
   "metadata": {},
   "outputs": [
    {
     "data": {
      "text/plain": [
       "['../../../LR_model1.pkl']"
      ]
     },
     "execution_count": 48,
     "metadata": {},
     "output_type": "execute_result"
    }
   ],
   "source": [
    "joblib.dump(cv_lr1.best_estimator_, '../../../LR_model1.pkl')"
   ]
  },
  {
   "cell_type": "markdown",
   "metadata": {},
   "source": [
    "## Comparing Model results on Validation and Test for 80-10-10 Split"
   ]
  },
  {
   "cell_type": "code",
   "execution_count": 49,
   "metadata": {},
   "outputs": [],
   "source": [
    "val_features1 = pd.read_csv('val_features1.csv')\n",
    "val_labels1 = pd.read_csv('val_labels1.csv')\n",
    "\n",
    "te_features1 = pd.read_csv('test_features1.csv')\n",
    "te_labels1 = pd.read_csv('test_labels1.csv')"
   ]
  },
  {
   "cell_type": "code",
   "execution_count": 50,
   "metadata": {},
   "outputs": [],
   "source": [
    "models1 = {}\n",
    "\n",
    "for mdl1 in ['LR', 'SVM', 'RF']:\n",
    "    models1[mdl1] = joblib.load('../../../{}_model1.pkl'.format(mdl1))"
   ]
  },
  {
   "cell_type": "code",
   "execution_count": 51,
   "metadata": {},
   "outputs": [
    {
     "data": {
      "text/plain": [
       "{'LR': LogisticRegression(C=10),\n",
       " 'RF': RandomForestClassifier(max_depth=2),\n",
       " 'SVM': SVC(C=1)}"
      ]
     },
     "execution_count": 51,
     "metadata": {},
     "output_type": "execute_result"
    }
   ],
   "source": [
    "models1"
   ]
  },
  {
   "cell_type": "code",
   "execution_count": 52,
   "metadata": {},
   "outputs": [],
   "source": [
    "def evaluate_model1(name, model1, features, labels):\n",
    "    start = time()\n",
    "    pred = model1.predict(features)\n",
    "    end = time()\n",
    "    accuracy = round(accuracy_score(labels, pred), 3)\n",
    "    precision = round(precision_score(labels, pred, average='macro'), 3)\n",
    "    recall = round(recall_score(labels, pred, average='macro'), 3)\n",
    "    print('{} -- Accuracy: {} / Precision: {} / Recall: {} / Latency: {}ms'.format(name,\n",
    "                                                                                   accuracy,\n",
    "                                                                                   precision,\n",
    "                                                                                   recall,\n",
    "                                                                                   round((end - start)*1000, 1)))"
   ]
  },
  {
   "cell_type": "code",
   "execution_count": 54,
   "metadata": {},
   "outputs": [
    {
     "name": "stdout",
     "output_type": "stream",
     "text": [
      "LR -- Accuracy: 0.933 / Precision: 0.933 / Recall: 0.944 / Latency: 4.0ms\n",
      "SVM -- Accuracy: 1.0 / Precision: 1.0 / Recall: 1.0 / Latency: 4.0ms\n",
      "RF -- Accuracy: 0.933 / Precision: 0.933 / Recall: 0.944 / Latency: 19.0ms\n"
     ]
    }
   ],
   "source": [
    "for name, mdl1 in models1.items():\n",
    "    evaluate_model1(name, mdl1, val_features1, val_labels1)"
   ]
  },
  {
   "cell_type": "code",
   "execution_count": 55,
   "metadata": {},
   "outputs": [
    {
     "name": "stdout",
     "output_type": "stream",
     "text": [
      "SVM -- Accuracy: 1.0 / Precision: 1.0 / Recall: 1.0 / Latency: 3.0ms\n",
      "Random Forest -- Accuracy: 1.0 / Precision: 1.0 / Recall: 1.0 / Latency: 20.0ms\n",
      "Logistic Regression -- Accuracy: 1.0 / Precision: 1.0 / Recall: 1.0 / Latency: 3.0ms\n"
     ]
    }
   ],
   "source": [
    "evaluate_model1('SVM', models1['SVM'], te_features1, te_labels1)\n",
    "evaluate_model1('Random Forest', models1['RF'], te_features1, te_labels1)\n",
    "evaluate_model1('Logistic Regression', models1['LR'], te_features1, te_labels1)"
   ]
  },
  {
   "cell_type": "markdown",
   "metadata": {},
   "source": [
    "For our 80-10-10 split, SVM model also performed the best in predicting. It had the better scores on the Validation and Test Data, although all the models had the same scores on the Test Data. The SVM model had the best scores in the Validation and Test Data."
   ]
  },
  {
   "cell_type": "markdown",
   "metadata": {},
   "source": [
    "## Conclusion\n",
    "\n",
    "#### 60-20-20 Split results for Validation Data:\n",
    "<li> LR -- Accuracy: 0.933 / Precision: 0.919 / Recall: 0.919 / Latency: 4.0ms </li>\n",
    "<li> SVM -- Accuracy: 0.967 / Precision: 0.976 / Recall: 0.944 / Latency: 4.0ms </li>\n",
    "<li> RF -- Accuracy: 0.9 / Precision: 0.877 / Recall: 0.893 / Latency: 16.0ms </li>\n",
    "\n",
    "#### 80-10-10 Split results for Validation Data:\n",
    "<li> LR -- Accuracy: 0.933 / Precision: 0.933 / Recall: 0.944 / Latency: 4.0ms </li>\n",
    "<li> SVM -- Accuracy: 1.0 / Precision: 1.0 / Recall: 1.0 / Latency: 4.0ms </li>\n",
    "<li> RF -- Accuracy: 0.933 / Precision: 0.933 / Recall: 0.944 / Latency: 19.0ms </li>\n",
    "\n",
    "While testing both splits on the validation data, we can see from the above scores that 80-10-10 split had the best scores for each model.\n",
    "Moving on to the Test Data;\n",
    "\n",
    "#### 60-20-20 Split results for Test Data:\n",
    "<li> SVM -- Accuracy: 1.0 / Precision: 1.0 / Recall: 1.0 / Latency: 4.0ms </li>\n",
    "<li> Random Forest -- Accuracy: 0.967 / Precision: 0.974 / Recall: 0.944 / Latency: 16.0ms </li>\n",
    "<li> Logistic Regression -- Accuracy: 1.0 / Precision: 1.0 / Recall: 1.0 / Latency: 3.0ms </li>\n",
    " \n",
    "#### 80-10-10 Split results for Test Data:\n",
    "<li> SVM -- Accuracy: 1.0 / Precision: 1.0 / Recall: 1.0 / Latency: 3.0ms </li>\n",
    "<li> Random Forest -- Accuracy: 1.0 / Precision: 1.0 / Recall: 1.0 / Latency: 20.0ms </li>\n",
    "<li> Logistic Regression -- Accuracy: 1.0 / Precision: 1.0 / Recall: 1.0 / Latency: 3.0ms </li>\n",
    "\n",
    "We can also see in the above scores that the 80-10-10 Split ratio had the better scores. From our two results above, we can conclude that the 80-10-10 split ratio has the best performance. But there may be a case of overfitting in our models since we're getting perfect scores."
   ]
  }
 ],
 "metadata": {
  "colab": {
   "collapsed_sections": [],
   "name": "Iris Notebook.ipynb",
   "provenance": []
  },
  "kernelspec": {
   "display_name": "Python 3",
   "language": "python",
   "name": "python3"
  },
  "language_info": {
   "codemirror_mode": {
    "name": "ipython",
    "version": 3
   },
   "file_extension": ".py",
   "mimetype": "text/x-python",
   "name": "python",
   "nbconvert_exporter": "python",
   "pygments_lexer": "ipython3",
   "version": "3.9.1"
  }
 },
 "nbformat": 4,
 "nbformat_minor": 1
}
