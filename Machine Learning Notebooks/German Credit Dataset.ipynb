{
 "cells": [
  {
   "cell_type": "markdown",
   "metadata": {},
   "source": [
    "***Context***: The original dataset contains 1000 entries with 20 categorial/symbolic attributes prepared by Prof. Hofmann. In this dataset, each entry represents a person who takes a credit by a bank. Each person is classified as good or bad credit risks according to the set of attributes. It is difficult to understand the original dataset due to its complicated system of categories and symbols. Thus, several columns are simply ignored, because they are not important, or their descriptions are obscure. The selected attributes are:\n",
    "- Age (numeric)\n",
    "- Sex (text: male, female)\n",
    "- Job (numeric: 0 - unskilled and non-resident, 1 - unskilled and resident, 2 - skilled, 3 - highly skilled)\n",
    "- Housing (text: own, rent, or free)\n",
    "- Saving accounts (text - little, moderate, quite rich, rich)\n",
    "- Checking account (numeric, in DM - Deutsch Mark)\n",
    "- Credit amount (numeric, in DM)\n",
    "- Duration (numeric, in month)\n",
    "- Purpose (text: car, furniture/equipment, radio/TV, domestic appliances, repairs, education, business, vacation/others)\n",
    "- Risk (Target value - Good or Bad Risk\n",
    "\n",
    "***Task***: Goal of this project is to cluster the customers and classify whether an applicant is considered a Good or a Bad credit risk for 1000 loan applicants"
   ]
  },
  {
   "cell_type": "code",
   "execution_count": 1,
   "metadata": {
    "id": "_8e9kHoV-zdQ"
   },
   "outputs": [],
   "source": [
    "import numpy as np\n",
    "import pandas as pd\n",
    "import seaborn as sns\n",
    "import matplotlib.pyplot as plt\n",
    "from sklearn.cluster import KMeans\n",
    "from scipy.spatial.distance import cdist\n",
    "from sklearn.decomposition import PCA\n",
    "\n",
    "import warnings\n",
    "warnings.simplefilter(\"ignore\")"
   ]
  },
  {
   "cell_type": "code",
   "execution_count": 14,
   "metadata": {
    "colab": {
     "base_uri": "https://localhost:8080/",
     "height": 206
    },
    "id": "9_pEr0Dl-6AM",
    "outputId": "1eaecc62-36ca-4922-ebfc-8517ef1b7c61"
   },
   "outputs": [
    {
     "data": {
      "text/html": [
       "\n",
       "  <div id=\"df-903c5c0a-7a80-4604-b5d9-ac8b4c3e1da9\">\n",
       "    <div class=\"colab-df-container\">\n",
       "      <div>\n",
       "<style scoped>\n",
       "    .dataframe tbody tr th:only-of-type {\n",
       "        vertical-align: middle;\n",
       "    }\n",
       "\n",
       "    .dataframe tbody tr th {\n",
       "        vertical-align: top;\n",
       "    }\n",
       "\n",
       "    .dataframe thead th {\n",
       "        text-align: right;\n",
       "    }\n",
       "</style>\n",
       "<table border=\"1\" class=\"dataframe\">\n",
       "  <thead>\n",
       "    <tr style=\"text-align: right;\">\n",
       "      <th></th>\n",
       "      <th>Age</th>\n",
       "      <th>Sex</th>\n",
       "      <th>Job</th>\n",
       "      <th>Housing</th>\n",
       "      <th>Saving accounts</th>\n",
       "      <th>Checking account</th>\n",
       "      <th>Credit amount</th>\n",
       "      <th>Duration</th>\n",
       "      <th>Purpose</th>\n",
       "      <th>Risk</th>\n",
       "    </tr>\n",
       "  </thead>\n",
       "  <tbody>\n",
       "    <tr>\n",
       "      <th>0</th>\n",
       "      <td>67</td>\n",
       "      <td>male</td>\n",
       "      <td>2</td>\n",
       "      <td>own</td>\n",
       "      <td>NaN</td>\n",
       "      <td>little</td>\n",
       "      <td>1169</td>\n",
       "      <td>6</td>\n",
       "      <td>radio/TV</td>\n",
       "      <td>good</td>\n",
       "    </tr>\n",
       "    <tr>\n",
       "      <th>1</th>\n",
       "      <td>22</td>\n",
       "      <td>female</td>\n",
       "      <td>2</td>\n",
       "      <td>own</td>\n",
       "      <td>little</td>\n",
       "      <td>moderate</td>\n",
       "      <td>5951</td>\n",
       "      <td>48</td>\n",
       "      <td>radio/TV</td>\n",
       "      <td>bad</td>\n",
       "    </tr>\n",
       "    <tr>\n",
       "      <th>2</th>\n",
       "      <td>49</td>\n",
       "      <td>male</td>\n",
       "      <td>1</td>\n",
       "      <td>own</td>\n",
       "      <td>little</td>\n",
       "      <td>NaN</td>\n",
       "      <td>2096</td>\n",
       "      <td>12</td>\n",
       "      <td>education</td>\n",
       "      <td>good</td>\n",
       "    </tr>\n",
       "    <tr>\n",
       "      <th>3</th>\n",
       "      <td>45</td>\n",
       "      <td>male</td>\n",
       "      <td>2</td>\n",
       "      <td>free</td>\n",
       "      <td>little</td>\n",
       "      <td>little</td>\n",
       "      <td>7882</td>\n",
       "      <td>42</td>\n",
       "      <td>furniture/equipment</td>\n",
       "      <td>good</td>\n",
       "    </tr>\n",
       "    <tr>\n",
       "      <th>4</th>\n",
       "      <td>53</td>\n",
       "      <td>male</td>\n",
       "      <td>2</td>\n",
       "      <td>free</td>\n",
       "      <td>little</td>\n",
       "      <td>little</td>\n",
       "      <td>4870</td>\n",
       "      <td>24</td>\n",
       "      <td>car</td>\n",
       "      <td>bad</td>\n",
       "    </tr>\n",
       "  </tbody>\n",
       "</table>\n",
       "</div>\n",
       "      <button class=\"colab-df-convert\" onclick=\"convertToInteractive('df-903c5c0a-7a80-4604-b5d9-ac8b4c3e1da9')\"\n",
       "              title=\"Convert this dataframe to an interactive table.\"\n",
       "              style=\"display:none;\">\n",
       "        \n",
       "  <svg xmlns=\"http://www.w3.org/2000/svg\" height=\"24px\"viewBox=\"0 0 24 24\"\n",
       "       width=\"24px\">\n",
       "    <path d=\"M0 0h24v24H0V0z\" fill=\"none\"/>\n",
       "    <path d=\"M18.56 5.44l.94 2.06.94-2.06 2.06-.94-2.06-.94-.94-2.06-.94 2.06-2.06.94zm-11 1L8.5 8.5l.94-2.06 2.06-.94-2.06-.94L8.5 2.5l-.94 2.06-2.06.94zm10 10l.94 2.06.94-2.06 2.06-.94-2.06-.94-.94-2.06-.94 2.06-2.06.94z\"/><path d=\"M17.41 7.96l-1.37-1.37c-.4-.4-.92-.59-1.43-.59-.52 0-1.04.2-1.43.59L10.3 9.45l-7.72 7.72c-.78.78-.78 2.05 0 2.83L4 21.41c.39.39.9.59 1.41.59.51 0 1.02-.2 1.41-.59l7.78-7.78 2.81-2.81c.8-.78.8-2.07 0-2.86zM5.41 20L4 18.59l7.72-7.72 1.47 1.35L5.41 20z\"/>\n",
       "  </svg>\n",
       "      </button>\n",
       "      \n",
       "  <style>\n",
       "    .colab-df-container {\n",
       "      display:flex;\n",
       "      flex-wrap:wrap;\n",
       "      gap: 12px;\n",
       "    }\n",
       "\n",
       "    .colab-df-convert {\n",
       "      background-color: #E8F0FE;\n",
       "      border: none;\n",
       "      border-radius: 50%;\n",
       "      cursor: pointer;\n",
       "      display: none;\n",
       "      fill: #1967D2;\n",
       "      height: 32px;\n",
       "      padding: 0 0 0 0;\n",
       "      width: 32px;\n",
       "    }\n",
       "\n",
       "    .colab-df-convert:hover {\n",
       "      background-color: #E2EBFA;\n",
       "      box-shadow: 0px 1px 2px rgba(60, 64, 67, 0.3), 0px 1px 3px 1px rgba(60, 64, 67, 0.15);\n",
       "      fill: #174EA6;\n",
       "    }\n",
       "\n",
       "    [theme=dark] .colab-df-convert {\n",
       "      background-color: #3B4455;\n",
       "      fill: #D2E3FC;\n",
       "    }\n",
       "\n",
       "    [theme=dark] .colab-df-convert:hover {\n",
       "      background-color: #434B5C;\n",
       "      box-shadow: 0px 1px 3px 1px rgba(0, 0, 0, 0.15);\n",
       "      filter: drop-shadow(0px 1px 2px rgba(0, 0, 0, 0.3));\n",
       "      fill: #FFFFFF;\n",
       "    }\n",
       "  </style>\n",
       "\n",
       "      <script>\n",
       "        const buttonEl =\n",
       "          document.querySelector('#df-903c5c0a-7a80-4604-b5d9-ac8b4c3e1da9 button.colab-df-convert');\n",
       "        buttonEl.style.display =\n",
       "          google.colab.kernel.accessAllowed ? 'block' : 'none';\n",
       "\n",
       "        async function convertToInteractive(key) {\n",
       "          const element = document.querySelector('#df-903c5c0a-7a80-4604-b5d9-ac8b4c3e1da9');\n",
       "          const dataTable =\n",
       "            await google.colab.kernel.invokeFunction('convertToInteractive',\n",
       "                                                     [key], {});\n",
       "          if (!dataTable) return;\n",
       "\n",
       "          const docLinkHtml = 'Like what you see? Visit the ' +\n",
       "            '<a target=\"_blank\" href=https://colab.research.google.com/notebooks/data_table.ipynb>data table notebook</a>'\n",
       "            + ' to learn more about interactive tables.';\n",
       "          element.innerHTML = '';\n",
       "          dataTable['output_type'] = 'display_data';\n",
       "          await google.colab.output.renderOutput(dataTable, element);\n",
       "          const docLink = document.createElement('div');\n",
       "          docLink.innerHTML = docLinkHtml;\n",
       "          element.appendChild(docLink);\n",
       "        }\n",
       "      </script>\n",
       "    </div>\n",
       "  </div>\n",
       "  "
      ],
      "text/plain": [
       "   Age     Sex  Job Housing Saving accounts Checking account  Credit amount  \\\n",
       "0   67    male    2     own             NaN           little           1169   \n",
       "1   22  female    2     own          little         moderate           5951   \n",
       "2   49    male    1     own          little              NaN           2096   \n",
       "3   45    male    2    free          little           little           7882   \n",
       "4   53    male    2    free          little           little           4870   \n",
       "\n",
       "   Duration              Purpose  Risk  \n",
       "0         6             radio/TV  good  \n",
       "1        48             radio/TV   bad  \n",
       "2        12            education  good  \n",
       "3        42  furniture/equipment  good  \n",
       "4        24                  car   bad  "
      ]
     },
     "execution_count": 14,
     "metadata": {},
     "output_type": "execute_result"
    }
   ],
   "source": [
    "df = pd.read_excel(\"german_credit_data.xlsx\")\n",
    "df.head()"
   ]
  },
  {
   "cell_type": "code",
   "execution_count": 15,
   "metadata": {
    "colab": {
     "base_uri": "https://localhost:8080/"
    },
    "id": "f21UafHw_5g3",
    "outputId": "b5d0ae3b-78f3-452f-c43a-c549a148c97d"
   },
   "outputs": [
    {
     "name": "stdout",
     "output_type": "stream",
     "text": [
      "<class 'pandas.core.frame.DataFrame'>\n",
      "RangeIndex: 1000 entries, 0 to 999\n",
      "Data columns (total 10 columns):\n",
      " #   Column            Non-Null Count  Dtype \n",
      "---  ------            --------------  ----- \n",
      " 0   Age               1000 non-null   int64 \n",
      " 1   Sex               1000 non-null   object\n",
      " 2   Job               1000 non-null   int64 \n",
      " 3   Housing           1000 non-null   object\n",
      " 4   Saving accounts   817 non-null    object\n",
      " 5   Checking account  606 non-null    object\n",
      " 6   Credit amount     1000 non-null   int64 \n",
      " 7   Duration          1000 non-null   int64 \n",
      " 8   Purpose           1000 non-null   object\n",
      " 9   Risk              1000 non-null   object\n",
      "dtypes: int64(4), object(6)\n",
      "memory usage: 78.2+ KB\n"
     ]
    }
   ],
   "source": [
    "df.info()"
   ]
  },
  {
   "cell_type": "code",
   "execution_count": 16,
   "metadata": {
    "colab": {
     "base_uri": "https://localhost:8080/",
     "height": 300
    },
    "id": "DP_DylI4Atsi",
    "outputId": "7ef37790-542a-44fc-8d3e-08640563d89b"
   },
   "outputs": [
    {
     "data": {
      "text/html": [
       "\n",
       "  <div id=\"df-eedfbc64-83d8-4dba-98f5-b8b79a90abb1\">\n",
       "    <div class=\"colab-df-container\">\n",
       "      <div>\n",
       "<style scoped>\n",
       "    .dataframe tbody tr th:only-of-type {\n",
       "        vertical-align: middle;\n",
       "    }\n",
       "\n",
       "    .dataframe tbody tr th {\n",
       "        vertical-align: top;\n",
       "    }\n",
       "\n",
       "    .dataframe thead th {\n",
       "        text-align: right;\n",
       "    }\n",
       "</style>\n",
       "<table border=\"1\" class=\"dataframe\">\n",
       "  <thead>\n",
       "    <tr style=\"text-align: right;\">\n",
       "      <th></th>\n",
       "      <th>Age</th>\n",
       "      <th>Job</th>\n",
       "      <th>Credit amount</th>\n",
       "      <th>Duration</th>\n",
       "    </tr>\n",
       "  </thead>\n",
       "  <tbody>\n",
       "    <tr>\n",
       "      <th>count</th>\n",
       "      <td>1000.000000</td>\n",
       "      <td>1000.000000</td>\n",
       "      <td>1000.000000</td>\n",
       "      <td>1000.000000</td>\n",
       "    </tr>\n",
       "    <tr>\n",
       "      <th>mean</th>\n",
       "      <td>35.546000</td>\n",
       "      <td>1.904000</td>\n",
       "      <td>3271.258000</td>\n",
       "      <td>20.903000</td>\n",
       "    </tr>\n",
       "    <tr>\n",
       "      <th>std</th>\n",
       "      <td>11.375469</td>\n",
       "      <td>0.653614</td>\n",
       "      <td>2822.736876</td>\n",
       "      <td>12.058814</td>\n",
       "    </tr>\n",
       "    <tr>\n",
       "      <th>min</th>\n",
       "      <td>19.000000</td>\n",
       "      <td>0.000000</td>\n",
       "      <td>250.000000</td>\n",
       "      <td>4.000000</td>\n",
       "    </tr>\n",
       "    <tr>\n",
       "      <th>25%</th>\n",
       "      <td>27.000000</td>\n",
       "      <td>2.000000</td>\n",
       "      <td>1365.500000</td>\n",
       "      <td>12.000000</td>\n",
       "    </tr>\n",
       "    <tr>\n",
       "      <th>50%</th>\n",
       "      <td>33.000000</td>\n",
       "      <td>2.000000</td>\n",
       "      <td>2319.500000</td>\n",
       "      <td>18.000000</td>\n",
       "    </tr>\n",
       "    <tr>\n",
       "      <th>75%</th>\n",
       "      <td>42.000000</td>\n",
       "      <td>2.000000</td>\n",
       "      <td>3972.250000</td>\n",
       "      <td>24.000000</td>\n",
       "    </tr>\n",
       "    <tr>\n",
       "      <th>max</th>\n",
       "      <td>75.000000</td>\n",
       "      <td>3.000000</td>\n",
       "      <td>18424.000000</td>\n",
       "      <td>72.000000</td>\n",
       "    </tr>\n",
       "  </tbody>\n",
       "</table>\n",
       "</div>\n",
       "      <button class=\"colab-df-convert\" onclick=\"convertToInteractive('df-eedfbc64-83d8-4dba-98f5-b8b79a90abb1')\"\n",
       "              title=\"Convert this dataframe to an interactive table.\"\n",
       "              style=\"display:none;\">\n",
       "        \n",
       "  <svg xmlns=\"http://www.w3.org/2000/svg\" height=\"24px\"viewBox=\"0 0 24 24\"\n",
       "       width=\"24px\">\n",
       "    <path d=\"M0 0h24v24H0V0z\" fill=\"none\"/>\n",
       "    <path d=\"M18.56 5.44l.94 2.06.94-2.06 2.06-.94-2.06-.94-.94-2.06-.94 2.06-2.06.94zm-11 1L8.5 8.5l.94-2.06 2.06-.94-2.06-.94L8.5 2.5l-.94 2.06-2.06.94zm10 10l.94 2.06.94-2.06 2.06-.94-2.06-.94-.94-2.06-.94 2.06-2.06.94z\"/><path d=\"M17.41 7.96l-1.37-1.37c-.4-.4-.92-.59-1.43-.59-.52 0-1.04.2-1.43.59L10.3 9.45l-7.72 7.72c-.78.78-.78 2.05 0 2.83L4 21.41c.39.39.9.59 1.41.59.51 0 1.02-.2 1.41-.59l7.78-7.78 2.81-2.81c.8-.78.8-2.07 0-2.86zM5.41 20L4 18.59l7.72-7.72 1.47 1.35L5.41 20z\"/>\n",
       "  </svg>\n",
       "      </button>\n",
       "      \n",
       "  <style>\n",
       "    .colab-df-container {\n",
       "      display:flex;\n",
       "      flex-wrap:wrap;\n",
       "      gap: 12px;\n",
       "    }\n",
       "\n",
       "    .colab-df-convert {\n",
       "      background-color: #E8F0FE;\n",
       "      border: none;\n",
       "      border-radius: 50%;\n",
       "      cursor: pointer;\n",
       "      display: none;\n",
       "      fill: #1967D2;\n",
       "      height: 32px;\n",
       "      padding: 0 0 0 0;\n",
       "      width: 32px;\n",
       "    }\n",
       "\n",
       "    .colab-df-convert:hover {\n",
       "      background-color: #E2EBFA;\n",
       "      box-shadow: 0px 1px 2px rgba(60, 64, 67, 0.3), 0px 1px 3px 1px rgba(60, 64, 67, 0.15);\n",
       "      fill: #174EA6;\n",
       "    }\n",
       "\n",
       "    [theme=dark] .colab-df-convert {\n",
       "      background-color: #3B4455;\n",
       "      fill: #D2E3FC;\n",
       "    }\n",
       "\n",
       "    [theme=dark] .colab-df-convert:hover {\n",
       "      background-color: #434B5C;\n",
       "      box-shadow: 0px 1px 3px 1px rgba(0, 0, 0, 0.15);\n",
       "      filter: drop-shadow(0px 1px 2px rgba(0, 0, 0, 0.3));\n",
       "      fill: #FFFFFF;\n",
       "    }\n",
       "  </style>\n",
       "\n",
       "      <script>\n",
       "        const buttonEl =\n",
       "          document.querySelector('#df-eedfbc64-83d8-4dba-98f5-b8b79a90abb1 button.colab-df-convert');\n",
       "        buttonEl.style.display =\n",
       "          google.colab.kernel.accessAllowed ? 'block' : 'none';\n",
       "\n",
       "        async function convertToInteractive(key) {\n",
       "          const element = document.querySelector('#df-eedfbc64-83d8-4dba-98f5-b8b79a90abb1');\n",
       "          const dataTable =\n",
       "            await google.colab.kernel.invokeFunction('convertToInteractive',\n",
       "                                                     [key], {});\n",
       "          if (!dataTable) return;\n",
       "\n",
       "          const docLinkHtml = 'Like what you see? Visit the ' +\n",
       "            '<a target=\"_blank\" href=https://colab.research.google.com/notebooks/data_table.ipynb>data table notebook</a>'\n",
       "            + ' to learn more about interactive tables.';\n",
       "          element.innerHTML = '';\n",
       "          dataTable['output_type'] = 'display_data';\n",
       "          await google.colab.output.renderOutput(dataTable, element);\n",
       "          const docLink = document.createElement('div');\n",
       "          docLink.innerHTML = docLinkHtml;\n",
       "          element.appendChild(docLink);\n",
       "        }\n",
       "      </script>\n",
       "    </div>\n",
       "  </div>\n",
       "  "
      ],
      "text/plain": [
       "               Age          Job  Credit amount     Duration\n",
       "count  1000.000000  1000.000000    1000.000000  1000.000000\n",
       "mean     35.546000     1.904000    3271.258000    20.903000\n",
       "std      11.375469     0.653614    2822.736876    12.058814\n",
       "min      19.000000     0.000000     250.000000     4.000000\n",
       "25%      27.000000     2.000000    1365.500000    12.000000\n",
       "50%      33.000000     2.000000    2319.500000    18.000000\n",
       "75%      42.000000     2.000000    3972.250000    24.000000\n",
       "max      75.000000     3.000000   18424.000000    72.000000"
      ]
     },
     "execution_count": 16,
     "metadata": {},
     "output_type": "execute_result"
    }
   ],
   "source": [
    "df.describe()"
   ]
  },
  {
   "cell_type": "code",
   "execution_count": 17,
   "metadata": {
    "colab": {
     "base_uri": "https://localhost:8080/",
     "height": 174
    },
    "id": "o_nuuMdAA1B-",
    "outputId": "1890aa4b-9574-48c7-eb81-ef0deee79276"
   },
   "outputs": [
    {
     "data": {
      "text/html": [
       "\n",
       "  <div id=\"df-b6601796-f3ec-47bf-aecc-5d755bcd3521\">\n",
       "    <div class=\"colab-df-container\">\n",
       "      <div>\n",
       "<style scoped>\n",
       "    .dataframe tbody tr th:only-of-type {\n",
       "        vertical-align: middle;\n",
       "    }\n",
       "\n",
       "    .dataframe tbody tr th {\n",
       "        vertical-align: top;\n",
       "    }\n",
       "\n",
       "    .dataframe thead th {\n",
       "        text-align: right;\n",
       "    }\n",
       "</style>\n",
       "<table border=\"1\" class=\"dataframe\">\n",
       "  <thead>\n",
       "    <tr style=\"text-align: right;\">\n",
       "      <th></th>\n",
       "      <th>Sex</th>\n",
       "      <th>Housing</th>\n",
       "      <th>Saving accounts</th>\n",
       "      <th>Checking account</th>\n",
       "      <th>Purpose</th>\n",
       "      <th>Risk</th>\n",
       "    </tr>\n",
       "  </thead>\n",
       "  <tbody>\n",
       "    <tr>\n",
       "      <th>count</th>\n",
       "      <td>1000</td>\n",
       "      <td>1000</td>\n",
       "      <td>817</td>\n",
       "      <td>606</td>\n",
       "      <td>1000</td>\n",
       "      <td>1000</td>\n",
       "    </tr>\n",
       "    <tr>\n",
       "      <th>unique</th>\n",
       "      <td>2</td>\n",
       "      <td>3</td>\n",
       "      <td>4</td>\n",
       "      <td>3</td>\n",
       "      <td>8</td>\n",
       "      <td>2</td>\n",
       "    </tr>\n",
       "    <tr>\n",
       "      <th>top</th>\n",
       "      <td>male</td>\n",
       "      <td>own</td>\n",
       "      <td>little</td>\n",
       "      <td>little</td>\n",
       "      <td>car</td>\n",
       "      <td>good</td>\n",
       "    </tr>\n",
       "    <tr>\n",
       "      <th>freq</th>\n",
       "      <td>690</td>\n",
       "      <td>713</td>\n",
       "      <td>603</td>\n",
       "      <td>274</td>\n",
       "      <td>337</td>\n",
       "      <td>700</td>\n",
       "    </tr>\n",
       "  </tbody>\n",
       "</table>\n",
       "</div>\n",
       "      <button class=\"colab-df-convert\" onclick=\"convertToInteractive('df-b6601796-f3ec-47bf-aecc-5d755bcd3521')\"\n",
       "              title=\"Convert this dataframe to an interactive table.\"\n",
       "              style=\"display:none;\">\n",
       "        \n",
       "  <svg xmlns=\"http://www.w3.org/2000/svg\" height=\"24px\"viewBox=\"0 0 24 24\"\n",
       "       width=\"24px\">\n",
       "    <path d=\"M0 0h24v24H0V0z\" fill=\"none\"/>\n",
       "    <path d=\"M18.56 5.44l.94 2.06.94-2.06 2.06-.94-2.06-.94-.94-2.06-.94 2.06-2.06.94zm-11 1L8.5 8.5l.94-2.06 2.06-.94-2.06-.94L8.5 2.5l-.94 2.06-2.06.94zm10 10l.94 2.06.94-2.06 2.06-.94-2.06-.94-.94-2.06-.94 2.06-2.06.94z\"/><path d=\"M17.41 7.96l-1.37-1.37c-.4-.4-.92-.59-1.43-.59-.52 0-1.04.2-1.43.59L10.3 9.45l-7.72 7.72c-.78.78-.78 2.05 0 2.83L4 21.41c.39.39.9.59 1.41.59.51 0 1.02-.2 1.41-.59l7.78-7.78 2.81-2.81c.8-.78.8-2.07 0-2.86zM5.41 20L4 18.59l7.72-7.72 1.47 1.35L5.41 20z\"/>\n",
       "  </svg>\n",
       "      </button>\n",
       "      \n",
       "  <style>\n",
       "    .colab-df-container {\n",
       "      display:flex;\n",
       "      flex-wrap:wrap;\n",
       "      gap: 12px;\n",
       "    }\n",
       "\n",
       "    .colab-df-convert {\n",
       "      background-color: #E8F0FE;\n",
       "      border: none;\n",
       "      border-radius: 50%;\n",
       "      cursor: pointer;\n",
       "      display: none;\n",
       "      fill: #1967D2;\n",
       "      height: 32px;\n",
       "      padding: 0 0 0 0;\n",
       "      width: 32px;\n",
       "    }\n",
       "\n",
       "    .colab-df-convert:hover {\n",
       "      background-color: #E2EBFA;\n",
       "      box-shadow: 0px 1px 2px rgba(60, 64, 67, 0.3), 0px 1px 3px 1px rgba(60, 64, 67, 0.15);\n",
       "      fill: #174EA6;\n",
       "    }\n",
       "\n",
       "    [theme=dark] .colab-df-convert {\n",
       "      background-color: #3B4455;\n",
       "      fill: #D2E3FC;\n",
       "    }\n",
       "\n",
       "    [theme=dark] .colab-df-convert:hover {\n",
       "      background-color: #434B5C;\n",
       "      box-shadow: 0px 1px 3px 1px rgba(0, 0, 0, 0.15);\n",
       "      filter: drop-shadow(0px 1px 2px rgba(0, 0, 0, 0.3));\n",
       "      fill: #FFFFFF;\n",
       "    }\n",
       "  </style>\n",
       "\n",
       "      <script>\n",
       "        const buttonEl =\n",
       "          document.querySelector('#df-b6601796-f3ec-47bf-aecc-5d755bcd3521 button.colab-df-convert');\n",
       "        buttonEl.style.display =\n",
       "          google.colab.kernel.accessAllowed ? 'block' : 'none';\n",
       "\n",
       "        async function convertToInteractive(key) {\n",
       "          const element = document.querySelector('#df-b6601796-f3ec-47bf-aecc-5d755bcd3521');\n",
       "          const dataTable =\n",
       "            await google.colab.kernel.invokeFunction('convertToInteractive',\n",
       "                                                     [key], {});\n",
       "          if (!dataTable) return;\n",
       "\n",
       "          const docLinkHtml = 'Like what you see? Visit the ' +\n",
       "            '<a target=\"_blank\" href=https://colab.research.google.com/notebooks/data_table.ipynb>data table notebook</a>'\n",
       "            + ' to learn more about interactive tables.';\n",
       "          element.innerHTML = '';\n",
       "          dataTable['output_type'] = 'display_data';\n",
       "          await google.colab.output.renderOutput(dataTable, element);\n",
       "          const docLink = document.createElement('div');\n",
       "          docLink.innerHTML = docLinkHtml;\n",
       "          element.appendChild(docLink);\n",
       "        }\n",
       "      </script>\n",
       "    </div>\n",
       "  </div>\n",
       "  "
      ],
      "text/plain": [
       "         Sex Housing Saving accounts Checking account Purpose  Risk\n",
       "count   1000    1000             817              606    1000  1000\n",
       "unique     2       3               4                3       8     2\n",
       "top     male     own          little           little     car  good\n",
       "freq     690     713             603              274     337   700"
      ]
     },
     "execution_count": 17,
     "metadata": {},
     "output_type": "execute_result"
    }
   ],
   "source": [
    "df.describe(include=['object'])"
   ]
  },
  {
   "cell_type": "code",
   "execution_count": 18,
   "metadata": {
    "colab": {
     "base_uri": "https://localhost:8080/"
    },
    "id": "L66sRFVV-7-P",
    "outputId": "3e738c88-64d5-46a1-8e75-3f24262f4ee7"
   },
   "outputs": [
    {
     "data": {
      "text/plain": [
       "Age                   0\n",
       "Sex                   0\n",
       "Job                   0\n",
       "Housing               0\n",
       "Saving accounts     183\n",
       "Checking account    394\n",
       "Credit amount         0\n",
       "Duration              0\n",
       "Purpose               0\n",
       "Risk                  0\n",
       "dtype: int64"
      ]
     },
     "execution_count": 18,
     "metadata": {},
     "output_type": "execute_result"
    }
   ],
   "source": [
    "#checking missing data\n",
    "df.isnull().sum()"
   ]
  },
  {
   "cell_type": "markdown",
   "metadata": {},
   "source": [
    "We notice some missing values in the Saving accounts and Checking Account columns"
   ]
  },
  {
   "cell_type": "code",
   "execution_count": 19,
   "metadata": {
    "colab": {
     "base_uri": "https://localhost:8080/",
     "height": 480
    },
    "id": "SenDYZ_RVjTB",
    "outputId": "75478384-52ee-476b-88a3-7e46f5706465"
   },
   "outputs": [
    {
     "name": "stdout",
     "output_type": "stream",
     "text": [
      "count        817\n",
      "unique         4\n",
      "top       little\n",
      "freq         603\n",
      "Name: Saving accounts, dtype: object\n"
     ]
    },
    {
     "data": {
      "image/png": "[encoded data removed]",
      "text/plain": [
       "<Figure size 864x432 with 1 Axes>"
      ]
     },
     "metadata": {
      "needs_background": "light"
     },
     "output_type": "display_data"
    }
   ],
   "source": [
    "# check Saving accounts distribution\n",
    "print(df['Saving accounts'].describe())\n",
    "\n",
    "plt.figure(figsize=(12,6))\n",
    "sns.countplot(x='Saving accounts',data = df)\n",
    "\n",
    "plt.show()"
   ]
  },
  {
   "cell_type": "markdown",
   "metadata": {
    "id": "EdDuXjPhV0Ey"
   },
   "source": [
    "From the above plot, we can see that the value of the saving account distribution. The most common value \"little\", (603/817), I decided to  assign all the missing value as \"little\""
   ]
  },
  {
   "cell_type": "code",
   "execution_count": 20,
   "metadata": {
    "colab": {
     "base_uri": "https://localhost:8080/"
    },
    "id": "McIRO4piVxA4",
    "outputId": "2051c7c9-afe7-4556-f666-a3390acc04b4"
   },
   "outputs": [
    {
     "data": {
      "text/plain": [
       "count       1000\n",
       "unique         4\n",
       "top       little\n",
       "freq         786\n",
       "Name: Saving accounts, dtype: object"
      ]
     },
     "execution_count": 20,
     "metadata": {},
     "output_type": "execute_result"
    }
   ],
   "source": [
    "# Assign missing vlaue with little\n",
    "\n",
    "df['Saving accounts'].fillna('little', inplace = True)\n",
    "df['Saving accounts'].describe()"
   ]
  },
  {
   "cell_type": "markdown",
   "metadata": {
    "id": "jFqQvgrxWhTx"
   },
   "source": [
    "Now we have no missing values in the Saving accounts column. Next we fill the checking account column."
   ]
  },
  {
   "cell_type": "code",
   "execution_count": 21,
   "metadata": {
    "colab": {
     "base_uri": "https://localhost:8080/",
     "height": 480
    },
    "id": "BPBJoadDWcl8",
    "outputId": "25acdaef-092b-4076-b3c0-a4c39431209d"
   },
   "outputs": [
    {
     "name": "stdout",
     "output_type": "stream",
     "text": [
      "count        606\n",
      "unique         3\n",
      "top       little\n",
      "freq         274\n",
      "Name: Checking account, dtype: object\n"
     ]
    },
    {
     "data": {
      "image/png": "[encoded data removed]",
      "text/plain": [
       "<Figure size 864x432 with 1 Axes>"
      ]
     },
     "metadata": {
      "needs_background": "light"
     },
     "output_type": "display_data"
    }
   ],
   "source": [
    "# check Checking accounts distribution\n",
    "print(df['Checking account'].describe())\n",
    "\n",
    "plt.figure(figsize=(12,6))\n",
    "sns.countplot(x='Checking account',data=df)\n",
    "\n",
    "plt.show()"
   ]
  },
  {
   "cell_type": "markdown",
   "metadata": {
    "id": "a_gojb5fXX2T"
   },
   "source": [
    "We can see that the current distribution is pretty even between Little and Moderate; and only small amount has value of rich. For this I can't seem to decide which variable to fill the missing values with, so I decided to fill them with \"unknown\". "
   ]
  },
  {
   "cell_type": "code",
   "execution_count": 22,
   "metadata": {
    "colab": {
     "base_uri": "https://localhost:8080/"
    },
    "id": "_qMNCWIGXRMB",
    "outputId": "28b7c07b-31f2-4bc9-c707-6ec3d5d51f42"
   },
   "outputs": [
    {
     "data": {
      "text/plain": [
       "count        1000\n",
       "unique          4\n",
       "top       unknown\n",
       "freq          394\n",
       "Name: Checking account, dtype: object"
      ]
     },
     "execution_count": 22,
     "metadata": {},
     "output_type": "execute_result"
    }
   ],
   "source": [
    "# fill the missing value with a category called \"unknown\"\n",
    "df['Checking account'].fillna('unknown', inplace=True)\n",
    "df['Checking account'].head()\n",
    "df['Checking account'].describe()"
   ]
  },
  {
   "cell_type": "markdown",
   "metadata": {
    "id": "nnpNi5DuYmma"
   },
   "source": [
    "Wow we've filled our missing data, next plot the histogram to check for skewed features."
   ]
  },
  {
   "cell_type": "markdown",
   "metadata": {
    "id": "HnB2ofUyEHAu"
   },
   "source": [
    "### Histogram for Numerical features"
   ]
  },
  {
   "cell_type": "code",
   "execution_count": 23,
   "metadata": {
    "colab": {
     "base_uri": "https://localhost:8080/",
     "height": 834
    },
    "id": "72SboHgOD1Pn",
    "outputId": "3d2530f7-d8d9-4787-c722-e6bb47617e23"
   },
   "outputs": [
    {
     "data": {
      "image/png": "[encoded data removed]",
      "text/plain": [
       "<Figure size 1440x1080 with 4 Axes>"
      ]
     },
     "metadata": {
      "needs_background": "light"
     },
     "output_type": "display_data"
    }
   ],
   "source": [
    "df.hist(figsize = (20,15));"
   ]
  },
  {
   "cell_type": "markdown",
   "metadata": {
    "id": "DGPtWiwCEr8Q"
   },
   "source": [
    "Distribution of Age and Credit Amount are positively skewed, we will apply log-transformation for the features."
   ]
  },
  {
   "cell_type": "code",
   "execution_count": 24,
   "metadata": {
    "id": "2xwUaHaOpWCm"
   },
   "outputs": [],
   "source": [
    "categorical = ['Sex', 'Housing', 'Saving accounts', 'Checking account', 'Purpose']"
   ]
  },
  {
   "cell_type": "code",
   "execution_count": 25,
   "metadata": {
    "colab": {
     "base_uri": "https://localhost:8080/",
     "height": 1000
    },
    "id": "XExRL3ZaEO5g",
    "outputId": "79ae2739-6605-4be9-85c1-940ae34a1368"
   },
   "outputs": [
    {
     "data": {
      "image/png": "[encoded data removed]",
      "text/plain": [
       "<Figure size 432x288 with 1 Axes>"
      ]
     },
     "metadata": {
      "needs_background": "light"
     },
     "output_type": "display_data"
    },
    {
     "data": {
      "image/png": "[encoded data removed]",
      "text/plain": [
       "<Figure size 432x288 with 1 Axes>"
      ]
     },
     "metadata": {
      "needs_background": "light"
     },
     "output_type": "display_data"
    },
    {
     "data": {
      "image/png": "[encoded data removed]",
      "text/plain": [
       "<Figure size 432x288 with 1 Axes>"
      ]
     },
     "metadata": {
      "needs_background": "light"
     },
     "output_type": "display_data"
    },
    {
     "data": {
      "image/png": "[encoded data removed]",
      "text/plain": [
       "<Figure size 432x288 with 1 Axes>"
      ]
     },
     "metadata": {
      "needs_background": "light"
     },
     "output_type": "display_data"
    },
    {
     "data": {
      "image/png": "[encoded data removed]",
      "text/plain": [
       "<Figure size 432x288 with 1 Axes>"
      ]
     },
     "metadata": {
      "needs_background": "light"
     },
     "output_type": "display_data"
    }
   ],
   "source": [
    "# Checking distribution of categorical features\n",
    "for col in df[categorical].columns:\n",
    "    sns.countplot(y =col, data = df)\n",
    "    plt.show()"
   ]
  },
  {
   "cell_type": "markdown",
   "metadata": {
    "id": "fZXm3T1VFghL"
   },
   "source": [
    "I decided to perform extra EDA on the categorical columns, I noticed the following:\n",
    "1. There are twice as many male customers as female.\n",
    "2. Most of customers are skilled.\n",
    "3. Most of customers have their own house.\n",
    "4. Most of customers have little saving accounts.\n",
    "5. The most popular purpose is \"Car\".\n",
    "\n",
    "#### Next I'll perform log trasformation on the skewed features\n"
   ]
  },
  {
   "cell_type": "code",
   "execution_count": 26,
   "metadata": {
    "colab": {
     "base_uri": "https://localhost:8080/",
     "height": 283
    },
    "id": "BivqbkgxFeH3",
    "outputId": "dd96db84-95f7-498c-8a64-a366a5d79150"
   },
   "outputs": [
    {
     "data": {
      "text/plain": [
       "<matplotlib.axes._subplots.AxesSubplot at 0x7f8fc08d9990>"
      ]
     },
     "execution_count": 26,
     "metadata": {},
     "output_type": "execute_result"
    },
    {
     "data": {
      "image/png": "[encoded data removed]",
      "text/plain": [
       "<Figure size 432x288 with 1 Axes>"
      ]
     },
     "metadata": {
      "needs_background": "light"
     },
     "output_type": "display_data"
    }
   ],
   "source": [
    "np.log(df['Age']).hist()"
   ]
  },
  {
   "cell_type": "code",
   "execution_count": 27,
   "metadata": {
    "id": "5Uy0d7jTJbCQ"
   },
   "outputs": [],
   "source": [
    "df['Age'] = np.log(df['Age'])"
   ]
  },
  {
   "cell_type": "code",
   "execution_count": 28,
   "metadata": {
    "colab": {
     "base_uri": "https://localhost:8080/",
     "height": 283
    },
    "id": "BzcrsxD7JfoO",
    "outputId": "c2ce084e-ddcb-4b91-b155-7e63122daee7"
   },
   "outputs": [
    {
     "data": {
      "text/plain": [
       "<matplotlib.axes._subplots.AxesSubplot at 0x7f8fc0770bd0>"
      ]
     },
     "execution_count": 28,
     "metadata": {},
     "output_type": "execute_result"
    },
    {
     "data": {
      "image/png": "[encoded data removed]",
      "text/plain": [
       "<Figure size 432x288 with 1 Axes>"
      ]
     },
     "metadata": {
      "needs_background": "light"
     },
     "output_type": "display_data"
    }
   ],
   "source": [
    "np.log(df['Credit amount']).hist()"
   ]
  },
  {
   "cell_type": "code",
   "execution_count": 29,
   "metadata": {
    "id": "eTI2TAwlJmte"
   },
   "outputs": [],
   "source": [
    "df['Credit amount'] = np.log(df['Credit amount'])"
   ]
  },
  {
   "cell_type": "markdown",
   "metadata": {
    "id": "GjeZZwtzJ2gp"
   },
   "source": [
    "Now I've performed log_transformation on the skewed features, as we can see from the plots above. They are now normally distributed.\n",
    "\n",
    "\n",
    "#### Next I'll perform One Hot Encoding on the Categorical features"
   ]
  },
  {
   "cell_type": "code",
   "execution_count": 30,
   "metadata": {
    "id": "84uBFz9oJvBn"
   },
   "outputs": [],
   "source": [
    "#separating features and target column\n",
    "data = df.drop('Risk', axis=1)\n",
    "target = df['Risk']"
   ]
  },
  {
   "cell_type": "code",
   "execution_count": 31,
   "metadata": {
    "colab": {
     "base_uri": "https://localhost:8080/",
     "height": 316
    },
    "id": "sPf_H-qvK90A",
    "outputId": "c8d52d7d-8ae5-4c76-dd68-c38eadc6dbe6"
   },
   "outputs": [
    {
     "data": {
      "text/html": [
       "\n",
       "  <div id=\"df-66329afe-6017-44d1-baab-b7afeb4abc82\">\n",
       "    <div class=\"colab-df-container\">\n",
       "      <div>\n",
       "<style scoped>\n",
       "    .dataframe tbody tr th:only-of-type {\n",
       "        vertical-align: middle;\n",
       "    }\n",
       "\n",
       "    .dataframe tbody tr th {\n",
       "        vertical-align: top;\n",
       "    }\n",
       "\n",
       "    .dataframe thead th {\n",
       "        text-align: right;\n",
       "    }\n",
       "</style>\n",
       "<table border=\"1\" class=\"dataframe\">\n",
       "  <thead>\n",
       "    <tr style=\"text-align: right;\">\n",
       "      <th></th>\n",
       "      <th>Age</th>\n",
       "      <th>Job</th>\n",
       "      <th>Credit amount</th>\n",
       "      <th>Duration</th>\n",
       "      <th>Sex_female</th>\n",
       "      <th>Sex_male</th>\n",
       "      <th>Housing_free</th>\n",
       "      <th>Housing_own</th>\n",
       "      <th>Housing_rent</th>\n",
       "      <th>Saving accounts_little</th>\n",
       "      <th>...</th>\n",
       "      <th>Checking account_rich</th>\n",
       "      <th>Checking account_unknown</th>\n",
       "      <th>Purpose_business</th>\n",
       "      <th>Purpose_car</th>\n",
       "      <th>Purpose_domestic appliances</th>\n",
       "      <th>Purpose_education</th>\n",
       "      <th>Purpose_furniture/equipment</th>\n",
       "      <th>Purpose_radio/TV</th>\n",
       "      <th>Purpose_repairs</th>\n",
       "      <th>Purpose_vacation/others</th>\n",
       "    </tr>\n",
       "  </thead>\n",
       "  <tbody>\n",
       "    <tr>\n",
       "      <th>0</th>\n",
       "      <td>4.204693</td>\n",
       "      <td>2</td>\n",
       "      <td>7.063904</td>\n",
       "      <td>6</td>\n",
       "      <td>0</td>\n",
       "      <td>1</td>\n",
       "      <td>0</td>\n",
       "      <td>1</td>\n",
       "      <td>0</td>\n",
       "      <td>1</td>\n",
       "      <td>...</td>\n",
       "      <td>0</td>\n",
       "      <td>0</td>\n",
       "      <td>0</td>\n",
       "      <td>0</td>\n",
       "      <td>0</td>\n",
       "      <td>0</td>\n",
       "      <td>0</td>\n",
       "      <td>1</td>\n",
       "      <td>0</td>\n",
       "      <td>0</td>\n",
       "    </tr>\n",
       "    <tr>\n",
       "      <th>1</th>\n",
       "      <td>3.091042</td>\n",
       "      <td>2</td>\n",
       "      <td>8.691315</td>\n",
       "      <td>48</td>\n",
       "      <td>1</td>\n",
       "      <td>0</td>\n",
       "      <td>0</td>\n",
       "      <td>1</td>\n",
       "      <td>0</td>\n",
       "      <td>1</td>\n",
       "      <td>...</td>\n",
       "      <td>0</td>\n",
       "      <td>0</td>\n",
       "      <td>0</td>\n",
       "      <td>0</td>\n",
       "      <td>0</td>\n",
       "      <td>0</td>\n",
       "      <td>0</td>\n",
       "      <td>1</td>\n",
       "      <td>0</td>\n",
       "      <td>0</td>\n",
       "    </tr>\n",
       "    <tr>\n",
       "      <th>2</th>\n",
       "      <td>3.891820</td>\n",
       "      <td>1</td>\n",
       "      <td>7.647786</td>\n",
       "      <td>12</td>\n",
       "      <td>0</td>\n",
       "      <td>1</td>\n",
       "      <td>0</td>\n",
       "      <td>1</td>\n",
       "      <td>0</td>\n",
       "      <td>1</td>\n",
       "      <td>...</td>\n",
       "      <td>0</td>\n",
       "      <td>1</td>\n",
       "      <td>0</td>\n",
       "      <td>0</td>\n",
       "      <td>0</td>\n",
       "      <td>1</td>\n",
       "      <td>0</td>\n",
       "      <td>0</td>\n",
       "      <td>0</td>\n",
       "      <td>0</td>\n",
       "    </tr>\n",
       "    <tr>\n",
       "      <th>3</th>\n",
       "      <td>3.806662</td>\n",
       "      <td>2</td>\n",
       "      <td>8.972337</td>\n",
       "      <td>42</td>\n",
       "      <td>0</td>\n",
       "      <td>1</td>\n",
       "      <td>1</td>\n",
       "      <td>0</td>\n",
       "      <td>0</td>\n",
       "      <td>1</td>\n",
       "      <td>...</td>\n",
       "      <td>0</td>\n",
       "      <td>0</td>\n",
       "      <td>0</td>\n",
       "      <td>0</td>\n",
       "      <td>0</td>\n",
       "      <td>0</td>\n",
       "      <td>1</td>\n",
       "      <td>0</td>\n",
       "      <td>0</td>\n",
       "      <td>0</td>\n",
       "    </tr>\n",
       "    <tr>\n",
       "      <th>4</th>\n",
       "      <td>3.970292</td>\n",
       "      <td>2</td>\n",
       "      <td>8.490849</td>\n",
       "      <td>24</td>\n",
       "      <td>0</td>\n",
       "      <td>1</td>\n",
       "      <td>1</td>\n",
       "      <td>0</td>\n",
       "      <td>0</td>\n",
       "      <td>1</td>\n",
       "      <td>...</td>\n",
       "      <td>0</td>\n",
       "      <td>0</td>\n",
       "      <td>0</td>\n",
       "      <td>1</td>\n",
       "      <td>0</td>\n",
       "      <td>0</td>\n",
       "      <td>0</td>\n",
       "      <td>0</td>\n",
       "      <td>0</td>\n",
       "      <td>0</td>\n",
       "    </tr>\n",
       "  </tbody>\n",
       "</table>\n",
       "<p>5 rows × 25 columns</p>\n",
       "</div>\n",
       "      <button class=\"colab-df-convert\" onclick=\"convertToInteractive('df-66329afe-6017-44d1-baab-b7afeb4abc82')\"\n",
       "              title=\"Convert this dataframe to an interactive table.\"\n",
       "              style=\"display:none;\">\n",
       "        \n",
       "  <svg xmlns=\"http://www.w3.org/2000/svg\" height=\"24px\"viewBox=\"0 0 24 24\"\n",
       "       width=\"24px\">\n",
       "    <path d=\"M0 0h24v24H0V0z\" fill=\"none\"/>\n",
       "    <path d=\"M18.56 5.44l.94 2.06.94-2.06 2.06-.94-2.06-.94-.94-2.06-.94 2.06-2.06.94zm-11 1L8.5 8.5l.94-2.06 2.06-.94-2.06-.94L8.5 2.5l-.94 2.06-2.06.94zm10 10l.94 2.06.94-2.06 2.06-.94-2.06-.94-.94-2.06-.94 2.06-2.06.94z\"/><path d=\"M17.41 7.96l-1.37-1.37c-.4-.4-.92-.59-1.43-.59-.52 0-1.04.2-1.43.59L10.3 9.45l-7.72 7.72c-.78.78-.78 2.05 0 2.83L4 21.41c.39.39.9.59 1.41.59.51 0 1.02-.2 1.41-.59l7.78-7.78 2.81-2.81c.8-.78.8-2.07 0-2.86zM5.41 20L4 18.59l7.72-7.72 1.47 1.35L5.41 20z\"/>\n",
       "  </svg>\n",
       "      </button>\n",
       "      \n",
       "  <style>\n",
       "    .colab-df-container {\n",
       "      display:flex;\n",
       "      flex-wrap:wrap;\n",
       "      gap: 12px;\n",
       "    }\n",
       "\n",
       "    .colab-df-convert {\n",
       "      background-color: #E8F0FE;\n",
       "      border: none;\n",
       "      border-radius: 50%;\n",
       "      cursor: pointer;\n",
       "      display: none;\n",
       "      fill: #1967D2;\n",
       "      height: 32px;\n",
       "      padding: 0 0 0 0;\n",
       "      width: 32px;\n",
       "    }\n",
       "\n",
       "    .colab-df-convert:hover {\n",
       "      background-color: #E2EBFA;\n",
       "      box-shadow: 0px 1px 2px rgba(60, 64, 67, 0.3), 0px 1px 3px 1px rgba(60, 64, 67, 0.15);\n",
       "      fill: #174EA6;\n",
       "    }\n",
       "\n",
       "    [theme=dark] .colab-df-convert {\n",
       "      background-color: #3B4455;\n",
       "      fill: #D2E3FC;\n",
       "    }\n",
       "\n",
       "    [theme=dark] .colab-df-convert:hover {\n",
       "      background-color: #434B5C;\n",
       "      box-shadow: 0px 1px 3px 1px rgba(0, 0, 0, 0.15);\n",
       "      filter: drop-shadow(0px 1px 2px rgba(0, 0, 0, 0.3));\n",
       "      fill: #FFFFFF;\n",
       "    }\n",
       "  </style>\n",
       "\n",
       "      <script>\n",
       "        const buttonEl =\n",
       "          document.querySelector('#df-66329afe-6017-44d1-baab-b7afeb4abc82 button.colab-df-convert');\n",
       "        buttonEl.style.display =\n",
       "          google.colab.kernel.accessAllowed ? 'block' : 'none';\n",
       "\n",
       "        async function convertToInteractive(key) {\n",
       "          const element = document.querySelector('#df-66329afe-6017-44d1-baab-b7afeb4abc82');\n",
       "          const dataTable =\n",
       "            await google.colab.kernel.invokeFunction('convertToInteractive',\n",
       "                                                     [key], {});\n",
       "          if (!dataTable) return;\n",
       "\n",
       "          const docLinkHtml = 'Like what you see? Visit the ' +\n",
       "            '<a target=\"_blank\" href=https://colab.research.google.com/notebooks/data_table.ipynb>data table notebook</a>'\n",
       "            + ' to learn more about interactive tables.';\n",
       "          element.innerHTML = '';\n",
       "          dataTable['output_type'] = 'display_data';\n",
       "          await google.colab.output.renderOutput(dataTable, element);\n",
       "          const docLink = document.createElement('div');\n",
       "          docLink.innerHTML = docLinkHtml;\n",
       "          element.appendChild(docLink);\n",
       "        }\n",
       "      </script>\n",
       "    </div>\n",
       "  </div>\n",
       "  "
      ],
      "text/plain": [
       "        Age  Job  Credit amount  Duration  Sex_female  Sex_male  Housing_free  \\\n",
       "0  4.204693    2       7.063904         6           0         1             0   \n",
       "1  3.091042    2       8.691315        48           1         0             0   \n",
       "2  3.891820    1       7.647786        12           0         1             0   \n",
       "3  3.806662    2       8.972337        42           0         1             1   \n",
       "4  3.970292    2       8.490849        24           0         1             1   \n",
       "\n",
       "   Housing_own  Housing_rent  Saving accounts_little  ...  \\\n",
       "0            1             0                       1  ...   \n",
       "1            1             0                       1  ...   \n",
       "2            1             0                       1  ...   \n",
       "3            0             0                       1  ...   \n",
       "4            0             0                       1  ...   \n",
       "\n",
       "   Checking account_rich  Checking account_unknown  Purpose_business  \\\n",
       "0                      0                         0                 0   \n",
       "1                      0                         0                 0   \n",
       "2                      0                         1                 0   \n",
       "3                      0                         0                 0   \n",
       "4                      0                         0                 0   \n",
       "\n",
       "   Purpose_car  Purpose_domestic appliances  Purpose_education  \\\n",
       "0            0                            0                  0   \n",
       "1            0                            0                  0   \n",
       "2            0                            0                  1   \n",
       "3            0                            0                  0   \n",
       "4            1                            0                  0   \n",
       "\n",
       "   Purpose_furniture/equipment  Purpose_radio/TV  Purpose_repairs  \\\n",
       "0                            0                 1                0   \n",
       "1                            0                 1                0   \n",
       "2                            0                 0                0   \n",
       "3                            1                 0                0   \n",
       "4                            0                 0                0   \n",
       "\n",
       "   Purpose_vacation/others  \n",
       "0                        0  \n",
       "1                        0  \n",
       "2                        0  \n",
       "3                        0  \n",
       "4                        0  \n",
       "\n",
       "[5 rows x 25 columns]"
      ]
     },
     "execution_count": 31,
     "metadata": {},
     "output_type": "execute_result"
    }
   ],
   "source": [
    "#encoding categorical features\n",
    "data = pd.get_dummies(data)\n",
    "data.head()"
   ]
  },
  {
   "cell_type": "code",
   "execution_count": 32,
   "metadata": {
    "colab": {
     "base_uri": "https://localhost:8080/"
    },
    "id": "2agYCXB3MGaS",
    "outputId": "8933a827-f740-4aa6-af41-a76029a2ae67"
   },
   "outputs": [
    {
     "data": {
      "text/plain": [
       "array([1, 0, 1, 1, 0, 1, 1, 1, 1, 0])"
      ]
     },
     "execution_count": 32,
     "metadata": {},
     "output_type": "execute_result"
    }
   ],
   "source": [
    "#encoding target feature\n",
    "from sklearn import preprocessing\n",
    "le = preprocessing.LabelEncoder()\n",
    "\n",
    "#invoking fit_transform method on object\n",
    "target=le.fit_transform(target)\n",
    "\n",
    "target[0:10]\n"
   ]
  },
  {
   "cell_type": "markdown",
   "metadata": {
    "id": "Vkm3QRdOPkXX"
   },
   "source": [
    "Now I've concluded cleaning the dataset, next I'll perform feature scaling on the dataset. \n",
    "\n",
    "\n",
    "### Scaling the Dataset"
   ]
  },
  {
   "cell_type": "code",
   "execution_count": 33,
   "metadata": {
    "colab": {
     "base_uri": "https://localhost:8080/",
     "height": 316
    },
    "id": "ic1Nd7xPPs4g",
    "outputId": "c517ca12-28f1-4445-d407-8333baa54b9a"
   },
   "outputs": [
    {
     "data": {
      "text/html": [
       "\n",
       "  <div id=\"df-b05d1a9d-62ee-44d4-b9ea-15993cbbaaf1\">\n",
       "    <div class=\"colab-df-container\">\n",
       "      <div>\n",
       "<style scoped>\n",
       "    .dataframe tbody tr th:only-of-type {\n",
       "        vertical-align: middle;\n",
       "    }\n",
       "\n",
       "    .dataframe tbody tr th {\n",
       "        vertical-align: top;\n",
       "    }\n",
       "\n",
       "    .dataframe thead th {\n",
       "        text-align: right;\n",
       "    }\n",
       "</style>\n",
       "<table border=\"1\" class=\"dataframe\">\n",
       "  <thead>\n",
       "    <tr style=\"text-align: right;\">\n",
       "      <th></th>\n",
       "      <th>Age</th>\n",
       "      <th>Job</th>\n",
       "      <th>Credit amount</th>\n",
       "      <th>Duration</th>\n",
       "      <th>Sex_female</th>\n",
       "      <th>Sex_male</th>\n",
       "      <th>Housing_free</th>\n",
       "      <th>Housing_own</th>\n",
       "      <th>Housing_rent</th>\n",
       "      <th>Saving accounts_little</th>\n",
       "      <th>...</th>\n",
       "      <th>Checking account_rich</th>\n",
       "      <th>Checking account_unknown</th>\n",
       "      <th>Purpose_business</th>\n",
       "      <th>Purpose_car</th>\n",
       "      <th>Purpose_domestic appliances</th>\n",
       "      <th>Purpose_education</th>\n",
       "      <th>Purpose_furniture/equipment</th>\n",
       "      <th>Purpose_radio/TV</th>\n",
       "      <th>Purpose_repairs</th>\n",
       "      <th>Purpose_vacation/others</th>\n",
       "    </tr>\n",
       "  </thead>\n",
       "  <tbody>\n",
       "    <tr>\n",
       "      <th>0</th>\n",
       "      <td>2.271006</td>\n",
       "      <td>0.146949</td>\n",
       "      <td>-0.933901</td>\n",
       "      <td>-1.236478</td>\n",
       "      <td>-0.670280</td>\n",
       "      <td>0.670280</td>\n",
       "      <td>-0.347960</td>\n",
       "      <td>0.634448</td>\n",
       "      <td>-0.466933</td>\n",
       "      <td>0.52179</td>\n",
       "      <td>...</td>\n",
       "      <td>-0.259299</td>\n",
       "      <td>-0.806328</td>\n",
       "      <td>-0.327749</td>\n",
       "      <td>-0.712949</td>\n",
       "      <td>-0.110208</td>\n",
       "      <td>-0.250398</td>\n",
       "      <td>-0.470108</td>\n",
       "      <td>1.603567</td>\n",
       "      <td>-0.149983</td>\n",
       "      <td>-0.110208</td>\n",
       "    </tr>\n",
       "    <tr>\n",
       "      <th>1</th>\n",
       "      <td>-1.446152</td>\n",
       "      <td>0.146949</td>\n",
       "      <td>1.163046</td>\n",
       "      <td>2.248194</td>\n",
       "      <td>1.491914</td>\n",
       "      <td>-1.491914</td>\n",
       "      <td>-0.347960</td>\n",
       "      <td>0.634448</td>\n",
       "      <td>-0.466933</td>\n",
       "      <td>0.52179</td>\n",
       "      <td>...</td>\n",
       "      <td>-0.259299</td>\n",
       "      <td>-0.806328</td>\n",
       "      <td>-0.327749</td>\n",
       "      <td>-0.712949</td>\n",
       "      <td>-0.110208</td>\n",
       "      <td>-0.250398</td>\n",
       "      <td>-0.470108</td>\n",
       "      <td>1.603567</td>\n",
       "      <td>-0.149983</td>\n",
       "      <td>-0.110208</td>\n",
       "    </tr>\n",
       "    <tr>\n",
       "      <th>2</th>\n",
       "      <td>1.226696</td>\n",
       "      <td>-1.383771</td>\n",
       "      <td>-0.181559</td>\n",
       "      <td>-0.738668</td>\n",
       "      <td>-0.670280</td>\n",
       "      <td>0.670280</td>\n",
       "      <td>-0.347960</td>\n",
       "      <td>0.634448</td>\n",
       "      <td>-0.466933</td>\n",
       "      <td>0.52179</td>\n",
       "      <td>...</td>\n",
       "      <td>-0.259299</td>\n",
       "      <td>1.240190</td>\n",
       "      <td>-0.327749</td>\n",
       "      <td>-0.712949</td>\n",
       "      <td>-0.110208</td>\n",
       "      <td>3.993639</td>\n",
       "      <td>-0.470108</td>\n",
       "      <td>-0.623610</td>\n",
       "      <td>-0.149983</td>\n",
       "      <td>-0.110208</td>\n",
       "    </tr>\n",
       "    <tr>\n",
       "      <th>3</th>\n",
       "      <td>0.942455</td>\n",
       "      <td>0.146949</td>\n",
       "      <td>1.525148</td>\n",
       "      <td>1.750384</td>\n",
       "      <td>-0.670280</td>\n",
       "      <td>0.670280</td>\n",
       "      <td>2.873893</td>\n",
       "      <td>-1.576173</td>\n",
       "      <td>-0.466933</td>\n",
       "      <td>0.52179</td>\n",
       "      <td>...</td>\n",
       "      <td>-0.259299</td>\n",
       "      <td>-0.806328</td>\n",
       "      <td>-0.327749</td>\n",
       "      <td>-0.712949</td>\n",
       "      <td>-0.110208</td>\n",
       "      <td>-0.250398</td>\n",
       "      <td>2.127172</td>\n",
       "      <td>-0.623610</td>\n",
       "      <td>-0.149983</td>\n",
       "      <td>-0.110208</td>\n",
       "    </tr>\n",
       "    <tr>\n",
       "      <th>4</th>\n",
       "      <td>1.488620</td>\n",
       "      <td>0.146949</td>\n",
       "      <td>0.904743</td>\n",
       "      <td>0.256953</td>\n",
       "      <td>-0.670280</td>\n",
       "      <td>0.670280</td>\n",
       "      <td>2.873893</td>\n",
       "      <td>-1.576173</td>\n",
       "      <td>-0.466933</td>\n",
       "      <td>0.52179</td>\n",
       "      <td>...</td>\n",
       "      <td>-0.259299</td>\n",
       "      <td>-0.806328</td>\n",
       "      <td>-0.327749</td>\n",
       "      <td>1.402626</td>\n",
       "      <td>-0.110208</td>\n",
       "      <td>-0.250398</td>\n",
       "      <td>-0.470108</td>\n",
       "      <td>-0.623610</td>\n",
       "      <td>-0.149983</td>\n",
       "      <td>-0.110208</td>\n",
       "    </tr>\n",
       "  </tbody>\n",
       "</table>\n",
       "<p>5 rows × 25 columns</p>\n",
       "</div>\n",
       "      <button class=\"colab-df-convert\" onclick=\"convertToInteractive('df-b05d1a9d-62ee-44d4-b9ea-15993cbbaaf1')\"\n",
       "              title=\"Convert this dataframe to an interactive table.\"\n",
       "              style=\"display:none;\">\n",
       "        \n",
       "  <svg xmlns=\"http://www.w3.org/2000/svg\" height=\"24px\"viewBox=\"0 0 24 24\"\n",
       "       width=\"24px\">\n",
       "    <path d=\"M0 0h24v24H0V0z\" fill=\"none\"/>\n",
       "    <path d=\"M18.56 5.44l.94 2.06.94-2.06 2.06-.94-2.06-.94-.94-2.06-.94 2.06-2.06.94zm-11 1L8.5 8.5l.94-2.06 2.06-.94-2.06-.94L8.5 2.5l-.94 2.06-2.06.94zm10 10l.94 2.06.94-2.06 2.06-.94-2.06-.94-.94-2.06-.94 2.06-2.06.94z\"/><path d=\"M17.41 7.96l-1.37-1.37c-.4-.4-.92-.59-1.43-.59-.52 0-1.04.2-1.43.59L10.3 9.45l-7.72 7.72c-.78.78-.78 2.05 0 2.83L4 21.41c.39.39.9.59 1.41.59.51 0 1.02-.2 1.41-.59l7.78-7.78 2.81-2.81c.8-.78.8-2.07 0-2.86zM5.41 20L4 18.59l7.72-7.72 1.47 1.35L5.41 20z\"/>\n",
       "  </svg>\n",
       "      </button>\n",
       "      \n",
       "  <style>\n",
       "    .colab-df-container {\n",
       "      display:flex;\n",
       "      flex-wrap:wrap;\n",
       "      gap: 12px;\n",
       "    }\n",
       "\n",
       "    .colab-df-convert {\n",
       "      background-color: #E8F0FE;\n",
       "      border: none;\n",
       "      border-radius: 50%;\n",
       "      cursor: pointer;\n",
       "      display: none;\n",
       "      fill: #1967D2;\n",
       "      height: 32px;\n",
       "      padding: 0 0 0 0;\n",
       "      width: 32px;\n",
       "    }\n",
       "\n",
       "    .colab-df-convert:hover {\n",
       "      background-color: #E2EBFA;\n",
       "      box-shadow: 0px 1px 2px rgba(60, 64, 67, 0.3), 0px 1px 3px 1px rgba(60, 64, 67, 0.15);\n",
       "      fill: #174EA6;\n",
       "    }\n",
       "\n",
       "    [theme=dark] .colab-df-convert {\n",
       "      background-color: #3B4455;\n",
       "      fill: #D2E3FC;\n",
       "    }\n",
       "\n",
       "    [theme=dark] .colab-df-convert:hover {\n",
       "      background-color: #434B5C;\n",
       "      box-shadow: 0px 1px 3px 1px rgba(0, 0, 0, 0.15);\n",
       "      filter: drop-shadow(0px 1px 2px rgba(0, 0, 0, 0.3));\n",
       "      fill: #FFFFFF;\n",
       "    }\n",
       "  </style>\n",
       "\n",
       "      <script>\n",
       "        const buttonEl =\n",
       "          document.querySelector('#df-b05d1a9d-62ee-44d4-b9ea-15993cbbaaf1 button.colab-df-convert');\n",
       "        buttonEl.style.display =\n",
       "          google.colab.kernel.accessAllowed ? 'block' : 'none';\n",
       "\n",
       "        async function convertToInteractive(key) {\n",
       "          const element = document.querySelector('#df-b05d1a9d-62ee-44d4-b9ea-15993cbbaaf1');\n",
       "          const dataTable =\n",
       "            await google.colab.kernel.invokeFunction('convertToInteractive',\n",
       "                                                     [key], {});\n",
       "          if (!dataTable) return;\n",
       "\n",
       "          const docLinkHtml = 'Like what you see? Visit the ' +\n",
       "            '<a target=\"_blank\" href=https://colab.research.google.com/notebooks/data_table.ipynb>data table notebook</a>'\n",
       "            + ' to learn more about interactive tables.';\n",
       "          element.innerHTML = '';\n",
       "          dataTable['output_type'] = 'display_data';\n",
       "          await google.colab.output.renderOutput(dataTable, element);\n",
       "          const docLink = document.createElement('div');\n",
       "          docLink.innerHTML = docLinkHtml;\n",
       "          element.appendChild(docLink);\n",
       "        }\n",
       "      </script>\n",
       "    </div>\n",
       "  </div>\n",
       "  "
      ],
      "text/plain": [
       "        Age       Job  Credit amount  Duration  Sex_female  Sex_male  \\\n",
       "0  2.271006  0.146949      -0.933901 -1.236478   -0.670280  0.670280   \n",
       "1 -1.446152  0.146949       1.163046  2.248194    1.491914 -1.491914   \n",
       "2  1.226696 -1.383771      -0.181559 -0.738668   -0.670280  0.670280   \n",
       "3  0.942455  0.146949       1.525148  1.750384   -0.670280  0.670280   \n",
       "4  1.488620  0.146949       0.904743  0.256953   -0.670280  0.670280   \n",
       "\n",
       "   Housing_free  Housing_own  Housing_rent  Saving accounts_little  ...  \\\n",
       "0     -0.347960     0.634448     -0.466933                 0.52179  ...   \n",
       "1     -0.347960     0.634448     -0.466933                 0.52179  ...   \n",
       "2     -0.347960     0.634448     -0.466933                 0.52179  ...   \n",
       "3      2.873893    -1.576173     -0.466933                 0.52179  ...   \n",
       "4      2.873893    -1.576173     -0.466933                 0.52179  ...   \n",
       "\n",
       "   Checking account_rich  Checking account_unknown  Purpose_business  \\\n",
       "0              -0.259299                 -0.806328         -0.327749   \n",
       "1              -0.259299                 -0.806328         -0.327749   \n",
       "2              -0.259299                  1.240190         -0.327749   \n",
       "3              -0.259299                 -0.806328         -0.327749   \n",
       "4              -0.259299                 -0.806328         -0.327749   \n",
       "\n",
       "   Purpose_car  Purpose_domestic appliances  Purpose_education  \\\n",
       "0    -0.712949                    -0.110208          -0.250398   \n",
       "1    -0.712949                    -0.110208          -0.250398   \n",
       "2    -0.712949                    -0.110208           3.993639   \n",
       "3    -0.712949                    -0.110208          -0.250398   \n",
       "4     1.402626                    -0.110208          -0.250398   \n",
       "\n",
       "   Purpose_furniture/equipment  Purpose_radio/TV  Purpose_repairs  \\\n",
       "0                    -0.470108          1.603567        -0.149983   \n",
       "1                    -0.470108          1.603567        -0.149983   \n",
       "2                    -0.470108         -0.623610        -0.149983   \n",
       "3                     2.127172         -0.623610        -0.149983   \n",
       "4                    -0.470108         -0.623610        -0.149983   \n",
       "\n",
       "   Purpose_vacation/others  \n",
       "0                -0.110208  \n",
       "1                -0.110208  \n",
       "2                -0.110208  \n",
       "3                -0.110208  \n",
       "4                -0.110208  \n",
       "\n",
       "[5 rows x 25 columns]"
      ]
     },
     "execution_count": 33,
     "metadata": {},
     "output_type": "execute_result"
    }
   ],
   "source": [
    "from sklearn.preprocessing import StandardScaler\n",
    "scaler = StandardScaler()\n",
    "X_scaled = scaler.fit_transform(data)\n",
    "data_scaled = pd.DataFrame(X_scaled, columns=data.columns)\n",
    "data_scaled.head()"
   ]
  },
  {
   "cell_type": "markdown",
   "metadata": {
    "id": "R9BwTZgNQC5v"
   },
   "source": [
    "I've scaled the dataset, now its time to perform clustering and PCA on the numerical features as instructed.\n",
    "\n",
    "\n",
    "### Performing KMeans Clustering and PCA\n"
   ]
  },
  {
   "cell_type": "code",
   "execution_count": 34,
   "metadata": {
    "colab": {
     "base_uri": "https://localhost:8080/"
    },
    "id": "9TrLB01EOdyw",
    "outputId": "e7b69637-b0fa-4412-cbf0-bef3c024ffe9"
   },
   "outputs": [
    {
     "data": {
      "text/plain": [
       "Index(['Age', 'Job', 'Credit amount', 'Duration', 'Sex_female', 'Sex_male',\n",
       "       'Housing_free', 'Housing_own', 'Housing_rent', 'Saving accounts_little',\n",
       "       'Saving accounts_moderate', 'Saving accounts_quite rich',\n",
       "       'Saving accounts_rich', 'Checking account_little',\n",
       "       'Checking account_moderate', 'Checking account_rich',\n",
       "       'Checking account_unknown', 'Purpose_business', 'Purpose_car',\n",
       "       'Purpose_domestic appliances', 'Purpose_education',\n",
       "       'Purpose_furniture/equipment', 'Purpose_radio/TV', 'Purpose_repairs',\n",
       "       'Purpose_vacation/others'],\n",
       "      dtype='object')"
      ]
     },
     "execution_count": 34,
     "metadata": {},
     "output_type": "execute_result"
    }
   ],
   "source": [
    "data.columns"
   ]
  },
  {
   "cell_type": "code",
   "execution_count": 48,
   "metadata": {
    "id": "D6Ugk7QPOmWX"
   },
   "outputs": [],
   "source": [
    "numeric = ['Age', 'Job', 'Credit amount', 'Duration']\n",
    "categorical = ['Sex_female', 'Sex_male',\n",
    "       'Housing_free', 'Housing_own', 'Housing_rent', 'Saving accounts_little',\n",
    "       'Saving accounts_moderate', 'Saving accounts_quite rich',\n",
    "       'Saving accounts_rich', 'Checking account_little', 'Checking account_moderate',\n",
    "       'Checking account_rich', 'Checking account_unknown', 'Purpose_business',\n",
    "       'Purpose_car', 'Purpose_domestic appliances', 'Purpose_education',\n",
    "       'Purpose_furniture/equipment', 'Purpose_radio/TV', 'Purpose_repairs',\n",
    "       'Purpose_vacation/others']"
   ]
  },
  {
   "cell_type": "code",
   "execution_count": 36,
   "metadata": {
    "colab": {
     "base_uri": "https://localhost:8080/"
    },
    "id": "Xldu1OSlVCyZ",
    "outputId": "d396cb65-6db6-4d70-a697-99e5d44015be"
   },
   "outputs": [
    {
     "data": {
      "text/plain": [
       "array([[ 2.27100592,  0.14694918, -0.933901  , -1.23647786],\n",
       "       [-1.44615223,  0.14694918,  1.16304581,  2.24819436],\n",
       "       [ 1.22669602, -1.38377145, -0.1815588 , -0.73866754],\n",
       "       [ 0.94245501,  0.14694918,  1.52514806,  1.75038404],\n",
       "       [ 1.48861975,  0.14694918,  0.90474274,  0.25695309]])"
      ]
     },
     "execution_count": 36,
     "metadata": {},
     "output_type": "execute_result"
    }
   ],
   "source": [
    "#preparing numerical features for clustering\n",
    "d_clust = data_scaled[numeric].values\n",
    "d_clust[0:5]"
   ]
  },
  {
   "cell_type": "code",
   "execution_count": 37,
   "metadata": {
    "id": "Y0yRXcIVOCrn"
   },
   "outputs": [],
   "source": [
    "from sklearn.cluster import KMeans\n",
    "from scipy.spatial.distance import cdist\n",
    "from sklearn.decomposition import PCA\n",
    "from yellowbrick.cluster import KElbowVisualizer # cluster visualizer"
   ]
  },
  {
   "cell_type": "code",
   "execution_count": 38,
   "metadata": {
    "id": "2b2DkERZO8ov"
   },
   "outputs": [],
   "source": [
    "# Loop through clusters and fit the model to the train set\n",
    "clusters=range(1,11)\n",
    "meandist=[]\n",
    "\n",
    "for k in clusters:\n",
    "    model=KMeans(n_clusters=k)\n",
    "    model.fit(d_clust)\n",
    "    clusassign=model.predict(d_clust)\n",
    "    meandist.append(sum(np.min(cdist(d_clust, model.cluster_centers_, 'euclidean'), axis=1),d_clust.shape[0]))"
   ]
  },
  {
   "cell_type": "code",
   "execution_count": 39,
   "metadata": {
    "colab": {
     "base_uri": "https://localhost:8080/",
     "height": 394
    },
    "id": "2M7O__AAQ97A",
    "outputId": "e701b89d-90f3-4121-dfd1-fe348c4cab21"
   },
   "outputs": [
    {
     "data": {
      "text/plain": [
       "Text(0.5, 1.0, 'Selecting k with the Elbow Method')"
      ]
     },
     "execution_count": 39,
     "metadata": {},
     "output_type": "execute_result"
    },
    {
     "data": {
      "image/png": "[encoded data removed]",
      "text/plain": [
       "<Figure size 576x396 with 1 Axes>"
      ]
     },
     "metadata": {},
     "output_type": "display_data"
    }
   ],
   "source": [
    "# display the data\n",
    "plt.plot(clusters, meandist)\n",
    "plt.xlabel('Number of clusters')\n",
    "plt.ylabel('Average distance')\n",
    "plt.title('Selecting k with the Elbow Method')"
   ]
  },
  {
   "cell_type": "code",
   "execution_count": 40,
   "metadata": {
    "colab": {
     "base_uri": "https://localhost:8080/",
     "height": 375
    },
    "id": "w-w5TknGRC6H",
    "outputId": "367b174a-05ee-4894-9922-9d8601c09709"
   },
   "outputs": [
    {
     "data": {
      "image/png": "[encoded data removed]",
      "text/plain": [
       "<Figure size 576x396 with 2 Axes>"
      ]
     },
     "metadata": {},
     "output_type": "display_data"
    }
   ],
   "source": [
    "#using Elbow Method to check for best value of k\n",
    "model = KMeans()\n",
    "visualizer = KElbowVisualizer(model, k=(1, 11))\n",
    "\n",
    "visualizer.fit(d_clust) # Fit the data to the visualizer\n",
    "visualizer.show() # Finalize and render the figure\n",
    "plt.show()"
   ]
  },
  {
   "cell_type": "markdown",
   "metadata": {
    "id": "7Oha--byR6iW"
   },
   "source": [
    "The elbow wasn't clear in the first plot, so I used another library that automatically shows where the elbow value is located. According to elbow plot above, we noticed that our best k value is 4.\n",
    "\n",
    "So we'll implement that in our KMeans."
   ]
  },
  {
   "cell_type": "code",
   "execution_count": 41,
   "metadata": {
    "id": "NDf-229IRjTX"
   },
   "outputs": [],
   "source": [
    "kmeans = KMeans(n_clusters=4, random_state=10)\n",
    "kmeans.fit(d_clust)\n",
    "k_pred = kmeans.predict(d_clust)\n",
    "labels = kmeans.labels_\n",
    "centroids = kmeans.cluster_centers_"
   ]
  },
  {
   "cell_type": "code",
   "execution_count": 42,
   "metadata": {
    "colab": {
     "base_uri": "https://localhost:8080/",
     "height": 380
    },
    "id": "cGtWj7rVX7ov",
    "outputId": "ec09bff3-af93-41a4-c6e5-5da80eba45ff"
   },
   "outputs": [
    {
     "data": {
      "text/plain": [
       "Text(0.5, 1.0, 'Plot of Clusters')"
      ]
     },
     "execution_count": 42,
     "metadata": {},
     "output_type": "execute_result"
    },
    {
     "data": {
      "image/png": "[encoded data removed]",
      "text/plain": [
       "<Figure size 576x396 with 1 Axes>"
      ]
     },
     "metadata": {},
     "output_type": "display_data"
    }
   ],
   "source": [
    "plt.scatter(d_clust[:, 0], d_clust[:, 1], c=k_pred, s=50, cmap='viridis')\n",
    "centers = kmeans.cluster_centers_\n",
    "plt.scatter(centroids[:, 0], centroids[:, 1], c='black', s=200, alpha=0.5);\n",
    "plt.title('Plot of Clusters')"
   ]
  },
  {
   "cell_type": "markdown",
   "metadata": {
    "id": "Tj9QwQQeYhw3"
   },
   "source": [
    "From the above plot of our clusters, we can see that its not really doing a good job in clustering the dataset.\n",
    "\n",
    "Next we perform PCA on the numerical data so we can visualize our clusters with PCA."
   ]
  },
  {
   "cell_type": "code",
   "execution_count": 55,
   "metadata": {
    "id": "otAVU5UbZIo3"
   },
   "outputs": [],
   "source": [
    "pca = PCA(n_components=4)\n",
    "X_pca = pca.fit_transform(d_clust)"
   ]
  },
  {
   "cell_type": "code",
   "execution_count": 56,
   "metadata": {
    "colab": {
     "base_uri": "https://localhost:8080/",
     "height": 206
    },
    "id": "pe1MiCmjqSyG",
    "outputId": "0ff44931-fc0d-4f30-e0fa-31d8978763fe"
   },
   "outputs": [
    {
     "data": {
      "text/html": [
       "\n",
       "  <div id=\"df-425dcb23-0380-4977-94cf-5c1ac8a78048\">\n",
       "    <div class=\"colab-df-container\">\n",
       "      <div>\n",
       "<style scoped>\n",
       "    .dataframe tbody tr th:only-of-type {\n",
       "        vertical-align: middle;\n",
       "    }\n",
       "\n",
       "    .dataframe tbody tr th {\n",
       "        vertical-align: top;\n",
       "    }\n",
       "\n",
       "    .dataframe thead th {\n",
       "        text-align: right;\n",
       "    }\n",
       "</style>\n",
       "<table border=\"1\" class=\"dataframe\">\n",
       "  <thead>\n",
       "    <tr style=\"text-align: right;\">\n",
       "      <th></th>\n",
       "      <th>pc1</th>\n",
       "      <th>pc2</th>\n",
       "      <th>pc3</th>\n",
       "      <th>pc4</th>\n",
       "    </tr>\n",
       "  </thead>\n",
       "  <tbody>\n",
       "    <tr>\n",
       "      <th>0</th>\n",
       "      <td>-1.300521</td>\n",
       "      <td>2.401550</td>\n",
       "      <td>-0.346927</td>\n",
       "      <td>0.030911</td>\n",
       "    </tr>\n",
       "    <tr>\n",
       "      <th>1</th>\n",
       "      <td>2.221414</td>\n",
       "      <td>-1.662738</td>\n",
       "      <td>0.654723</td>\n",
       "      <td>-0.626069</td>\n",
       "    </tr>\n",
       "    <tr>\n",
       "      <th>2</th>\n",
       "      <td>-1.139916</td>\n",
       "      <td>1.069725</td>\n",
       "      <td>1.154766</td>\n",
       "      <td>0.470102</td>\n",
       "    </tr>\n",
       "    <tr>\n",
       "      <th>3</th>\n",
       "      <td>2.178853</td>\n",
       "      <td>0.731846</td>\n",
       "      <td>0.997767</td>\n",
       "      <td>-0.145597</td>\n",
       "    </tr>\n",
       "    <tr>\n",
       "      <th>4</th>\n",
       "      <td>0.837862</td>\n",
       "      <td>1.443393</td>\n",
       "      <td>0.429970</td>\n",
       "      <td>0.389740</td>\n",
       "    </tr>\n",
       "  </tbody>\n",
       "</table>\n",
       "</div>\n",
       "      <button class=\"colab-df-convert\" onclick=\"convertToInteractive('df-425dcb23-0380-4977-94cf-5c1ac8a78048')\"\n",
       "              title=\"Convert this dataframe to an interactive table.\"\n",
       "              style=\"display:none;\">\n",
       "        \n",
       "  <svg xmlns=\"http://www.w3.org/2000/svg\" height=\"24px\"viewBox=\"0 0 24 24\"\n",
       "       width=\"24px\">\n",
       "    <path d=\"M0 0h24v24H0V0z\" fill=\"none\"/>\n",
       "    <path d=\"M18.56 5.44l.94 2.06.94-2.06 2.06-.94-2.06-.94-.94-2.06-.94 2.06-2.06.94zm-11 1L8.5 8.5l.94-2.06 2.06-.94-2.06-.94L8.5 2.5l-.94 2.06-2.06.94zm10 10l.94 2.06.94-2.06 2.06-.94-2.06-.94-.94-2.06-.94 2.06-2.06.94z\"/><path d=\"M17.41 7.96l-1.37-1.37c-.4-.4-.92-.59-1.43-.59-.52 0-1.04.2-1.43.59L10.3 9.45l-7.72 7.72c-.78.78-.78 2.05 0 2.83L4 21.41c.39.39.9.59 1.41.59.51 0 1.02-.2 1.41-.59l7.78-7.78 2.81-2.81c.8-.78.8-2.07 0-2.86zM5.41 20L4 18.59l7.72-7.72 1.47 1.35L5.41 20z\"/>\n",
       "  </svg>\n",
       "      </button>\n",
       "      \n",
       "  <style>\n",
       "    .colab-df-container {\n",
       "      display:flex;\n",
       "      flex-wrap:wrap;\n",
       "      gap: 12px;\n",
       "    }\n",
       "\n",
       "    .colab-df-convert {\n",
       "      background-color: #E8F0FE;\n",
       "      border: none;\n",
       "      border-radius: 50%;\n",
       "      cursor: pointer;\n",
       "      display: none;\n",
       "      fill: #1967D2;\n",
       "      height: 32px;\n",
       "      padding: 0 0 0 0;\n",
       "      width: 32px;\n",
       "    }\n",
       "\n",
       "    .colab-df-convert:hover {\n",
       "      background-color: #E2EBFA;\n",
       "      box-shadow: 0px 1px 2px rgba(60, 64, 67, 0.3), 0px 1px 3px 1px rgba(60, 64, 67, 0.15);\n",
       "      fill: #174EA6;\n",
       "    }\n",
       "\n",
       "    [theme=dark] .colab-df-convert {\n",
       "      background-color: #3B4455;\n",
       "      fill: #D2E3FC;\n",
       "    }\n",
       "\n",
       "    [theme=dark] .colab-df-convert:hover {\n",
       "      background-color: #434B5C;\n",
       "      box-shadow: 0px 1px 3px 1px rgba(0, 0, 0, 0.15);\n",
       "      filter: drop-shadow(0px 1px 2px rgba(0, 0, 0, 0.3));\n",
       "      fill: #FFFFFF;\n",
       "    }\n",
       "  </style>\n",
       "\n",
       "      <script>\n",
       "        const buttonEl =\n",
       "          document.querySelector('#df-425dcb23-0380-4977-94cf-5c1ac8a78048 button.colab-df-convert');\n",
       "        buttonEl.style.display =\n",
       "          google.colab.kernel.accessAllowed ? 'block' : 'none';\n",
       "\n",
       "        async function convertToInteractive(key) {\n",
       "          const element = document.querySelector('#df-425dcb23-0380-4977-94cf-5c1ac8a78048');\n",
       "          const dataTable =\n",
       "            await google.colab.kernel.invokeFunction('convertToInteractive',\n",
       "                                                     [key], {});\n",
       "          if (!dataTable) return;\n",
       "\n",
       "          const docLinkHtml = 'Like what you see? Visit the ' +\n",
       "            '<a target=\"_blank\" href=https://colab.research.google.com/notebooks/data_table.ipynb>data table notebook</a>'\n",
       "            + ' to learn more about interactive tables.';\n",
       "          element.innerHTML = '';\n",
       "          dataTable['output_type'] = 'display_data';\n",
       "          await google.colab.output.renderOutput(dataTable, element);\n",
       "          const docLink = document.createElement('div');\n",
       "          docLink.innerHTML = docLinkHtml;\n",
       "          element.appendChild(docLink);\n",
       "        }\n",
       "      </script>\n",
       "    </div>\n",
       "  </div>\n",
       "  "
      ],
      "text/plain": [
       "        pc1       pc2       pc3       pc4\n",
       "0 -1.300521  2.401550 -0.346927  0.030911\n",
       "1  2.221414 -1.662738  0.654723 -0.626069\n",
       "2 -1.139916  1.069725  1.154766  0.470102\n",
       "3  2.178853  0.731846  0.997767 -0.145597\n",
       "4  0.837862  1.443393  0.429970  0.389740"
      ]
     },
     "execution_count": 56,
     "metadata": {},
     "output_type": "execute_result"
    }
   ],
   "source": [
    "principalDf = pd.DataFrame(data = X_pca, columns = ['pc1', 'pc2', 'pc3', 'pc4'])\n",
    "principalDf.head()"
   ]
  },
  {
   "cell_type": "code",
   "execution_count": 63,
   "metadata": {
    "colab": {
     "base_uri": "https://localhost:8080/",
     "height": 362
    },
    "id": "noka04O_U8DA",
    "outputId": "22ae1932-4479-4dab-a268-97a91a8e8002"
   },
   "outputs": [
    {
     "data": {
      "image/png": "[encoded data removed]",
      "text/plain": [
       "<Figure size 576x396 with 1 Axes>"
      ]
     },
     "metadata": {},
     "output_type": "display_data"
    }
   ],
   "source": [
    "plt.title('K-means, 4 clusters with PCA')\n",
    "sns.scatterplot(x = X_pca[:,0], y = X_pca[:,3], hue=labels, palette='rainbow');"
   ]
  },
  {
   "cell_type": "markdown",
   "metadata": {
    "id": "UxXZw2_fqzzH"
   },
   "source": [
    "After applying PCA, the clusters are beginning to make more sense compared to the dataset without the PCA"
   ]
  },
  {
   "cell_type": "markdown",
   "metadata": {
    "id": "l3eilVF9rfev"
   },
   "source": [
    "### Implementing KFOLD CV and using a Classifier Model on both PCA feature and Categorical Features"
   ]
  },
  {
   "cell_type": "code",
   "execution_count": 64,
   "metadata": {
    "id": "3vVl65c_ZV4u"
   },
   "outputs": [],
   "source": [
    "#merging the PCA features and categorical features for training our model\n",
    "merged_data = data[categorical].join(principalDf)"
   ]
  },
  {
   "cell_type": "code",
   "execution_count": 65,
   "metadata": {
    "id": "O55b3ovftmT_"
   },
   "outputs": [],
   "source": [
    "#splitting out features and target variables\n",
    "X = merged_data.values\n",
    "y = target"
   ]
  },
  {
   "cell_type": "code",
   "execution_count": 60,
   "metadata": {
    "colab": {
     "base_uri": "https://localhost:8080/"
    },
    "id": "NFNUZp0SxERg",
    "outputId": "a5bef866-a1b3-48f0-fa92-94bc68a63162"
   },
   "outputs": [
    {
     "data": {
      "text/plain": [
       "{'estimator': [RandomForestClassifier(class_weight='balanced', n_estimators=10,\n",
       "                         random_state=42),\n",
       "  RandomForestClassifier(class_weight='balanced', n_estimators=10,\n",
       "                         random_state=42),\n",
       "  RandomForestClassifier(class_weight='balanced', n_estimators=10,\n",
       "                         random_state=42),\n",
       "  RandomForestClassifier(class_weight='balanced', n_estimators=10,\n",
       "                         random_state=42),\n",
       "  RandomForestClassifier(class_weight='balanced', n_estimators=10,\n",
       "                         random_state=42)],\n",
       " 'fit_time': array([0.04994297, 0.04387021, 0.0605216 , 0.04628897, 0.05445433]),\n",
       " 'score_time': array([0.00888896, 0.00853753, 0.0080955 , 0.00912929, 0.00865412]),\n",
       " 'test_balanced_accuracy': array([0.64725328, 0.59871032, 0.67189566, 0.650504  , 0.64320473]),\n",
       " 'test_precision_macro': array([0.66333333, 0.61790846, 0.6702381 , 0.66476408, 0.65327381]),\n",
       " 'test_recall_macro': array([0.64725328, 0.59871032, 0.67189566, 0.650504  , 0.64320473])}"
      ]
     },
     "execution_count": 60,
     "metadata": {},
     "output_type": "execute_result"
    }
   ],
   "source": [
    "from sklearn.model_selection import cross_val_score\n",
    "from sklearn.model_selection import cross_validate\n",
    "from sklearn.model_selection import KFold\n",
    "from sklearn.ensemble import  RandomForestClassifier\n",
    "from sklearn.svm import SVC\n",
    "from sklearn import metrics\n",
    "\n",
    "scoring = ['precision_macro', 'recall_macro', 'balanced_accuracy']\n",
    "cv = KFold(n_splits=5, random_state=1, shuffle=True)\n",
    "#model = SVC(kernel='linear', C=1)\n",
    "rf = RandomForestClassifier(n_estimators =10, random_state = 42, class_weight=\"balanced\")\n",
    "scores = cross_validate(rf, X, y, scoring=scoring, cv=cv, return_estimator=True)\n",
    "\n",
    "scores\n"
   ]
  },
  {
   "cell_type": "markdown",
   "metadata": {
    "id": "zk8GtB4x3Qm_"
   },
   "source": [
    "After implementing KFold CV for 5folds with the RandomForestClassifier Model above, we're not getting the best scores according to the accuracy, precision and recall scores above. So I decided to check the feature importance below."
   ]
  },
  {
   "cell_type": "code",
   "execution_count": 66,
   "metadata": {
    "colab": {
     "base_uri": "https://localhost:8080/"
    },
    "id": "rlQ9kvfr3MXm",
    "outputId": "cf3cec61-32c0-49e5-8a5b-c1a91dc769de"
   },
   "outputs": [
    {
     "name": "stdout",
     "output_type": "stream",
     "text": [
      "Features sorted by their score for estimator 0:\n",
      "                             importance\n",
      "pc4                            0.172076\n",
      "pc3                            0.163398\n",
      "pc1                            0.154341\n",
      "pc2                            0.142835\n",
      "Checking account_unknown       0.089422\n",
      "Checking account_little        0.038482\n",
      "Housing_own                    0.024330\n",
      "Checking account_moderate      0.022182\n",
      "Saving accounts_little         0.021320\n",
      "Purpose_business               0.019666\n",
      "Purpose_radio/TV               0.017674\n",
      "Sex_male                       0.016282\n",
      "Purpose_car                    0.016273\n",
      "Sex_female                     0.013397\n",
      "Housing_rent                   0.013286\n",
      "Purpose_furniture/equipment    0.013137\n",
      "Housing_free                   0.010906\n",
      "Checking account_rich          0.009211\n",
      "Saving accounts_rich           0.009062\n",
      "Saving accounts_moderate       0.008949\n",
      "Saving accounts_quite rich     0.007719\n",
      "Purpose_repairs                0.006849\n",
      "Purpose_education              0.004907\n",
      "Purpose_vacation/others        0.002452\n",
      "Purpose_domestic appliances    0.001843\n",
      "Features sorted by their score for estimator 1:\n",
      "                             importance\n",
      "pc1                            0.176393\n",
      "pc4                            0.165979\n",
      "pc2                            0.150574\n",
      "pc3                            0.129628\n",
      "Checking account_unknown       0.086197\n",
      "Checking account_little        0.046520\n",
      "Purpose_business               0.024040\n",
      "Purpose_radio/TV               0.021531\n",
      "Checking account_moderate      0.017608\n",
      "Sex_male                       0.017346\n",
      "Purpose_car                    0.016928\n",
      "Sex_female                     0.016824\n",
      "Housing_own                    0.014932\n",
      "Saving accounts_little         0.014895\n",
      "Housing_rent                   0.014518\n",
      "Purpose_furniture/equipment    0.013026\n",
      "Purpose_education              0.011743\n",
      "Saving accounts_quite rich     0.011733\n",
      "Saving accounts_moderate       0.011448\n",
      "Saving accounts_rich           0.009833\n",
      "Checking account_rich          0.008173\n",
      "Housing_free                   0.008162\n",
      "Purpose_repairs                0.004387\n",
      "Purpose_vacation/others        0.003923\n",
      "Purpose_domestic appliances    0.003658\n",
      "Features sorted by their score for estimator 2:\n",
      "                             importance\n",
      "pc2                            0.168903\n",
      "pc1                            0.163580\n",
      "pc4                            0.155206\n",
      "pc3                            0.141243\n",
      "Checking account_unknown       0.095956\n",
      "Checking account_little        0.041449\n",
      "Checking account_moderate      0.025948\n",
      "Saving accounts_little         0.022013\n",
      "Sex_male                       0.021063\n",
      "Purpose_car                    0.020160\n",
      "Purpose_radio/TV               0.019482\n",
      "Purpose_furniture/equipment    0.016744\n",
      "Housing_own                    0.015433\n",
      "Housing_rent                   0.012197\n",
      "Purpose_business               0.011918\n",
      "Housing_free                   0.011419\n",
      "Checking account_rich          0.009546\n",
      "Sex_female                     0.008676\n",
      "Purpose_education              0.008647\n",
      "Saving accounts_moderate       0.007976\n",
      "Saving accounts_quite rich     0.006094\n",
      "Saving accounts_rich           0.005477\n",
      "Purpose_repairs                0.004383\n",
      "Purpose_vacation/others        0.003535\n",
      "Purpose_domestic appliances    0.002953\n",
      "Features sorted by their score for estimator 3:\n",
      "                             importance\n",
      "pc1                            0.171028\n",
      "pc4                            0.157550\n",
      "pc3                            0.155395\n",
      "pc2                            0.143859\n",
      "Checking account_unknown       0.099940\n",
      "Checking account_little        0.036317\n",
      "Checking account_moderate      0.025939\n",
      "Housing_own                    0.023010\n",
      "Purpose_car                    0.022900\n",
      "Sex_male                       0.019292\n",
      "Purpose_radio/TV               0.016300\n",
      "Purpose_business               0.015476\n",
      "Sex_female                     0.013648\n",
      "Purpose_furniture/equipment    0.012739\n",
      "Saving accounts_moderate       0.012199\n",
      "Saving accounts_little         0.012128\n",
      "Purpose_repairs                0.011306\n",
      "Housing_rent                   0.010575\n",
      "Saving accounts_rich           0.008596\n",
      "Housing_free                   0.008136\n",
      "Purpose_education              0.007295\n",
      "Checking account_rich          0.006422\n",
      "Saving accounts_quite rich     0.005459\n",
      "Purpose_vacation/others        0.003260\n",
      "Purpose_domestic appliances    0.001232\n",
      "Features sorted by their score for estimator 4:\n",
      "                             importance\n",
      "pc1                            0.173680\n",
      "pc3                            0.153655\n",
      "pc4                            0.147893\n",
      "pc2                            0.145254\n",
      "Checking account_unknown       0.085192\n",
      "Checking account_little        0.042705\n",
      "Purpose_furniture/equipment    0.023266\n",
      "Checking account_moderate      0.021449\n",
      "Housing_own                    0.021437\n",
      "Sex_female                     0.019386\n",
      "Purpose_business               0.017477\n",
      "Purpose_radio/TV               0.017456\n",
      "Saving accounts_little         0.016385\n",
      "Saving accounts_moderate       0.015482\n",
      "Purpose_car                    0.014553\n",
      "Sex_male                       0.013278\n",
      "Purpose_education              0.013077\n",
      "Saving accounts_quite rich     0.011901\n",
      "Checking account_rich          0.011404\n",
      "Housing_rent                   0.009898\n",
      "Housing_free                   0.008776\n",
      "Purpose_repairs                0.005979\n",
      "Saving accounts_rich           0.005720\n",
      "Purpose_domestic appliances    0.002791\n",
      "Purpose_vacation/others        0.001906\n"
     ]
    }
   ],
   "source": [
    "for idx,estimator in enumerate(scores['estimator']):\n",
    "    print(\"Features sorted by their score for estimator {}:\".format(idx))\n",
    "    feature_importances = pd.DataFrame(estimator.feature_importances_,\n",
    "                                       index = merged_data.columns,\n",
    "                                        columns=['importance']).sort_values('importance', ascending=False)\n",
    "    print(feature_importances)"
   ]
  },
  {
   "cell_type": "markdown",
   "metadata": {
    "id": "lB2H2xNf6UpA"
   },
   "source": [
    "After checking our most importance features in predicting from our model. We can see that our most important features are the features we performed PCA on, that is the \"pc1\", \"pc2\", \"pc3\", \"pc4\". Out of curiosity, I decided to use only the continous features with pca on the model. \n",
    "\n",
    "\n",
    "### Performing KFold CV on PCA features only"
   ]
  },
  {
   "cell_type": "code",
   "execution_count": 67,
   "metadata": {
    "id": "JUJcnIJ84LYP"
   },
   "outputs": [],
   "source": [
    "#splitting out features and target variables\n",
    "X1 = principalDf.values\n",
    "y1 = target"
   ]
  },
  {
   "cell_type": "code",
   "execution_count": 68,
   "metadata": {
    "colab": {
     "base_uri": "https://localhost:8080/"
    },
    "id": "F2-toTi45j73",
    "outputId": "f978294e-1046-4d8d-c775-6915766e7464"
   },
   "outputs": [
    {
     "data": {
      "text/plain": [
       "{'estimator': [RandomForestClassifier(class_weight='balanced', n_estimators=10,\n",
       "                         random_state=42),\n",
       "  RandomForestClassifier(class_weight='balanced', n_estimators=10,\n",
       "                         random_state=42),\n",
       "  RandomForestClassifier(class_weight='balanced', n_estimators=10,\n",
       "                         random_state=42),\n",
       "  RandomForestClassifier(class_weight='balanced', n_estimators=10,\n",
       "                         random_state=42),\n",
       "  RandomForestClassifier(class_weight='balanced', n_estimators=10,\n",
       "                         random_state=42)],\n",
       " 'fit_time': array([0.03080463, 0.03265429, 0.03212929, 0.02995086, 0.03571129]),\n",
       " 'score_time': array([0.00493789, 0.00470257, 0.00684762, 0.00539899, 0.00500941]),\n",
       " 'test_balanced_accuracy': array([0.5942421 , 0.55357143, 0.5977882 , 0.54257908, 0.56748928]),\n",
       " 'test_precision_macro': array([0.60745614, 0.55357143, 0.61312752, 0.5460815 , 0.58351254]),\n",
       " 'test_recall_macro': array([0.5942421 , 0.55357143, 0.5977882 , 0.54257908, 0.56748928])}"
      ]
     },
     "execution_count": 68,
     "metadata": {},
     "output_type": "execute_result"
    }
   ],
   "source": [
    "from sklearn.model_selection import cross_val_score\n",
    "from sklearn.model_selection import cross_validate\n",
    "from sklearn.model_selection import KFold\n",
    "from sklearn.ensemble import  RandomForestClassifier\n",
    "from sklearn.svm import SVC\n",
    "from sklearn import metrics\n",
    "\n",
    "scoring = ['precision_macro', 'recall_macro', 'balanced_accuracy']\n",
    "cv = KFold(n_splits=5, random_state=1, shuffle=True)\n",
    "#model = SVC(kernel='linear', C=1)\n",
    "rf = RandomForestClassifier(n_estimators =10, random_state = 42, class_weight=\"balanced\")\n",
    "scores = cross_validate(rf, X1, y1, scoring=scoring, cv=cv, return_estimator=True)\n",
    "\n",
    "scores"
   ]
  },
  {
   "cell_type": "markdown",
   "metadata": {
    "id": "B35tT8bt8k4_"
   },
   "source": [
    "Observation: Our perform more poorly on only the Pca features, compared to when we used both the categorical features and Pca features."
   ]
  }
 ],
 "metadata": {
  "colab": {
   "collapsed_sections": [],
   "name": "Project3-200499665_Olaoluwa_Ogunse.ipynb",
   "provenance": []
  },
  "kernelspec": {
   "display_name": "Python 3",
   "language": "python",
   "name": "python3"
  },
  "language_info": {
   "codemirror_mode": {
    "name": "ipython",
    "version": 3
   },
   "file_extension": ".py",
   "mimetype": "text/x-python",
   "name": "python",
   "nbconvert_exporter": "python",
   "pygments_lexer": "ipython3",
   "version": "3.9.1"
  }
 },
 "nbformat": 4,
 "nbformat_minor": 1
}
