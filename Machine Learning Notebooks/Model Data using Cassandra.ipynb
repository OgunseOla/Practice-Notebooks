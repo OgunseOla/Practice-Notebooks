{
 "cells": [
  {
   "cell_type": "markdown",
   "metadata": {},
   "source": [
    "## Model Data using Cassandra"
   ]
  },
  {
   "cell_type": "markdown",
   "metadata": {},
   "source": [
    "### Introduction\n",
    "\n",
    "There is a music streaming app called SoundCloud, that has been using their music streaming app and collecting data on songs and user activity and their aim is to analyze this data especially understanding what songs users are listening to. Currently, they are not making use of a NoSQL db and they have the data stored as a CSV file, thus its difficult for them to query the data. So our task is to create a NoSQL database for helping them with the analysis."
   ]
  },
  {
   "cell_type": "markdown",
   "metadata": {},
   "source": [
    "#### Import Packages "
   ]
  },
  {
   "cell_type": "code",
   "execution_count": 4,
   "metadata": {},
   "outputs": [],
   "source": [
    "import pandas as pd\n",
    "import numpy as np\n",
    "import cassandra\n",
    "import csv"
   ]
  },
  {
   "cell_type": "markdown",
   "metadata": {},
   "source": [
    "\n",
    "##  The image below is a screenshot of what the data appears like in the event_data.csv\n",
    "\n",
    "<img src=\"event_data_image.jpg\">"
   ]
  },
  {
   "cell_type": "markdown",
   "metadata": {},
   "source": [
    "#### Creating a Cluster"
   ]
  },
  {
   "cell_type": "code",
   "execution_count": null,
   "metadata": {},
   "outputs": [],
   "source": [
    "# Task: Make a connection to the cassandra instance on your local machine(127.0.0.1) and \n",
    "# create a session to establish connection and begin executing queries"
   ]
  },
  {
   "cell_type": "code",
   "execution_count": 1,
   "metadata": {},
   "outputs": [
    {
     "name": "stdout",
     "output_type": "stream",
     "text": [
      "Collecting cassandra-driver\n",
      "  Downloading cassandra_driver-3.25.0-cp36-cp36m-win_amd64.whl (2.7 MB)\n",
      "Requirement already satisfied: six>=1.9 in c:\\users\\admin\\anaconda3\\lib\\site-packages (from cassandra-driver) (1.11.0)\n",
      "Collecting geomet<0.3,>=0.1\n",
      "  Downloading geomet-0.2.1.post1-py3-none-any.whl (18 kB)\n",
      "Requirement already satisfied: click in c:\\users\\admin\\anaconda3\\lib\\site-packages (from geomet<0.3,>=0.1->cassandra-driver) (6.7)\n",
      "Installing collected packages: geomet, cassandra-driver\n",
      "Successfully installed cassandra-driver-3.25.0 geomet-0.2.1.post1\n"
     ]
    },
    {
     "name": "stderr",
     "output_type": "stream",
     "text": [
      "WARNING: Ignoring invalid distribution -illow (c:\\users\\admin\\anaconda3\\lib\\site-packages)\n",
      "WARNING: Ignoring invalid distribution -atplotlib (c:\\users\\admin\\anaconda3\\lib\\site-packages)\n",
      "WARNING: Ignoring invalid distribution -andas (c:\\users\\admin\\anaconda3\\lib\\site-packages)\n",
      "WARNING: Ignoring invalid distribution -illow (c:\\users\\admin\\anaconda3\\lib\\site-packages)\n",
      "WARNING: Ignoring invalid distribution -atplotlib (c:\\users\\admin\\anaconda3\\lib\\site-packages)\n",
      "WARNING: Ignoring invalid distribution -andas (c:\\users\\admin\\anaconda3\\lib\\site-packages)\n",
      "WARNING: Ignoring invalid distribution -illow (c:\\users\\admin\\anaconda3\\lib\\site-packages)\n",
      "WARNING: Ignoring invalid distribution -atplotlib (c:\\users\\admin\\anaconda3\\lib\\site-packages)\n",
      "WARNING: Ignoring invalid distribution -andas (c:\\users\\admin\\anaconda3\\lib\\site-packages)\n",
      "WARNING: Ignoring invalid distribution -illow (c:\\users\\admin\\anaconda3\\lib\\site-packages)\n",
      "WARNING: Ignoring invalid distribution -atplotlib (c:\\users\\admin\\anaconda3\\lib\\site-packages)\n",
      "WARNING: Ignoring invalid distribution -andas (c:\\users\\admin\\anaconda3\\lib\\site-packages)\n",
      "WARNING: Ignoring invalid distribution -illow (c:\\users\\admin\\anaconda3\\lib\\site-packages)\n",
      "WARNING: Ignoring invalid distribution -atplotlib (c:\\users\\admin\\anaconda3\\lib\\site-packages)\n",
      "WARNING: Ignoring invalid distribution -andas (c:\\users\\admin\\anaconda3\\lib\\site-packages)\n",
      "WARNING: Ignoring invalid distribution -illow (c:\\users\\admin\\anaconda3\\lib\\site-packages)\n",
      "WARNING: Ignoring invalid distribution -atplotlib (c:\\users\\admin\\anaconda3\\lib\\site-packages)\n",
      "WARNING: Ignoring invalid distribution -andas (c:\\users\\admin\\anaconda3\\lib\\site-packages)\n",
      "WARNING: Ignoring invalid distribution -illow (c:\\users\\admin\\anaconda3\\lib\\site-packages)\n",
      "WARNING: Ignoring invalid distribution -atplotlib (c:\\users\\admin\\anaconda3\\lib\\site-packages)\n",
      "WARNING: Ignoring invalid distribution -andas (c:\\users\\admin\\anaconda3\\lib\\site-packages)\n"
     ]
    }
   ],
   "source": [
    "! pip install cassandra-driver"
   ]
  },
  {
   "cell_type": "code",
   "execution_count": 26,
   "metadata": {},
   "outputs": [],
   "source": [
    "import cassandra"
   ]
  },
  {
   "cell_type": "code",
   "execution_count": 27,
   "metadata": {},
   "outputs": [],
   "source": [
    "from cassandra.cluster import Cluster\n",
    "try: \n",
    "    cluster = Cluster(['127.0.0.1']) #If you have a locally installed Apache Cassandra instance\n",
    "    session = cluster.connect()\n",
    "except Exception as e:\n",
    "    print(e)"
   ]
  },
  {
   "cell_type": "markdown",
   "metadata": {},
   "source": [
    "#### Create & Set Keyspace"
   ]
  },
  {
   "cell_type": "code",
   "execution_count": 28,
   "metadata": {},
   "outputs": [],
   "source": [
    "# Task: Create a Keyspace and Set KEYSPACE to the keyspace specified above\n",
    "try:\n",
    "    session.execute(\"\"\"\n",
    "    CREATE KEYSPACE IF NOT EXISTS nosqldb \n",
    "    WITH REPLICATION = { 'class' : 'SimpleStrategy', 'replication_factor' : 1 }\"\"\"\n",
    ")\n",
    "\n",
    "except Exception as e:\n",
    "    print(e)"
   ]
  },
  {
   "cell_type": "code",
   "execution_count": 29,
   "metadata": {},
   "outputs": [],
   "source": [
    "try:\n",
    "    session.set_keyspace('nosqldb')\n",
    "except Exception as e:\n",
    "    print(e)"
   ]
  },
  {
   "cell_type": "code",
   "execution_count": 24,
   "metadata": {},
   "outputs": [
    {
     "data": {
      "text/html": [
       "<div>\n",
       "<style scoped>\n",
       "    .dataframe tbody tr th:only-of-type {\n",
       "        vertical-align: middle;\n",
       "    }\n",
       "\n",
       "    .dataframe tbody tr th {\n",
       "        vertical-align: top;\n",
       "    }\n",
       "\n",
       "    .dataframe thead th {\n",
       "        text-align: right;\n",
       "    }\n",
       "</style>\n",
       "<table border=\"1\" class=\"dataframe\">\n",
       "  <thead>\n",
       "    <tr style=\"text-align: right;\">\n",
       "      <th></th>\n",
       "      <th>artist_name</th>\n",
       "      <th>fname</th>\n",
       "      <th>gender</th>\n",
       "      <th>item_in_session_number</th>\n",
       "      <th>lname</th>\n",
       "      <th>length</th>\n",
       "      <th>level</th>\n",
       "      <th>location</th>\n",
       "      <th>session_number</th>\n",
       "      <th>song_title</th>\n",
       "      <th>user_id</th>\n",
       "    </tr>\n",
       "  </thead>\n",
       "  <tbody>\n",
       "    <tr>\n",
       "      <th>0</th>\n",
       "      <td>Pavement</td>\n",
       "      <td>Sylvie</td>\n",
       "      <td>F</td>\n",
       "      <td>0</td>\n",
       "      <td>Cruz</td>\n",
       "      <td>99.16036</td>\n",
       "      <td>free</td>\n",
       "      <td>Washington-Arlington-Alexandria, DC-VA-MD-WV</td>\n",
       "      <td>345</td>\n",
       "      <td>Mercy:The Laundromat</td>\n",
       "      <td>10</td>\n",
       "    </tr>\n",
       "    <tr>\n",
       "      <th>1</th>\n",
       "      <td>Barry Tuckwell/Academy of St Martin-in-the-Fie...</td>\n",
       "      <td>Celeste</td>\n",
       "      <td>F</td>\n",
       "      <td>1</td>\n",
       "      <td>Williams</td>\n",
       "      <td>277.15873</td>\n",
       "      <td>free</td>\n",
       "      <td>Klamath Falls, OR</td>\n",
       "      <td>438</td>\n",
       "      <td>Horn Concerto No. 4 in E flat K495: II. Romanc...</td>\n",
       "      <td>53</td>\n",
       "    </tr>\n",
       "    <tr>\n",
       "      <th>2</th>\n",
       "      <td>Gary Allan</td>\n",
       "      <td>Celeste</td>\n",
       "      <td>F</td>\n",
       "      <td>2</td>\n",
       "      <td>Williams</td>\n",
       "      <td>211.22567</td>\n",
       "      <td>free</td>\n",
       "      <td>Klamath Falls, OR</td>\n",
       "      <td>438</td>\n",
       "      <td>Nothing On But The Radio</td>\n",
       "      <td>53</td>\n",
       "    </tr>\n",
       "    <tr>\n",
       "      <th>3</th>\n",
       "      <td>Charttraxx Karaoke</td>\n",
       "      <td>Celeste</td>\n",
       "      <td>F</td>\n",
       "      <td>3</td>\n",
       "      <td>Williams</td>\n",
       "      <td>225.17506</td>\n",
       "      <td>free</td>\n",
       "      <td>Klamath Falls, OR</td>\n",
       "      <td>438</td>\n",
       "      <td>Fireflies</td>\n",
       "      <td>53</td>\n",
       "    </tr>\n",
       "    <tr>\n",
       "      <th>4</th>\n",
       "      <td>The Libertines</td>\n",
       "      <td>Jacqueline</td>\n",
       "      <td>F</td>\n",
       "      <td>1</td>\n",
       "      <td>Lynch</td>\n",
       "      <td>179.53914</td>\n",
       "      <td>paid</td>\n",
       "      <td>Atlanta-Sandy Springs-Roswell, GA</td>\n",
       "      <td>389</td>\n",
       "      <td>The Good Old Days</td>\n",
       "      <td>29</td>\n",
       "    </tr>\n",
       "  </tbody>\n",
       "</table>\n",
       "</div>"
      ],
      "text/plain": [
       "                                         artist_name       fname gender  \\\n",
       "0                                           Pavement      Sylvie      F   \n",
       "1  Barry Tuckwell/Academy of St Martin-in-the-Fie...     Celeste      F   \n",
       "2                                         Gary Allan     Celeste      F   \n",
       "3                                 Charttraxx Karaoke     Celeste      F   \n",
       "4                                     The Libertines  Jacqueline      F   \n",
       "\n",
       "   item_in_session_number     lname     length level  \\\n",
       "0                       0      Cruz   99.16036  free   \n",
       "1                       1  Williams  277.15873  free   \n",
       "2                       2  Williams  211.22567  free   \n",
       "3                       3  Williams  225.17506  free   \n",
       "4                       1     Lynch  179.53914  paid   \n",
       "\n",
       "                                       location  session_number  \\\n",
       "0  Washington-Arlington-Alexandria, DC-VA-MD-WV             345   \n",
       "1                             Klamath Falls, OR             438   \n",
       "2                             Klamath Falls, OR             438   \n",
       "3                             Klamath Falls, OR             438   \n",
       "4             Atlanta-Sandy Springs-Roswell, GA             389   \n",
       "\n",
       "                                          song_title  user_id  \n",
       "0                               Mercy:The Laundromat       10  \n",
       "1  Horn Concerto No. 4 in E flat K495: II. Romanc...       53  \n",
       "2                           Nothing On But The Radio       53  \n",
       "3                                          Fireflies       53  \n",
       "4                                  The Good Old Days       29  "
      ]
     },
     "execution_count": 24,
     "metadata": {},
     "output_type": "execute_result"
    }
   ],
   "source": [
    "event_data = pd.read_csv('event_data.csv')\n",
    "event_data.head(5)"
   ]
  },
  {
   "cell_type": "markdown",
   "metadata": {},
   "source": [
    "## List of Queries \n",
    "\n",
    "### 1. Find the artist_name, song_title and length of song the SoundCloud app history that was heard during  session_number = 338, and item_in_session_number  = 4\n",
    "\n",
    "\n",
    "### 2. Find the artist_name, song_title (sorted by item_in_session_number) and name(fname and lname) of the user for user_id = 10, session_number = 182\n",
    "    \n",
    "\n",
    "### 3. Find every name(fname and lname) of the user from the SoundCloud app history that listened to the song_title 'All Hands Against His Own'\n",
    "\n",
    "\n"
   ]
  },
  {
   "cell_type": "markdown",
   "metadata": {},
   "source": [
    "### Query1 Table1: How should we model this data? Think about what should be our Primary Key/Partition Key/Clustering Key"
   ]
  },
  {
   "cell_type": "code",
   "execution_count": 33,
   "metadata": {},
   "outputs": [],
   "source": [
    "## Task: Query 1: Find the artist_name, song_title and length of song the SoundCloud app history \n",
    "## that was heard during session_number = 338, and item_in_session_number = 4\n",
    "## make use of create table command   \n",
    "query = \"CREATE TABLE IF NOT EXISTS songs_played\"\n",
    "query = query + \"(session_number int, item_in_session_number int, song_title text, artist_name text, length float, PRIMARY KEY (session_number, item_in_session_number))\"\n",
    "try:\n",
    "    session.execute(query)\n",
    "except Exception as e:\n",
    "    print(e)"
   ]
  },
  {
   "cell_type": "markdown",
   "metadata": {},
   "source": [
    "### Let's insert our data into of table"
   ]
  },
  {
   "cell_type": "code",
   "execution_count": 34,
   "metadata": {
    "scrolled": false
   },
   "outputs": [],
   "source": [
    "# We have provided part of the code to set up the CSV file. Please complete the Apache Cassandra code below#\n",
    "file_name = 'event_data.csv'\n",
    "\n",
    "with open(file_name, encoding = 'utf8') as f:\n",
    "    csv_reader = csv.reader(f)\n",
    "    next(csv_reader) # skip the header in the csv file\n",
    "    for row in csv_reader:\n",
    "## Task: Write the INSERT statements and assign it to the query variable\n",
    "        query = \"INSERT INTO songs_played(session_number, item_in_session_number, song_title, artist_name, length)\"\n",
    "        query = query + \" VALUES (%s, %s, %s, %s, %s)\"\n",
    "        \n",
    "        ## Task: Match the column in the csv file to the column in the INSERT statement.\n",
    "        ## e.g., if you want to INSERT gender from csv file into the database you will use row[2]\n",
    "        ## e.g., if you want to INSERT location from csv file into database you will use row[7]\n",
    "      \n",
    "        session.execute(query, (int(row[8]), int(row[3]), row[9], row[0], float(row[5])))\n",
    "    "
   ]
  },
  {
   "cell_type": "markdown",
   "metadata": {},
   "source": [
    "### Validate our Data Model using a SELECT"
   ]
  },
  {
   "cell_type": "code",
   "execution_count": 48,
   "metadata": {
    "scrolled": true
   },
   "outputs": [
    {
     "name": "stdout",
     "output_type": "stream",
     "text": [
      "Artist Name: Faithless , Song Title: Music Matters (Mark Knight Dub) , Length of song: 495.30731201171875\n"
     ]
    }
   ],
   "source": [
    "## Task: Make use of the SELECT statement and for loop to check if your query works and display the results\n",
    "query = \"SELECT artist_name, song_title, length FROM songs_played WHERE session_number= %s AND item_in_session_number = %s\"\n",
    "try:\n",
    "    rows = session.execute(query, (338, 4))\n",
    "except Exception as e:\n",
    "    print(e)\n",
    "\n",
    "for row in rows:\n",
    "    print (\"Artist Name:\", row.artist_name, \", Song Title:\", row.song_title, \", Length of song:\", row.length)"
   ]
  },
  {
   "cell_type": "markdown",
   "metadata": {},
   "source": [
    "### Query2 Table2: How should we model this data? Think about what should be our Primary Key/Partition Key/Clustering Key "
   ]
  },
  {
   "cell_type": "code",
   "execution_count": 49,
   "metadata": {},
   "outputs": [],
   "source": [
    "## Task: Query 2: Find the artist_name, song_title (sorted by item_in_session_number) and \n",
    "## name(fname and lname) of the user for user_id = 10, session_number = 182 \n",
    "## make use of create table command    \n",
    "\n",
    "query = \"CREATE TABLE IF NOT EXISTS user_session_number\"\n",
    "query = query + \"(user_id int, session_number int, item_in_session_number int, artist_name text, song_title text, fname text, lname text, PRIMARY KEY ((user_id, session_number), item_in_session_number))\"\n",
    "try:\n",
    "    session.execute(query)\n",
    "except Exception as e:\n",
    "    print(e)"
   ]
  },
  {
   "cell_type": "markdown",
   "metadata": {},
   "source": [
    "### Let's insert our data into of table"
   ]
  },
  {
   "cell_type": "code",
   "execution_count": 53,
   "metadata": {
    "scrolled": false
   },
   "outputs": [],
   "source": [
    "# We have provided part of the code to set up the CSV file. Please complete the Apache Cassandra code below#\n",
    "file_name = 'event_data.csv'\n",
    "\n",
    "with open(file_name, encoding = 'utf8') as f:\n",
    "    csv_reader = csv.reader(f)\n",
    "    next(csv_reader) # skip the header in the csv file\n",
    "    for row in csv_reader:\n",
    "## Task: Write the INSERT statements and assign it to the query variable\n",
    "        query = \"INSERT INTO user_session_number (session_number, item_in_session_number, song_title, artist_name, fname, lname, user_id)\"\n",
    "        query = query + \"VALUES (%s, %s, %s, %s, %s, %s, %s)\"\n",
    "        \n",
    "        ## Task: Match the column in the csv file to the column in the INSERT statement.\n",
    "        ## e.g., if you want to INSERT gender from csv file into the database you will use row[2]\n",
    "        ## e.g., if you want to INSERT location from csv file into database you will use row[7]\n",
    "        session.execute(query, (int(row[8]), int(row[3]), row[9], row[0], row[1], row[4], int(row[10])))"
   ]
  },
  {
   "cell_type": "markdown",
   "metadata": {},
   "source": [
    "### Validate our Data Model using a SELECT"
   ]
  },
  {
   "cell_type": "code",
   "execution_count": 54,
   "metadata": {
    "scrolled": true
   },
   "outputs": [
    {
     "name": "stdout",
     "output_type": "stream",
     "text": [
      "Artist Name: Down To The Bone , Title of Song: Keep On Keepin' On , First name: Sylvie , Last Name: Cruz\n",
      "Artist Name: Three Drives , Title of Song: Greece 2000 , First name: Sylvie , Last Name: Cruz\n",
      "Artist Name: Sebastien Tellier , Title of Song: Kilometer , First name: Sylvie , Last Name: Cruz\n",
      "Artist Name: Lonnie Gordon , Title of Song: Catch You Baby (Steve Pitron & Max Sanna Radio Edit) , First name: Sylvie , Last Name: Cruz\n"
     ]
    }
   ],
   "source": [
    "## Task: Make use of the SELECT statement and for loop to check if your query works and display the results\n",
    "query = \"SELECT artist_name, song_title, fname, lname FROM user_session_number WHERE user_id=%s AND session_number=%s\"\n",
    "\n",
    "try:\n",
    "    rows = session.execute(query, (10, 182))\n",
    "except Exception as e:\n",
    "    print(e)\n",
    "    \n",
    "for row in rows:\n",
    "    print (\"Artist Name:\", row.artist_name, \", Title of Song:\", row.song_title, \", First name:\", row.fname, \", Last Name:\", row.lname)"
   ]
  },
  {
   "cell_type": "markdown",
   "metadata": {},
   "source": [
    "### Query3 Table3: How should we model this data? Think about what should be our Primary Key/Partition Key/Clustering Key"
   ]
  },
  {
   "cell_type": "code",
   "execution_count": 63,
   "metadata": {},
   "outputs": [],
   "source": [
    "## Task: Query 3: Find every name(first and lastname) of the user from the SoundCloud app history that listened \n",
    "## to the song_title 'All Hands Against His Own'\n",
    "## make use of create table command \n",
    "\n",
    "query = \"CREATE TABLE IF NOT EXISTS user_song_listeners\"\n",
    "query = query + \"(song_title text, user_id int, fname text, lname text, PRIMARY KEY (song_title, user_id))\"\n",
    "try:\n",
    "    session.execute(query)\n",
    "except Exception as e:\n",
    "    print(e)"
   ]
  },
  {
   "cell_type": "markdown",
   "metadata": {},
   "source": [
    "### Let's insert our data into of table"
   ]
  },
  {
   "cell_type": "code",
   "execution_count": 65,
   "metadata": {
    "scrolled": false
   },
   "outputs": [],
   "source": [
    "# We have provided part of the code to set up the CSV file. Please complete the Apache Cassandra code below#\n",
    "file_name = 'event_data.csv'\n",
    "\n",
    "with open(file_name, encoding = 'utf8') as f:\n",
    "    csv_reader = csv.reader(f)\n",
    "    next(csv_reader) # skip the header in the csv file\n",
    "    for row in csv_reader:\n",
    "## Task: Write the INSERT statements and assign it to the query variable\n",
    "        query = \"INSERT INTO user_song_listeners (song_title, user_id, fname, lname)\"\n",
    "        query = query + \"VALUES (%s, %s, %s, %s)\"\n",
    "        \n",
    "        ## Task: Match the column in the csv file to the column in the INSERT statement.\n",
    "        ## e.g., if you want to INSERT gender from csv file into the database you will use row[2]\n",
    "        ## e.g., if you want to INSERT location from csv file into database you will use row[7]\n",
    "        session.execute(query, (row[9], int(row[10]), row[1], row[4]))"
   ]
  },
  {
   "cell_type": "markdown",
   "metadata": {},
   "source": [
    "### Validate our Data Model using a SELECT"
   ]
  },
  {
   "cell_type": "code",
   "execution_count": 66,
   "metadata": {
    "scrolled": true
   },
   "outputs": [
    {
     "name": "stdout",
     "output_type": "stream",
     "text": [
      "First name: Jacqueline , Last name: Lynch\n",
      "First name: Tegan , Last name: Levine\n",
      "First name: Sara , Last name: Johnson\n"
     ]
    }
   ],
   "source": [
    "## Task: Make use of the SELECT statement and for loop to check if your query works and display the results\n",
    "query = \"SELECT fname, lname FROM user_song_listeners WHERE song_title=%s\"\n",
    "try:\n",
    "    rows = session.execute(query, (\"All Hands Against His Own\",))\n",
    "except Exception as e:\n",
    "    print(e)\n",
    "    \n",
    "for row in rows:\n",
    "    print (\"First name:\", row.fname, \", Last name:\", row.lname)"
   ]
  },
  {
   "cell_type": "markdown",
   "metadata": {},
   "source": [
    "### Drop the tables before closing out the sessions"
   ]
  },
  {
   "cell_type": "code",
   "execution_count": 67,
   "metadata": {},
   "outputs": [],
   "source": [
    "try:\n",
    "    session.execute(\"DROP TABLE IF EXISTS table1\")\n",
    "    session.execute(\"DROP TABLE IF EXISTS table2\")\n",
    "    session.execute(\"DROP TABLE IF EXISTS table3\")\n",
    "except Exception as e:\n",
    "    print (e)"
   ]
  },
  {
   "cell_type": "markdown",
   "metadata": {},
   "source": [
    "### Close the session and cluster connection¶"
   ]
  },
  {
   "cell_type": "code",
   "execution_count": 68,
   "metadata": {},
   "outputs": [],
   "source": [
    "session.shutdown()\n",
    "cluster.shutdown()"
   ]
  }
 ],
 "metadata": {
  "kernelspec": {
   "display_name": "Python 3",
   "language": "python",
   "name": "python3"
  },
  "language_info": {
   "codemirror_mode": {
    "name": "ipython",
    "version": 3
   },
   "file_extension": ".py",
   "mimetype": "text/x-python",
   "name": "python",
   "nbconvert_exporter": "python",
   "pygments_lexer": "ipython3",
   "version": "3.9.1"
  }
 },
 "nbformat": 4,
 "nbformat_minor": 2
}
