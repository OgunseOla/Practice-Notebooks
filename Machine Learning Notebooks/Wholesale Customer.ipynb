{
 "cells": [
  {
   "cell_type": "markdown",
   "metadata": {},
   "source": [
    "### Wholesale Customer\n",
    "\n",
    "**Context**: The data set refers to clients of a wholesale distributor. It includes the annual spending in monetary units on diverse product categories.\n",
    "\n",
    "**Task**: Goal of this project is to best describe the variation in the different types of customers that a wholesale distributor interacts with.\n",
    "\n",
    "Implementation:\n",
    "- Performing EDA and any data cleaning if necessary.\n",
    "- Implement Feature Scaling to Normalize the data(compare the histogram/KDE for MinMaxScaler and StandardScaler). Choose one of the Scaler to proceed ahead and provide reasoning as to why it was selected?\n",
    "- Find optimal number of features using RFECV and show the plot between Number of features selected vs Cross validation score (use channel as target variable)\n",
    "- Implement KMeans Clustering for K=2 to K=15 and based on elbow method identify what is the optimum number of clusters\n",
    "- Implement PCA with number of original features to answer how much variance is explained by first 2 components and by first 4 components and visualize the clusters in the data\n",
    "- Implement XGBoost Classifier with 5 Fold CV and report the performance metrics"
   ]
  },
  {
   "cell_type": "code",
   "execution_count": 28,
   "metadata": {},
   "outputs": [],
   "source": [
    "import pandas as pd\n",
    "import numpy as np\n",
    "import matplotlib.pyplot as plt\n",
    "import warnings\n",
    "warnings.simplefilter(\"ignore\")"
   ]
  },
  {
   "cell_type": "code",
   "execution_count": 2,
   "metadata": {},
   "outputs": [
    {
     "data": {
      "text/html": [
       "<div>\n",
       "<style scoped>\n",
       "    .dataframe tbody tr th:only-of-type {\n",
       "        vertical-align: middle;\n",
       "    }\n",
       "\n",
       "    .dataframe tbody tr th {\n",
       "        vertical-align: top;\n",
       "    }\n",
       "\n",
       "    .dataframe thead th {\n",
       "        text-align: right;\n",
       "    }\n",
       "</style>\n",
       "<table border=\"1\" class=\"dataframe\">\n",
       "  <thead>\n",
       "    <tr style=\"text-align: right;\">\n",
       "      <th></th>\n",
       "      <th>Channel</th>\n",
       "      <th>Region</th>\n",
       "      <th>Fresh</th>\n",
       "      <th>Milk</th>\n",
       "      <th>Grocery</th>\n",
       "      <th>Frozen</th>\n",
       "      <th>Detergents_Paper</th>\n",
       "      <th>Delicassen</th>\n",
       "    </tr>\n",
       "  </thead>\n",
       "  <tbody>\n",
       "    <tr>\n",
       "      <th>0</th>\n",
       "      <td>2</td>\n",
       "      <td>3</td>\n",
       "      <td>12669</td>\n",
       "      <td>9656</td>\n",
       "      <td>7561</td>\n",
       "      <td>214</td>\n",
       "      <td>2674</td>\n",
       "      <td>1338</td>\n",
       "    </tr>\n",
       "    <tr>\n",
       "      <th>1</th>\n",
       "      <td>2</td>\n",
       "      <td>3</td>\n",
       "      <td>7057</td>\n",
       "      <td>9810</td>\n",
       "      <td>9568</td>\n",
       "      <td>1762</td>\n",
       "      <td>3293</td>\n",
       "      <td>1776</td>\n",
       "    </tr>\n",
       "    <tr>\n",
       "      <th>2</th>\n",
       "      <td>2</td>\n",
       "      <td>3</td>\n",
       "      <td>6353</td>\n",
       "      <td>8808</td>\n",
       "      <td>7684</td>\n",
       "      <td>2405</td>\n",
       "      <td>3516</td>\n",
       "      <td>7844</td>\n",
       "    </tr>\n",
       "    <tr>\n",
       "      <th>3</th>\n",
       "      <td>1</td>\n",
       "      <td>3</td>\n",
       "      <td>13265</td>\n",
       "      <td>1196</td>\n",
       "      <td>4221</td>\n",
       "      <td>6404</td>\n",
       "      <td>507</td>\n",
       "      <td>1788</td>\n",
       "    </tr>\n",
       "    <tr>\n",
       "      <th>4</th>\n",
       "      <td>2</td>\n",
       "      <td>3</td>\n",
       "      <td>22615</td>\n",
       "      <td>5410</td>\n",
       "      <td>7198</td>\n",
       "      <td>3915</td>\n",
       "      <td>1777</td>\n",
       "      <td>5185</td>\n",
       "    </tr>\n",
       "  </tbody>\n",
       "</table>\n",
       "</div>"
      ],
      "text/plain": [
       "   Channel  Region  Fresh  Milk  Grocery  Frozen  Detergents_Paper  Delicassen\n",
       "0        2       3  12669  9656     7561     214              2674        1338\n",
       "1        2       3   7057  9810     9568    1762              3293        1776\n",
       "2        2       3   6353  8808     7684    2405              3516        7844\n",
       "3        1       3  13265  1196     4221    6404               507        1788\n",
       "4        2       3  22615  5410     7198    3915              1777        5185"
      ]
     },
     "execution_count": 2,
     "metadata": {},
     "output_type": "execute_result"
    }
   ],
   "source": [
    "data = pd.read_excel(\"whole_customer_data.xlsx\")\n",
    "data.head()"
   ]
  },
  {
   "cell_type": "markdown",
   "metadata": {},
   "source": [
    "## Exploratory Data Analysis"
   ]
  },
  {
   "cell_type": "code",
   "execution_count": 3,
   "metadata": {},
   "outputs": [
    {
     "data": {
      "text/plain": [
       "Channel             0\n",
       "Region              0\n",
       "Fresh               0\n",
       "Milk                0\n",
       "Grocery             0\n",
       "Frozen              0\n",
       "Detergents_Paper    0\n",
       "Delicassen          0\n",
       "dtype: int64"
      ]
     },
     "execution_count": 3,
     "metadata": {},
     "output_type": "execute_result"
    }
   ],
   "source": [
    "#checking for missing values\n",
    "data.isnull().sum()"
   ]
  },
  {
   "cell_type": "code",
   "execution_count": 4,
   "metadata": {},
   "outputs": [
    {
     "data": {
      "text/html": [
       "<div>\n",
       "<style scoped>\n",
       "    .dataframe tbody tr th:only-of-type {\n",
       "        vertical-align: middle;\n",
       "    }\n",
       "\n",
       "    .dataframe tbody tr th {\n",
       "        vertical-align: top;\n",
       "    }\n",
       "\n",
       "    .dataframe thead th {\n",
       "        text-align: right;\n",
       "    }\n",
       "</style>\n",
       "<table border=\"1\" class=\"dataframe\">\n",
       "  <thead>\n",
       "    <tr style=\"text-align: right;\">\n",
       "      <th></th>\n",
       "      <th>Channel</th>\n",
       "      <th>Region</th>\n",
       "      <th>Fresh</th>\n",
       "      <th>Milk</th>\n",
       "      <th>Grocery</th>\n",
       "      <th>Frozen</th>\n",
       "      <th>Detergents_Paper</th>\n",
       "      <th>Delicassen</th>\n",
       "    </tr>\n",
       "  </thead>\n",
       "  <tbody>\n",
       "    <tr>\n",
       "      <th>count</th>\n",
       "      <td>440.000000</td>\n",
       "      <td>440.000000</td>\n",
       "      <td>440.000000</td>\n",
       "      <td>440.000000</td>\n",
       "      <td>440.000000</td>\n",
       "      <td>440.000000</td>\n",
       "      <td>440.000000</td>\n",
       "      <td>440.000000</td>\n",
       "    </tr>\n",
       "    <tr>\n",
       "      <th>mean</th>\n",
       "      <td>1.322727</td>\n",
       "      <td>2.543182</td>\n",
       "      <td>12000.297727</td>\n",
       "      <td>5796.265909</td>\n",
       "      <td>7951.277273</td>\n",
       "      <td>3071.931818</td>\n",
       "      <td>2881.493182</td>\n",
       "      <td>1524.870455</td>\n",
       "    </tr>\n",
       "    <tr>\n",
       "      <th>std</th>\n",
       "      <td>0.468052</td>\n",
       "      <td>0.774272</td>\n",
       "      <td>12647.328865</td>\n",
       "      <td>7380.377175</td>\n",
       "      <td>9503.162829</td>\n",
       "      <td>4854.673333</td>\n",
       "      <td>4767.854448</td>\n",
       "      <td>2820.105937</td>\n",
       "    </tr>\n",
       "    <tr>\n",
       "      <th>min</th>\n",
       "      <td>1.000000</td>\n",
       "      <td>1.000000</td>\n",
       "      <td>3.000000</td>\n",
       "      <td>55.000000</td>\n",
       "      <td>3.000000</td>\n",
       "      <td>25.000000</td>\n",
       "      <td>3.000000</td>\n",
       "      <td>3.000000</td>\n",
       "    </tr>\n",
       "    <tr>\n",
       "      <th>25%</th>\n",
       "      <td>1.000000</td>\n",
       "      <td>2.000000</td>\n",
       "      <td>3127.750000</td>\n",
       "      <td>1533.000000</td>\n",
       "      <td>2153.000000</td>\n",
       "      <td>742.250000</td>\n",
       "      <td>256.750000</td>\n",
       "      <td>408.250000</td>\n",
       "    </tr>\n",
       "    <tr>\n",
       "      <th>50%</th>\n",
       "      <td>1.000000</td>\n",
       "      <td>3.000000</td>\n",
       "      <td>8504.000000</td>\n",
       "      <td>3627.000000</td>\n",
       "      <td>4755.500000</td>\n",
       "      <td>1526.000000</td>\n",
       "      <td>816.500000</td>\n",
       "      <td>965.500000</td>\n",
       "    </tr>\n",
       "    <tr>\n",
       "      <th>75%</th>\n",
       "      <td>2.000000</td>\n",
       "      <td>3.000000</td>\n",
       "      <td>16933.750000</td>\n",
       "      <td>7190.250000</td>\n",
       "      <td>10655.750000</td>\n",
       "      <td>3554.250000</td>\n",
       "      <td>3922.000000</td>\n",
       "      <td>1820.250000</td>\n",
       "    </tr>\n",
       "    <tr>\n",
       "      <th>max</th>\n",
       "      <td>2.000000</td>\n",
       "      <td>3.000000</td>\n",
       "      <td>112151.000000</td>\n",
       "      <td>73498.000000</td>\n",
       "      <td>92780.000000</td>\n",
       "      <td>60869.000000</td>\n",
       "      <td>40827.000000</td>\n",
       "      <td>47943.000000</td>\n",
       "    </tr>\n",
       "  </tbody>\n",
       "</table>\n",
       "</div>"
      ],
      "text/plain": [
       "          Channel      Region          Fresh          Milk       Grocery  \\\n",
       "count  440.000000  440.000000     440.000000    440.000000    440.000000   \n",
       "mean     1.322727    2.543182   12000.297727   5796.265909   7951.277273   \n",
       "std      0.468052    0.774272   12647.328865   7380.377175   9503.162829   \n",
       "min      1.000000    1.000000       3.000000     55.000000      3.000000   \n",
       "25%      1.000000    2.000000    3127.750000   1533.000000   2153.000000   \n",
       "50%      1.000000    3.000000    8504.000000   3627.000000   4755.500000   \n",
       "75%      2.000000    3.000000   16933.750000   7190.250000  10655.750000   \n",
       "max      2.000000    3.000000  112151.000000  73498.000000  92780.000000   \n",
       "\n",
       "             Frozen  Detergents_Paper    Delicassen  \n",
       "count    440.000000        440.000000    440.000000  \n",
       "mean    3071.931818       2881.493182   1524.870455  \n",
       "std     4854.673333       4767.854448   2820.105937  \n",
       "min       25.000000          3.000000      3.000000  \n",
       "25%      742.250000        256.750000    408.250000  \n",
       "50%     1526.000000        816.500000    965.500000  \n",
       "75%     3554.250000       3922.000000   1820.250000  \n",
       "max    60869.000000      40827.000000  47943.000000  "
      ]
     },
     "execution_count": 4,
     "metadata": {},
     "output_type": "execute_result"
    }
   ],
   "source": [
    "data.describe()"
   ]
  },
  {
   "cell_type": "markdown",
   "metadata": {},
   "source": [
    "## Feature Scaling"
   ]
  },
  {
   "cell_type": "code",
   "execution_count": 5,
   "metadata": {},
   "outputs": [
    {
     "data": {
      "text/plain": [
       "array([[1.        , 1.        , 0.11294004, 0.13072723, 0.08146416,\n",
       "        0.0031063 , 0.0654272 , 0.02784731],\n",
       "       [1.        , 1.        , 0.06289903, 0.13282409, 0.10309667,\n",
       "        0.02854842, 0.08058985, 0.03698373],\n",
       "       [1.        , 1.        , 0.05662161, 0.11918086, 0.08278992,\n",
       "        0.03911643, 0.08605232, 0.16355861],\n",
       "       [0.        , 1.        , 0.11825445, 0.01553586, 0.04546385,\n",
       "        0.10484189, 0.01234568, 0.03723404],\n",
       "       [1.        , 1.        , 0.20162642, 0.07291369, 0.07755155,\n",
       "        0.063934  , 0.04345483, 0.10809345]])"
      ]
     },
     "execution_count": 5,
     "metadata": {},
     "output_type": "execute_result"
    }
   ],
   "source": [
    "#scaling data with MinMaxScaler\n",
    "from sklearn.preprocessing import MinMaxScaler\n",
    "scaled_min = MinMaxScaler().fit_transform(data)\n",
    "scaled_min[:5]"
   ]
  },
  {
   "cell_type": "code",
   "execution_count": 6,
   "metadata": {},
   "outputs": [
    {
     "data": {
      "text/html": [
       "<div>\n",
       "<style scoped>\n",
       "    .dataframe tbody tr th:only-of-type {\n",
       "        vertical-align: middle;\n",
       "    }\n",
       "\n",
       "    .dataframe tbody tr th {\n",
       "        vertical-align: top;\n",
       "    }\n",
       "\n",
       "    .dataframe thead th {\n",
       "        text-align: right;\n",
       "    }\n",
       "</style>\n",
       "<table border=\"1\" class=\"dataframe\">\n",
       "  <thead>\n",
       "    <tr style=\"text-align: right;\">\n",
       "      <th></th>\n",
       "      <th>0</th>\n",
       "      <th>1</th>\n",
       "      <th>2</th>\n",
       "      <th>3</th>\n",
       "      <th>4</th>\n",
       "      <th>5</th>\n",
       "      <th>6</th>\n",
       "      <th>7</th>\n",
       "    </tr>\n",
       "  </thead>\n",
       "  <tbody>\n",
       "    <tr>\n",
       "      <th>count</th>\n",
       "      <td>440.000000</td>\n",
       "      <td>440.000000</td>\n",
       "      <td>440.000000</td>\n",
       "      <td>440.000000</td>\n",
       "      <td>440.000000</td>\n",
       "      <td>440.000000</td>\n",
       "      <td>440.000000</td>\n",
       "      <td>440.000000</td>\n",
       "    </tr>\n",
       "    <tr>\n",
       "      <th>mean</th>\n",
       "      <td>0.322727</td>\n",
       "      <td>0.771591</td>\n",
       "      <td>0.106977</td>\n",
       "      <td>0.078173</td>\n",
       "      <td>0.085671</td>\n",
       "      <td>0.050078</td>\n",
       "      <td>0.070510</td>\n",
       "      <td>0.031745</td>\n",
       "    </tr>\n",
       "    <tr>\n",
       "      <th>std</th>\n",
       "      <td>0.468052</td>\n",
       "      <td>0.387136</td>\n",
       "      <td>0.112774</td>\n",
       "      <td>0.100491</td>\n",
       "      <td>0.102430</td>\n",
       "      <td>0.079789</td>\n",
       "      <td>0.116790</td>\n",
       "      <td>0.058826</td>\n",
       "    </tr>\n",
       "    <tr>\n",
       "      <th>min</th>\n",
       "      <td>0.000000</td>\n",
       "      <td>0.000000</td>\n",
       "      <td>0.000000</td>\n",
       "      <td>0.000000</td>\n",
       "      <td>0.000000</td>\n",
       "      <td>0.000000</td>\n",
       "      <td>0.000000</td>\n",
       "      <td>0.000000</td>\n",
       "    </tr>\n",
       "    <tr>\n",
       "      <th>25%</th>\n",
       "      <td>0.000000</td>\n",
       "      <td>0.500000</td>\n",
       "      <td>0.027863</td>\n",
       "      <td>0.020124</td>\n",
       "      <td>0.023174</td>\n",
       "      <td>0.011788</td>\n",
       "      <td>0.006216</td>\n",
       "      <td>0.008453</td>\n",
       "    </tr>\n",
       "    <tr>\n",
       "      <th>50%</th>\n",
       "      <td>0.000000</td>\n",
       "      <td>1.000000</td>\n",
       "      <td>0.075802</td>\n",
       "      <td>0.048636</td>\n",
       "      <td>0.051225</td>\n",
       "      <td>0.024670</td>\n",
       "      <td>0.019927</td>\n",
       "      <td>0.020077</td>\n",
       "    </tr>\n",
       "    <tr>\n",
       "      <th>75%</th>\n",
       "      <td>1.000000</td>\n",
       "      <td>1.000000</td>\n",
       "      <td>0.150968</td>\n",
       "      <td>0.097154</td>\n",
       "      <td>0.114821</td>\n",
       "      <td>0.058005</td>\n",
       "      <td>0.095997</td>\n",
       "      <td>0.037907</td>\n",
       "    </tr>\n",
       "    <tr>\n",
       "      <th>max</th>\n",
       "      <td>1.000000</td>\n",
       "      <td>1.000000</td>\n",
       "      <td>1.000000</td>\n",
       "      <td>1.000000</td>\n",
       "      <td>1.000000</td>\n",
       "      <td>1.000000</td>\n",
       "      <td>1.000000</td>\n",
       "      <td>1.000000</td>\n",
       "    </tr>\n",
       "  </tbody>\n",
       "</table>\n",
       "</div>"
      ],
      "text/plain": [
       "                0           1           2           3           4           5  \\\n",
       "count  440.000000  440.000000  440.000000  440.000000  440.000000  440.000000   \n",
       "mean     0.322727    0.771591    0.106977    0.078173    0.085671    0.050078   \n",
       "std      0.468052    0.387136    0.112774    0.100491    0.102430    0.079789   \n",
       "min      0.000000    0.000000    0.000000    0.000000    0.000000    0.000000   \n",
       "25%      0.000000    0.500000    0.027863    0.020124    0.023174    0.011788   \n",
       "50%      0.000000    1.000000    0.075802    0.048636    0.051225    0.024670   \n",
       "75%      1.000000    1.000000    0.150968    0.097154    0.114821    0.058005   \n",
       "max      1.000000    1.000000    1.000000    1.000000    1.000000    1.000000   \n",
       "\n",
       "                6           7  \n",
       "count  440.000000  440.000000  \n",
       "mean     0.070510    0.031745  \n",
       "std      0.116790    0.058826  \n",
       "min      0.000000    0.000000  \n",
       "25%      0.006216    0.008453  \n",
       "50%      0.019927    0.020077  \n",
       "75%      0.095997    0.037907  \n",
       "max      1.000000    1.000000  "
      ]
     },
     "execution_count": 6,
     "metadata": {},
     "output_type": "execute_result"
    }
   ],
   "source": [
    "pd.DataFrame(scaled_min).describe()"
   ]
  },
  {
   "cell_type": "code",
   "execution_count": 8,
   "metadata": {},
   "outputs": [
    {
     "data": {
      "image/png": "[encoded data removed]",
      "text/plain": [
       "<Figure size 432x288 with 1 Axes>"
      ]
     },
     "metadata": {},
     "output_type": "display_data"
    }
   ],
   "source": [
    "#KDE Plot for MinMaxScaler\n",
    "pd.DataFrame(scaled_min).plot(kind='kde');"
   ]
  },
  {
   "cell_type": "code",
   "execution_count": 9,
   "metadata": {},
   "outputs": [
    {
     "data": {
      "image/png": "[encoded data removed]",
      "text/plain": [
       "<Figure size 432x288 with 1 Axes>"
      ]
     },
     "metadata": {},
     "output_type": "display_data"
    }
   ],
   "source": [
    "#Hist Plot for MinMaxScaler\n",
    "pd.DataFrame(scaled_min).plot(kind='hist');"
   ]
  },
  {
   "cell_type": "code",
   "execution_count": 10,
   "metadata": {},
   "outputs": [
    {
     "data": {
      "text/plain": [
       "array([[ 1.44865163,  0.59066829,  0.05293319,  0.52356777, -0.04111489,\n",
       "        -0.58936716, -0.04356873, -0.06633906],\n",
       "       [ 1.44865163,  0.59066829, -0.39130197,  0.54445767,  0.17031835,\n",
       "        -0.27013618,  0.08640684,  0.08915105],\n",
       "       [ 1.44865163,  0.59066829, -0.44702926,  0.40853771, -0.0281571 ,\n",
       "        -0.13753572,  0.13323164,  2.24329255],\n",
       "       [-0.69029709,  0.59066829,  0.10011141, -0.62401993, -0.3929769 ,\n",
       "         0.6871443 , -0.49858822,  0.09341105],\n",
       "       [ 1.44865163,  0.59066829,  0.84023948, -0.05239645, -0.07935618,\n",
       "         0.17385884, -0.23191782,  1.29934689]])"
      ]
     },
     "execution_count": 10,
     "metadata": {},
     "output_type": "execute_result"
    }
   ],
   "source": [
    "from sklearn.preprocessing import StandardScaler\n",
    "scaled_s = StandardScaler().fit_transform(data)\n",
    "scaled_s[:5]"
   ]
  },
  {
   "cell_type": "code",
   "execution_count": 11,
   "metadata": {},
   "outputs": [
    {
     "data": {
      "text/html": [
       "<div>\n",
       "<style scoped>\n",
       "    .dataframe tbody tr th:only-of-type {\n",
       "        vertical-align: middle;\n",
       "    }\n",
       "\n",
       "    .dataframe tbody tr th {\n",
       "        vertical-align: top;\n",
       "    }\n",
       "\n",
       "    .dataframe thead th {\n",
       "        text-align: right;\n",
       "    }\n",
       "</style>\n",
       "<table border=\"1\" class=\"dataframe\">\n",
       "  <thead>\n",
       "    <tr style=\"text-align: right;\">\n",
       "      <th></th>\n",
       "      <th>0</th>\n",
       "      <th>1</th>\n",
       "      <th>2</th>\n",
       "      <th>3</th>\n",
       "      <th>4</th>\n",
       "      <th>5</th>\n",
       "      <th>6</th>\n",
       "      <th>7</th>\n",
       "    </tr>\n",
       "  </thead>\n",
       "  <tbody>\n",
       "    <tr>\n",
       "      <th>count</th>\n",
       "      <td>4.400000e+02</td>\n",
       "      <td>4.400000e+02</td>\n",
       "      <td>4.400000e+02</td>\n",
       "      <td>4.400000e+02</td>\n",
       "      <td>4.400000e+02</td>\n",
       "      <td>4.400000e+02</td>\n",
       "      <td>4.400000e+02</td>\n",
       "      <td>4.400000e+02</td>\n",
       "    </tr>\n",
       "    <tr>\n",
       "      <th>mean</th>\n",
       "      <td>-2.452584e-16</td>\n",
       "      <td>-5.737834e-16</td>\n",
       "      <td>-2.422305e-17</td>\n",
       "      <td>-1.589638e-17</td>\n",
       "      <td>-6.030530e-17</td>\n",
       "      <td>1.135455e-17</td>\n",
       "      <td>-1.917658e-17</td>\n",
       "      <td>-8.276208e-17</td>\n",
       "    </tr>\n",
       "    <tr>\n",
       "      <th>std</th>\n",
       "      <td>1.001138e+00</td>\n",
       "      <td>1.001138e+00</td>\n",
       "      <td>1.001138e+00</td>\n",
       "      <td>1.001138e+00</td>\n",
       "      <td>1.001138e+00</td>\n",
       "      <td>1.001138e+00</td>\n",
       "      <td>1.001138e+00</td>\n",
       "      <td>1.001138e+00</td>\n",
       "    </tr>\n",
       "    <tr>\n",
       "      <th>min</th>\n",
       "      <td>-6.902971e-01</td>\n",
       "      <td>-1.995342e+00</td>\n",
       "      <td>-9.496831e-01</td>\n",
       "      <td>-7.787951e-01</td>\n",
       "      <td>-8.373344e-01</td>\n",
       "      <td>-6.283430e-01</td>\n",
       "      <td>-6.044165e-01</td>\n",
       "      <td>-5.402644e-01</td>\n",
       "    </tr>\n",
       "    <tr>\n",
       "      <th>25%</th>\n",
       "      <td>-6.902971e-01</td>\n",
       "      <td>-7.023369e-01</td>\n",
       "      <td>-7.023339e-01</td>\n",
       "      <td>-5.783063e-01</td>\n",
       "      <td>-6.108364e-01</td>\n",
       "      <td>-4.804306e-01</td>\n",
       "      <td>-5.511349e-01</td>\n",
       "      <td>-3.964005e-01</td>\n",
       "    </tr>\n",
       "    <tr>\n",
       "      <th>50%</th>\n",
       "      <td>-6.902971e-01</td>\n",
       "      <td>5.906683e-01</td>\n",
       "      <td>-2.767602e-01</td>\n",
       "      <td>-2.942580e-01</td>\n",
       "      <td>-3.366684e-01</td>\n",
       "      <td>-3.188045e-01</td>\n",
       "      <td>-4.336004e-01</td>\n",
       "      <td>-1.985766e-01</td>\n",
       "    </tr>\n",
       "    <tr>\n",
       "      <th>75%</th>\n",
       "      <td>1.448652e+00</td>\n",
       "      <td>5.906683e-01</td>\n",
       "      <td>3.905226e-01</td>\n",
       "      <td>1.890921e-01</td>\n",
       "      <td>2.849105e-01</td>\n",
       "      <td>9.946441e-02</td>\n",
       "      <td>2.184822e-01</td>\n",
       "      <td>1.048598e-01</td>\n",
       "    </tr>\n",
       "    <tr>\n",
       "      <th>max</th>\n",
       "      <td>1.448652e+00</td>\n",
       "      <td>5.906683e-01</td>\n",
       "      <td>7.927738e+00</td>\n",
       "      <td>9.183650e+00</td>\n",
       "      <td>8.936528e+00</td>\n",
       "      <td>1.191900e+01</td>\n",
       "      <td>7.967672e+00</td>\n",
       "      <td>1.647845e+01</td>\n",
       "    </tr>\n",
       "  </tbody>\n",
       "</table>\n",
       "</div>"
      ],
      "text/plain": [
       "                  0             1             2             3             4  \\\n",
       "count  4.400000e+02  4.400000e+02  4.400000e+02  4.400000e+02  4.400000e+02   \n",
       "mean  -2.452584e-16 -5.737834e-16 -2.422305e-17 -1.589638e-17 -6.030530e-17   \n",
       "std    1.001138e+00  1.001138e+00  1.001138e+00  1.001138e+00  1.001138e+00   \n",
       "min   -6.902971e-01 -1.995342e+00 -9.496831e-01 -7.787951e-01 -8.373344e-01   \n",
       "25%   -6.902971e-01 -7.023369e-01 -7.023339e-01 -5.783063e-01 -6.108364e-01   \n",
       "50%   -6.902971e-01  5.906683e-01 -2.767602e-01 -2.942580e-01 -3.366684e-01   \n",
       "75%    1.448652e+00  5.906683e-01  3.905226e-01  1.890921e-01  2.849105e-01   \n",
       "max    1.448652e+00  5.906683e-01  7.927738e+00  9.183650e+00  8.936528e+00   \n",
       "\n",
       "                  5             6             7  \n",
       "count  4.400000e+02  4.400000e+02  4.400000e+02  \n",
       "mean   1.135455e-17 -1.917658e-17 -8.276208e-17  \n",
       "std    1.001138e+00  1.001138e+00  1.001138e+00  \n",
       "min   -6.283430e-01 -6.044165e-01 -5.402644e-01  \n",
       "25%   -4.804306e-01 -5.511349e-01 -3.964005e-01  \n",
       "50%   -3.188045e-01 -4.336004e-01 -1.985766e-01  \n",
       "75%    9.946441e-02  2.184822e-01  1.048598e-01  \n",
       "max    1.191900e+01  7.967672e+00  1.647845e+01  "
      ]
     },
     "execution_count": 11,
     "metadata": {},
     "output_type": "execute_result"
    }
   ],
   "source": [
    "pd.DataFrame(scaled_s).describe()"
   ]
  },
  {
   "cell_type": "code",
   "execution_count": 12,
   "metadata": {},
   "outputs": [
    {
     "data": {
      "image/png": "[encoded data removed]",
      "text/plain": [
       "<Figure size 432x288 with 1 Axes>"
      ]
     },
     "metadata": {},
     "output_type": "display_data"
    }
   ],
   "source": [
    "#Hist Plot for MinMaxScaler\n",
    "pd.DataFrame(scaled_s).plot(kind='hist');"
   ]
  },
  {
   "cell_type": "code",
   "execution_count": 13,
   "metadata": {},
   "outputs": [
    {
     "data": {
      "image/png": "[encoded data removed]",
      "text/plain": [
       "<Figure size 432x288 with 1 Axes>"
      ]
     },
     "metadata": {},
     "output_type": "display_data"
    }
   ],
   "source": [
    "#KDE Plot for StandardScaler\n",
    "pd.DataFrame(scaled_s).plot(kind='kde');"
   ]
  },
  {
   "cell_type": "markdown",
   "metadata": {},
   "source": [
    "We'll go with the Standard Scalar going forward, from the KDE and Histogram Plots we can see that StandardScaler did a better job in scaling the data with the distribution of the columns around the same range. Minmaxscalar's distribution of scaled data had a wider range. "
   ]
  },
  {
   "cell_type": "markdown",
   "metadata": {},
   "source": []
  },
  {
   "cell_type": "code",
   "execution_count": 14,
   "metadata": {},
   "outputs": [],
   "source": [
    "#separating features and target column\n",
    "X = data.drop('Channel', axis=1)\n",
    "y = data['Channel']"
   ]
  },
  {
   "cell_type": "code",
   "execution_count": 15,
   "metadata": {},
   "outputs": [
    {
     "data": {
      "text/html": [
       "<div>\n",
       "<style scoped>\n",
       "    .dataframe tbody tr th:only-of-type {\n",
       "        vertical-align: middle;\n",
       "    }\n",
       "\n",
       "    .dataframe tbody tr th {\n",
       "        vertical-align: top;\n",
       "    }\n",
       "\n",
       "    .dataframe thead th {\n",
       "        text-align: right;\n",
       "    }\n",
       "</style>\n",
       "<table border=\"1\" class=\"dataframe\">\n",
       "  <thead>\n",
       "    <tr style=\"text-align: right;\">\n",
       "      <th></th>\n",
       "      <th>Region</th>\n",
       "      <th>Fresh</th>\n",
       "      <th>Milk</th>\n",
       "      <th>Grocery</th>\n",
       "      <th>Frozen</th>\n",
       "      <th>Detergents_Paper</th>\n",
       "      <th>Delicassen</th>\n",
       "    </tr>\n",
       "  </thead>\n",
       "  <tbody>\n",
       "    <tr>\n",
       "      <th>0</th>\n",
       "      <td>3</td>\n",
       "      <td>12669</td>\n",
       "      <td>9656</td>\n",
       "      <td>7561</td>\n",
       "      <td>214</td>\n",
       "      <td>2674</td>\n",
       "      <td>1338</td>\n",
       "    </tr>\n",
       "    <tr>\n",
       "      <th>1</th>\n",
       "      <td>3</td>\n",
       "      <td>7057</td>\n",
       "      <td>9810</td>\n",
       "      <td>9568</td>\n",
       "      <td>1762</td>\n",
       "      <td>3293</td>\n",
       "      <td>1776</td>\n",
       "    </tr>\n",
       "    <tr>\n",
       "      <th>2</th>\n",
       "      <td>3</td>\n",
       "      <td>6353</td>\n",
       "      <td>8808</td>\n",
       "      <td>7684</td>\n",
       "      <td>2405</td>\n",
       "      <td>3516</td>\n",
       "      <td>7844</td>\n",
       "    </tr>\n",
       "    <tr>\n",
       "      <th>3</th>\n",
       "      <td>3</td>\n",
       "      <td>13265</td>\n",
       "      <td>1196</td>\n",
       "      <td>4221</td>\n",
       "      <td>6404</td>\n",
       "      <td>507</td>\n",
       "      <td>1788</td>\n",
       "    </tr>\n",
       "    <tr>\n",
       "      <th>4</th>\n",
       "      <td>3</td>\n",
       "      <td>22615</td>\n",
       "      <td>5410</td>\n",
       "      <td>7198</td>\n",
       "      <td>3915</td>\n",
       "      <td>1777</td>\n",
       "      <td>5185</td>\n",
       "    </tr>\n",
       "  </tbody>\n",
       "</table>\n",
       "</div>"
      ],
      "text/plain": [
       "   Region  Fresh  Milk  Grocery  Frozen  Detergents_Paper  Delicassen\n",
       "0       3  12669  9656     7561     214              2674        1338\n",
       "1       3   7057  9810     9568    1762              3293        1776\n",
       "2       3   6353  8808     7684    2405              3516        7844\n",
       "3       3  13265  1196     4221    6404               507        1788\n",
       "4       3  22615  5410     7198    3915              1777        5185"
      ]
     },
     "execution_count": 15,
     "metadata": {},
     "output_type": "execute_result"
    }
   ],
   "source": [
    "X.head()"
   ]
  },
  {
   "cell_type": "code",
   "execution_count": 16,
   "metadata": {},
   "outputs": [
    {
     "data": {
      "text/plain": [
       "0    2\n",
       "1    2\n",
       "2    2\n",
       "3    1\n",
       "4    2\n",
       "Name: Channel, dtype: int64"
      ]
     },
     "execution_count": 16,
     "metadata": {},
     "output_type": "execute_result"
    }
   ],
   "source": [
    "y.head()"
   ]
  },
  {
   "cell_type": "markdown",
   "metadata": {},
   "source": [
    "We can see that our target variable contain values of 1 and 2. We need to convert it into 0 and 1 for our classification model."
   ]
  },
  {
   "cell_type": "code",
   "execution_count": 17,
   "metadata": {},
   "outputs": [],
   "source": [
    "# convert labels into binary values\n",
    "\n",
    "y[y == 2] = 0\n",
    "\n",
    "y[y == 1] = 1"
   ]
  },
  {
   "cell_type": "code",
   "execution_count": 18,
   "metadata": {},
   "outputs": [
    {
     "data": {
      "text/plain": [
       "0    0\n",
       "1    0\n",
       "2    0\n",
       "3    1\n",
       "4    0\n",
       "Name: Channel, dtype: int64"
      ]
     },
     "execution_count": 18,
     "metadata": {},
     "output_type": "execute_result"
    }
   ],
   "source": [
    "#Now in 0's and 1's\n",
    "y.head()"
   ]
  },
  {
   "cell_type": "markdown",
   "metadata": {},
   "source": [
    "## RFECV to find optimal number of features"
   ]
  },
  {
   "cell_type": "code",
   "execution_count": 20,
   "metadata": {},
   "outputs": [
    {
     "data": {
      "image/png": "[encoded data removed]",
      "text/plain": [
       "<Figure size 720x360 with 1 Axes>"
      ]
     },
     "metadata": {},
     "output_type": "display_data"
    }
   ],
   "source": [
    "import matplotlib.pyplot as plt\n",
    "from sklearn.ensemble import RandomForestClassifier\n",
    "from sklearn.feature_selection import RFECV\n",
    "\n",
    "rf = RandomForestClassifier(max_depth=7, random_state=1)\n",
    "rfecv = RFECV(estimator=rf)\n",
    "rfecv.fit(X, y)\n",
    "\n",
    "# Plot number of features VS. cross-validation scores\n",
    "plt.figure(figsize=(10,5))\n",
    "plt.xlabel(\"Number of features selected\")\n",
    "plt.ylabel(\"Cross validation score (nb of correct classifications)\")\n",
    "plt.plot(range(1, len(rfecv.grid_scores_) + 1), rfecv.grid_scores_)\n",
    "plt.title(\"Optimal number of features : %d\" % rfecv.n_features_)\n",
    "plt.show()"
   ]
  },
  {
   "cell_type": "markdown",
   "metadata": {},
   "source": [
    "Our optimal number of features is 6, as we can see in the above plot"
   ]
  },
  {
   "cell_type": "markdown",
   "metadata": {},
   "source": [
    "## KMeans Clustering"
   ]
  },
  {
   "cell_type": "code",
   "execution_count": 21,
   "metadata": {},
   "outputs": [],
   "source": [
    "from sklearn.cluster import KMeans\n",
    "from scipy.spatial.distance import cdist\n",
    "from sklearn.decomposition import PCA"
   ]
  },
  {
   "cell_type": "code",
   "execution_count": 20,
   "metadata": {},
   "outputs": [],
   "source": [
    "# Loop through clusters and fit the model to the train set\n",
    "clusters=range(2,15)\n",
    "meandist=[]\n",
    "\n",
    "for k in clusters:\n",
    "    model=KMeans(n_clusters=k)\n",
    "    model.fit(data)\n",
    "    clusassign=model.predict(data)\n",
    "    meandist.append(sum(np.min(cdist(data, model.cluster_centers_, 'euclidean'), axis=1),data.shape[0]))"
   ]
  },
  {
   "cell_type": "code",
   "execution_count": 21,
   "metadata": {},
   "outputs": [
    {
     "data": {
      "text/plain": [
       "Text(0.5, 1.0, 'Selecting k with the Elbow Method')"
      ]
     },
     "execution_count": 21,
     "metadata": {},
     "output_type": "execute_result"
    },
    {
     "data": {
      "image/png": "[encoded data removed]",
      "text/plain": [
       "<Figure size 432x288 with 1 Axes>"
      ]
     },
     "metadata": {},
     "output_type": "display_data"
    }
   ],
   "source": [
    "# display the data\n",
    "plt.plot(clusters, meandist)\n",
    "plt.xlabel('Number of clusters')\n",
    "plt.ylabel('Average distance')\n",
    "plt.title('Selecting k with the Elbow Method')"
   ]
  },
  {
   "cell_type": "markdown",
   "metadata": {},
   "source": [
    "From the Elbow Method above, we can notice that we have our biggest drop when k=5. So our optinum number of clusters is 5."
   ]
  },
  {
   "cell_type": "code",
   "execution_count": 36,
   "metadata": {},
   "outputs": [
    {
     "data": {
      "text/html": [
       "<div>\n",
       "<style scoped>\n",
       "    .dataframe tbody tr th:only-of-type {\n",
       "        vertical-align: middle;\n",
       "    }\n",
       "\n",
       "    .dataframe tbody tr th {\n",
       "        vertical-align: top;\n",
       "    }\n",
       "\n",
       "    .dataframe thead th {\n",
       "        text-align: right;\n",
       "    }\n",
       "</style>\n",
       "<table border=\"1\" class=\"dataframe\">\n",
       "  <thead>\n",
       "    <tr style=\"text-align: right;\">\n",
       "      <th></th>\n",
       "      <th>Cluster 0</th>\n",
       "      <th>Cluster 1</th>\n",
       "      <th>Cluster 2</th>\n",
       "      <th>Cluster 3</th>\n",
       "      <th>Cluster 4</th>\n",
       "    </tr>\n",
       "  </thead>\n",
       "  <tbody>\n",
       "    <tr>\n",
       "      <th>0</th>\n",
       "      <td>224</td>\n",
       "      <td>81</td>\n",
       "      <td>24</td>\n",
       "      <td>7</td>\n",
       "      <td>104</td>\n",
       "    </tr>\n",
       "  </tbody>\n",
       "</table>\n",
       "</div>"
      ],
      "text/plain": [
       "   Cluster 0  Cluster 1  Cluster 2  Cluster 3  Cluster 4\n",
       "0        224         81         24          7        104"
      ]
     },
     "execution_count": 36,
     "metadata": {},
     "output_type": "execute_result"
    }
   ],
   "source": [
    "kmeans = KMeans(n_clusters=5)\n",
    "kmeans = kmeans.fit(data)\n",
    "\n",
    "predictions = kmeans.predict(data)\n",
    "\n",
    "#calculationg counts of cluster\n",
    "unique, counts = np.unique(predictions, return_counts=True)\n",
    "counts = counts.reshape(1,5)\n",
    "\n",
    "#creating dataframe to visualize counts\n",
    "countscl = pd.DataFrame(counts, columns = [\"Cluster 0\", \"Cluster 1\", \"Cluster 2\", \"Cluster 3\", \"Cluster 4\"])\n",
    "\n",
    "countscl"
   ]
  },
  {
   "cell_type": "code",
   "execution_count": 30,
   "metadata": {},
   "outputs": [
    {
     "data": {
      "text/plain": [
       "array([1, 1, 1, 1, 0, 1, 1, 1, 1, 2, 1, 1, 0, 0, 0, 1, 1, 1, 0, 1, 0, 1,\n",
       "       0, 2, 0, 0, 1, 0, 2, 3, 0, 1, 0, 0, 1, 1, 0, 0, 2, 3, 0, 0, 2, 2,\n",
       "       1, 2, 2, 4, 1, 2, 1, 1, 3, 2, 0, 1, 2, 2, 1, 1, 1, 4, 1, 2, 1, 2,\n",
       "       1, 0, 1, 1, 0, 0, 1, 0, 1, 0, 1, 2, 1, 1, 1, 2, 1, 0, 1, 4, 4, 3,\n",
       "       1, 0, 1, 1, 2, 0, 2, 1, 1, 1, 1, 1, 2, 2, 1, 3, 0, 0, 1, 2, 1, 2,\n",
       "       1, 2, 0, 0, 0, 1, 1, 1, 0, 1, 0, 1, 1, 1, 0, 3, 0, 0, 1, 3, 1, 1,\n",
       "       0, 1, 1, 1, 1, 1, 1, 1, 0, 0, 3, 1, 0, 2, 1, 1, 1, 0, 0, 1, 0, 1,\n",
       "       1, 2, 2, 0, 1, 2, 1, 1, 0, 2, 1, 2, 1, 1, 1, 1, 2, 2, 1, 2, 1, 1,\n",
       "       3, 1, 1, 1, 1, 3, 1, 3, 1, 1, 1, 1, 1, 2, 0, 1, 1, 2, 1, 0, 0, 1,\n",
       "       1, 1, 2, 2, 0, 1, 1, 2, 1, 1, 1, 2, 0, 2, 1, 1, 1, 2, 2, 0, 2, 1,\n",
       "       0, 1, 1, 1, 1, 1, 0, 1, 1, 1, 1, 1, 0, 1, 0, 1, 1, 0, 1, 3, 0, 0,\n",
       "       0, 1, 1, 2, 1, 1, 0, 1, 1, 2, 1, 0, 1, 0, 1, 1, 3, 3, 1, 1, 0, 1,\n",
       "       2, 2, 2, 0, 2, 0, 1, 1, 1, 3, 1, 1, 0, 1, 1, 0, 1, 1, 3, 0, 3, 3,\n",
       "       1, 0, 0, 3, 1, 1, 1, 2, 0, 1, 0, 1, 1, 1, 0, 2, 1, 2, 2, 1, 2, 0,\n",
       "       1, 2, 1, 0, 2, 1, 1, 2, 1, 1, 1, 2, 1, 1, 0, 1, 0, 3, 1, 1, 0, 1,\n",
       "       1, 2, 0, 4, 0, 0, 1, 1, 1, 1, 1, 1, 1, 2, 1, 1, 2, 0, 1, 2, 1, 2,\n",
       "       1, 2, 0, 1, 0, 2, 1, 1, 0, 1, 1, 1, 1, 1, 1, 1, 0, 1, 3, 0, 1, 0,\n",
       "       1, 1, 2, 3, 1, 1, 0, 0, 0, 1, 2, 1, 1, 0, 1, 1, 1, 1, 1, 0, 1, 1,\n",
       "       1, 1, 1, 1, 1, 0, 0, 0, 0, 1, 0, 2, 1, 1, 1, 1, 1, 1, 1, 1, 2, 1,\n",
       "       2, 1, 1, 0, 0, 0, 0, 1, 2, 0, 1, 1, 1, 1, 0, 1, 0, 0, 3, 2, 1, 1])"
      ]
     },
     "execution_count": 30,
     "metadata": {},
     "output_type": "execute_result"
    }
   ],
   "source": [
    "kmeans.labels_"
   ]
  },
  {
   "cell_type": "markdown",
   "metadata": {},
   "source": [
    "## Principal Component Analysis"
   ]
  },
  {
   "cell_type": "code",
   "execution_count": 22,
   "metadata": {},
   "outputs": [],
   "source": [
    "# Create a PCA instance: pca\n",
    "pca = PCA(n_components=8)\n",
    "principalComponents = pca.fit_transform(scaled_s)"
   ]
  },
  {
   "cell_type": "code",
   "execution_count": 23,
   "metadata": {},
   "outputs": [
    {
     "data": {
      "text/plain": [
       "([<matplotlib.axis.XTick at 0x21ae71102b0>,\n",
       "  <matplotlib.axis.XTick at 0x21ae6f9ab70>,\n",
       "  <matplotlib.axis.XTick at 0x21ae6f9a860>,\n",
       "  <matplotlib.axis.XTick at 0x21ae6ea9cf8>,\n",
       "  <matplotlib.axis.XTick at 0x21ae6ea9390>,\n",
       "  <matplotlib.axis.XTick at 0x21ae6ef56d8>,\n",
       "  <matplotlib.axis.XTick at 0x21ae6ef5198>,\n",
       "  <matplotlib.axis.XTick at 0x21ae6ef5b70>],\n",
       " [Text(0, 0, ''),\n",
       "  Text(0, 0, ''),\n",
       "  Text(0, 0, ''),\n",
       "  Text(0, 0, ''),\n",
       "  Text(0, 0, ''),\n",
       "  Text(0, 0, ''),\n",
       "  Text(0, 0, ''),\n",
       "  Text(0, 0, '')])"
      ]
     },
     "execution_count": 23,
     "metadata": {},
     "output_type": "execute_result"
    },
    {
     "data": {
      "image/png": "[encoded data removed]",
      "text/plain": [
       "<Figure size 432x288 with 1 Axes>"
      ]
     },
     "metadata": {},
     "output_type": "display_data"
    }
   ],
   "source": [
    "# Plot the explained variances\n",
    "features = range(pca.n_components_)\n",
    "plt.bar(features, pca.explained_variance_ratio_, color='black')\n",
    "plt.xlabel('PCA features')\n",
    "plt.ylabel('variance %')\n",
    "plt.xticks(features)"
   ]
  },
  {
   "cell_type": "code",
   "execution_count": 24,
   "metadata": {},
   "outputs": [
    {
     "data": {
      "text/plain": [
       "array([0.38750123, 0.22374588, 0.12647173, 0.09229904, 0.06957905,\n",
       "       0.05741354, 0.03514076, 0.00784877])"
      ]
     },
     "execution_count": 24,
     "metadata": {},
     "output_type": "execute_result"
    }
   ],
   "source": [
    "pca.explained_variance_ratio_"
   ]
  },
  {
   "cell_type": "markdown",
   "metadata": {},
   "source": [
    "As we can see above, The first two Components had the most variance with 0.39 and 0.22 respectively, the 3rd and 4th components also had 0.12 and 0.06 explained variance respectively. So the first 4 components explain 79% variance of the dataset."
   ]
  },
  {
   "cell_type": "code",
   "execution_count": 35,
   "metadata": {},
   "outputs": [
    {
     "data": {
      "text/plain": [
       "<Figure size 432x288 with 0 Axes>"
      ]
     },
     "metadata": {},
     "output_type": "display_data"
    },
    {
     "data": {
      "image/png": "[encoded data removed]",
      "text/plain": [
       "<Figure size 864x576 with 1 Axes>"
      ]
     },
     "metadata": {},
     "output_type": "display_data"
    }
   ],
   "source": [
    "#create PCA plot\n",
    "X_pca = scaled_s\n",
    "y_num = predictions\n",
    "\n",
    "target_names = [\"Cluster 0\", \"Cluster 1\", \"Cluster 2\", \"Cluster 3\", \"Cluster 4\"]\n",
    "\n",
    "X_r = pca.fit(X_pca).transform(X_pca)\n",
    "\n",
    "#plotting the data\n",
    "plt.figure()\n",
    "plt.figure(figsize=(12, 8))\n",
    "colors = [\"red\", \"green\", \"blue\", \"black\", \"turquoise\"]\n",
    "lw = 2\n",
    "\n",
    "for color, i, target_name in zip(colors, [0, 1, 2, 3, 4], target_names):\n",
    "    plt.scatter(X_r[y_num == i, 0], X_r[y_num == i, 1], color=color, alpha=.8, lw=lw, label=target_name)\n",
    "\n",
    "plt.legend(loc='best', shadow=False, scatterpoints=1)\n",
    "plt.legend(bbox_to_anchor=(1.05, 1), loc=2, borderaxespad=0.6)\n",
    "plt.title('PCA of Clusters')\n",
    "plt.xlabel('PCA 1')\n",
    "plt.ylabel('PCA 2')\n",
    "plt.show()"
   ]
  },
  {
   "cell_type": "markdown",
   "metadata": {},
   "source": [
    "## Implementing XGBoost Classifier with 5 Fold CV"
   ]
  },
  {
   "cell_type": "code",
   "execution_count": 62,
   "metadata": {},
   "outputs": [],
   "source": [
    "from sklearn.model_selection import GridSearchCV\n",
    "import xgboost as xgb\n",
    "from sklearn.model_selection import train_test_split\n",
    "from sklearn.metrics import accuracy_score, precision_score, recall_score\n",
    "from time import time\n",
    "import warnings\n",
    "warnings.filterwarnings('ignore', category=FutureWarning)\n",
    "warnings.filterwarnings('ignore', category=DeprecationWarning)"
   ]
  },
  {
   "cell_type": "code",
   "execution_count": 57,
   "metadata": {},
   "outputs": [],
   "source": [
    "#Splitting the dataset to train and test.\n",
    "X_train, X_test, y_train, y_test = train_test_split(X, y, test_size = 0.3, random_state = 0)"
   ]
  },
  {
   "cell_type": "code",
   "execution_count": 60,
   "metadata": {},
   "outputs": [],
   "source": [
    "def print_results(results):\n",
    "    print('BEST PARAMS: {}\\n'.format(results.best_params_))\n",
    "\n",
    "    means = results.cv_results_['mean_test_score']\n",
    "    stds = results.cv_results_['std_test_score']\n",
    "    for mean, std, params in zip(means, stds, results.cv_results_['params']):\n",
    "        print('{} (+/-{}) for {}'.format(round(mean, 3), round(std * 2, 3), params))"
   ]
  },
  {
   "cell_type": "code",
   "execution_count": 58,
   "metadata": {},
   "outputs": [],
   "source": [
    "pd.DataFrame(X_train).to_csv(\"train_features.csv\", index=False)\n",
    "pd.DataFrame(X_test).to_csv(\"test_features.csv\", index=False)\n",
    "\n",
    "pd.DataFrame(y_train).to_csv(\"train_labels.csv\", index=False)\n",
    "pd.DataFrame(y_test).to_csv(\"test_labels.csv\", index=False)"
   ]
  },
  {
   "cell_type": "code",
   "execution_count": 59,
   "metadata": {},
   "outputs": [],
   "source": [
    "tr_features = pd.read_csv('train_features.csv')\n",
    "tr_labels = pd.read_csv('train_labels.csv')\n",
    "te_features = pd.read_csv('test_features.csv')\n",
    "te_labels = pd.read_csv('test_labels.csv')"
   ]
  },
  {
   "cell_type": "code",
   "execution_count": 67,
   "metadata": {},
   "outputs": [
    {
     "name": "stdout",
     "output_type": "stream",
     "text": [
      "Fitting 5 folds for each of 96 candidates, totalling 480 fits\n",
      "[15:55:25] WARNING: C:/Users/Administrator/workspace/xgboost-win64_release_1.4.0/src/learner.cc:1095: Starting in XGBoost 1.3.0, the default evaluation metric used with the objective 'binary:logistic' was changed from 'error' to 'logloss'. Explicitly set eval_metric if you'd like to restore the old behavior.\n",
      "BEST PARAMS: {'learning_rate': 0.05, 'max_depth': 2, 'n_estimators': 140}\n",
      "\n",
      "0.946 (+/-0.047) for {'learning_rate': 0.1, 'max_depth': 2, 'n_estimators': 60}\n",
      "0.947 (+/-0.046) for {'learning_rate': 0.1, 'max_depth': 2, 'n_estimators': 100}\n",
      "0.943 (+/-0.047) for {'learning_rate': 0.1, 'max_depth': 2, 'n_estimators': 140}\n",
      "0.938 (+/-0.05) for {'learning_rate': 0.1, 'max_depth': 2, 'n_estimators': 180}\n",
      "0.944 (+/-0.046) for {'learning_rate': 0.1, 'max_depth': 3, 'n_estimators': 60}\n",
      "0.943 (+/-0.048) for {'learning_rate': 0.1, 'max_depth': 3, 'n_estimators': 100}\n",
      "0.939 (+/-0.049) for {'learning_rate': 0.1, 'max_depth': 3, 'n_estimators': 140}\n",
      "0.933 (+/-0.051) for {'learning_rate': 0.1, 'max_depth': 3, 'n_estimators': 180}\n",
      "0.941 (+/-0.045) for {'learning_rate': 0.1, 'max_depth': 4, 'n_estimators': 60}\n",
      "0.939 (+/-0.049) for {'learning_rate': 0.1, 'max_depth': 4, 'n_estimators': 100}\n",
      "0.935 (+/-0.053) for {'learning_rate': 0.1, 'max_depth': 4, 'n_estimators': 140}\n",
      "0.932 (+/-0.052) for {'learning_rate': 0.1, 'max_depth': 4, 'n_estimators': 180}\n",
      "0.941 (+/-0.049) for {'learning_rate': 0.1, 'max_depth': 5, 'n_estimators': 60}\n",
      "0.937 (+/-0.055) for {'learning_rate': 0.1, 'max_depth': 5, 'n_estimators': 100}\n",
      "0.935 (+/-0.057) for {'learning_rate': 0.1, 'max_depth': 5, 'n_estimators': 140}\n",
      "0.932 (+/-0.06) for {'learning_rate': 0.1, 'max_depth': 5, 'n_estimators': 180}\n",
      "0.941 (+/-0.052) for {'learning_rate': 0.1, 'max_depth': 6, 'n_estimators': 60}\n",
      "0.936 (+/-0.052) for {'learning_rate': 0.1, 'max_depth': 6, 'n_estimators': 100}\n",
      "0.932 (+/-0.056) for {'learning_rate': 0.1, 'max_depth': 6, 'n_estimators': 140}\n",
      "0.931 (+/-0.059) for {'learning_rate': 0.1, 'max_depth': 6, 'n_estimators': 180}\n",
      "0.939 (+/-0.05) for {'learning_rate': 0.1, 'max_depth': 7, 'n_estimators': 60}\n",
      "0.934 (+/-0.051) for {'learning_rate': 0.1, 'max_depth': 7, 'n_estimators': 100}\n",
      "0.931 (+/-0.057) for {'learning_rate': 0.1, 'max_depth': 7, 'n_estimators': 140}\n",
      "0.93 (+/-0.06) for {'learning_rate': 0.1, 'max_depth': 7, 'n_estimators': 180}\n",
      "0.939 (+/-0.05) for {'learning_rate': 0.1, 'max_depth': 8, 'n_estimators': 60}\n",
      "0.937 (+/-0.055) for {'learning_rate': 0.1, 'max_depth': 8, 'n_estimators': 100}\n",
      "0.932 (+/-0.058) for {'learning_rate': 0.1, 'max_depth': 8, 'n_estimators': 140}\n",
      "0.931 (+/-0.061) for {'learning_rate': 0.1, 'max_depth': 8, 'n_estimators': 180}\n",
      "0.939 (+/-0.05) for {'learning_rate': 0.1, 'max_depth': 9, 'n_estimators': 60}\n",
      "0.937 (+/-0.056) for {'learning_rate': 0.1, 'max_depth': 9, 'n_estimators': 100}\n",
      "0.932 (+/-0.058) for {'learning_rate': 0.1, 'max_depth': 9, 'n_estimators': 140}\n",
      "0.931 (+/-0.061) for {'learning_rate': 0.1, 'max_depth': 9, 'n_estimators': 180}\n",
      "0.928 (+/-0.068) for {'learning_rate': 0.01, 'max_depth': 2, 'n_estimators': 60}\n",
      "0.93 (+/-0.067) for {'learning_rate': 0.01, 'max_depth': 2, 'n_estimators': 100}\n",
      "0.935 (+/-0.06) for {'learning_rate': 0.01, 'max_depth': 2, 'n_estimators': 140}\n",
      "0.938 (+/-0.056) for {'learning_rate': 0.01, 'max_depth': 2, 'n_estimators': 180}\n",
      "0.929 (+/-0.071) for {'learning_rate': 0.01, 'max_depth': 3, 'n_estimators': 60}\n",
      "0.934 (+/-0.062) for {'learning_rate': 0.01, 'max_depth': 3, 'n_estimators': 100}\n",
      "0.936 (+/-0.06) for {'learning_rate': 0.01, 'max_depth': 3, 'n_estimators': 140}\n",
      "0.936 (+/-0.054) for {'learning_rate': 0.01, 'max_depth': 3, 'n_estimators': 180}\n",
      "0.932 (+/-0.065) for {'learning_rate': 0.01, 'max_depth': 4, 'n_estimators': 60}\n",
      "0.931 (+/-0.064) for {'learning_rate': 0.01, 'max_depth': 4, 'n_estimators': 100}\n",
      "0.934 (+/-0.062) for {'learning_rate': 0.01, 'max_depth': 4, 'n_estimators': 140}\n",
      "0.938 (+/-0.058) for {'learning_rate': 0.01, 'max_depth': 4, 'n_estimators': 180}\n",
      "0.932 (+/-0.068) for {'learning_rate': 0.01, 'max_depth': 5, 'n_estimators': 60}\n",
      "0.938 (+/-0.063) for {'learning_rate': 0.01, 'max_depth': 5, 'n_estimators': 100}\n",
      "0.94 (+/-0.067) for {'learning_rate': 0.01, 'max_depth': 5, 'n_estimators': 140}\n",
      "0.941 (+/-0.067) for {'learning_rate': 0.01, 'max_depth': 5, 'n_estimators': 180}\n",
      "0.932 (+/-0.068) for {'learning_rate': 0.01, 'max_depth': 6, 'n_estimators': 60}\n",
      "0.936 (+/-0.062) for {'learning_rate': 0.01, 'max_depth': 6, 'n_estimators': 100}\n",
      "0.936 (+/-0.058) for {'learning_rate': 0.01, 'max_depth': 6, 'n_estimators': 140}\n",
      "0.938 (+/-0.055) for {'learning_rate': 0.01, 'max_depth': 6, 'n_estimators': 180}\n",
      "0.932 (+/-0.068) for {'learning_rate': 0.01, 'max_depth': 7, 'n_estimators': 60}\n",
      "0.936 (+/-0.062) for {'learning_rate': 0.01, 'max_depth': 7, 'n_estimators': 100}\n",
      "0.936 (+/-0.058) for {'learning_rate': 0.01, 'max_depth': 7, 'n_estimators': 140}\n",
      "0.938 (+/-0.055) for {'learning_rate': 0.01, 'max_depth': 7, 'n_estimators': 180}\n",
      "0.932 (+/-0.068) for {'learning_rate': 0.01, 'max_depth': 8, 'n_estimators': 60}\n",
      "0.936 (+/-0.062) for {'learning_rate': 0.01, 'max_depth': 8, 'n_estimators': 100}\n",
      "0.936 (+/-0.058) for {'learning_rate': 0.01, 'max_depth': 8, 'n_estimators': 140}\n",
      "0.938 (+/-0.056) for {'learning_rate': 0.01, 'max_depth': 8, 'n_estimators': 180}\n",
      "0.932 (+/-0.068) for {'learning_rate': 0.01, 'max_depth': 9, 'n_estimators': 60}\n",
      "0.936 (+/-0.062) for {'learning_rate': 0.01, 'max_depth': 9, 'n_estimators': 100}\n",
      "0.936 (+/-0.058) for {'learning_rate': 0.01, 'max_depth': 9, 'n_estimators': 140}\n",
      "0.938 (+/-0.056) for {'learning_rate': 0.01, 'max_depth': 9, 'n_estimators': 180}\n",
      "0.944 (+/-0.047) for {'learning_rate': 0.05, 'max_depth': 2, 'n_estimators': 60}\n",
      "0.948 (+/-0.05) for {'learning_rate': 0.05, 'max_depth': 2, 'n_estimators': 100}\n",
      "0.948 (+/-0.045) for {'learning_rate': 0.05, 'max_depth': 2, 'n_estimators': 140}\n",
      "0.946 (+/-0.044) for {'learning_rate': 0.05, 'max_depth': 2, 'n_estimators': 180}\n",
      "0.943 (+/-0.05) for {'learning_rate': 0.05, 'max_depth': 3, 'n_estimators': 60}\n",
      "0.946 (+/-0.048) for {'learning_rate': 0.05, 'max_depth': 3, 'n_estimators': 100}\n",
      "0.945 (+/-0.048) for {'learning_rate': 0.05, 'max_depth': 3, 'n_estimators': 140}\n",
      "0.944 (+/-0.048) for {'learning_rate': 0.05, 'max_depth': 3, 'n_estimators': 180}\n",
      "0.94 (+/-0.058) for {'learning_rate': 0.05, 'max_depth': 4, 'n_estimators': 60}\n",
      "0.943 (+/-0.043) for {'learning_rate': 0.05, 'max_depth': 4, 'n_estimators': 100}\n",
      "0.944 (+/-0.046) for {'learning_rate': 0.05, 'max_depth': 4, 'n_estimators': 140}\n",
      "0.943 (+/-0.05) for {'learning_rate': 0.05, 'max_depth': 4, 'n_estimators': 180}\n",
      "0.946 (+/-0.055) for {'learning_rate': 0.05, 'max_depth': 5, 'n_estimators': 60}\n",
      "0.944 (+/-0.052) for {'learning_rate': 0.05, 'max_depth': 5, 'n_estimators': 100}\n",
      "0.939 (+/-0.052) for {'learning_rate': 0.05, 'max_depth': 5, 'n_estimators': 140}\n",
      "0.939 (+/-0.058) for {'learning_rate': 0.05, 'max_depth': 5, 'n_estimators': 180}\n",
      "0.941 (+/-0.053) for {'learning_rate': 0.05, 'max_depth': 6, 'n_estimators': 60}\n",
      "0.942 (+/-0.047) for {'learning_rate': 0.05, 'max_depth': 6, 'n_estimators': 100}\n",
      "0.941 (+/-0.049) for {'learning_rate': 0.05, 'max_depth': 6, 'n_estimators': 140}\n",
      "0.94 (+/-0.056) for {'learning_rate': 0.05, 'max_depth': 6, 'n_estimators': 180}\n",
      "0.941 (+/-0.054) for {'learning_rate': 0.05, 'max_depth': 7, 'n_estimators': 60}\n",
      "0.942 (+/-0.048) for {'learning_rate': 0.05, 'max_depth': 7, 'n_estimators': 100}\n",
      "0.939 (+/-0.046) for {'learning_rate': 0.05, 'max_depth': 7, 'n_estimators': 140}\n",
      "0.938 (+/-0.051) for {'learning_rate': 0.05, 'max_depth': 7, 'n_estimators': 180}\n",
      "0.941 (+/-0.054) for {'learning_rate': 0.05, 'max_depth': 8, 'n_estimators': 60}\n",
      "0.942 (+/-0.048) for {'learning_rate': 0.05, 'max_depth': 8, 'n_estimators': 100}\n",
      "0.943 (+/-0.052) for {'learning_rate': 0.05, 'max_depth': 8, 'n_estimators': 140}\n",
      "0.939 (+/-0.054) for {'learning_rate': 0.05, 'max_depth': 8, 'n_estimators': 180}\n",
      "0.941 (+/-0.054) for {'learning_rate': 0.05, 'max_depth': 9, 'n_estimators': 60}\n",
      "0.942 (+/-0.048) for {'learning_rate': 0.05, 'max_depth': 9, 'n_estimators': 100}\n",
      "0.943 (+/-0.052) for {'learning_rate': 0.05, 'max_depth': 9, 'n_estimators': 140}\n",
      "0.939 (+/-0.054) for {'learning_rate': 0.05, 'max_depth': 9, 'n_estimators': 180}\n"
     ]
    }
   ],
   "source": [
    "parameters = {\n",
    "    'max_depth': range (2, 10, 1),\n",
    "    'n_estimators': range(60, 220, 40),\n",
    "    'learning_rate': [0.1, 0.01, 0.05]\n",
    "}\n",
    "\n",
    "xgbc = xgb.XGBClassifier(objective= 'binary:logistic', nthread=4, seed=42)\n",
    "\n",
    "cv = GridSearchCV(estimator=xgbc, param_grid=parameters, scoring = 'roc_auc', n_jobs = 10, cv = 5, verbose=True)\n",
    "cv.fit(tr_features, tr_labels.values.ravel())\n",
    "\n",
    "print_results(cv)"
   ]
  },
  {
   "cell_type": "code",
   "execution_count": 68,
   "metadata": {},
   "outputs": [
    {
     "data": {
      "text/plain": [
       "['../../../XGB_model.pkl']"
      ]
     },
     "execution_count": 68,
     "metadata": {},
     "output_type": "execute_result"
    }
   ],
   "source": [
    "import joblib\n",
    "joblib.dump(cv.best_estimator_, '../../../XGB_model.pkl')"
   ]
  },
  {
   "cell_type": "code",
   "execution_count": 69,
   "metadata": {},
   "outputs": [],
   "source": [
    "models = {}\n",
    "\n",
    "for mdl in ['XGB']:\n",
    "    models[mdl] = joblib.load('../../../{}_model.pkl'.format(mdl))"
   ]
  },
  {
   "cell_type": "code",
   "execution_count": 70,
   "metadata": {},
   "outputs": [
    {
     "data": {
      "text/plain": [
       "{'XGB': XGBClassifier(base_score=0.5, booster='gbtree', colsample_bylevel=1,\n",
       "               colsample_bynode=1, colsample_bytree=1, gamma=0, gpu_id=-1,\n",
       "               importance_type='gain', interaction_constraints='',\n",
       "               learning_rate=0.05, max_delta_step=0, max_depth=2,\n",
       "               min_child_weight=1, missing=nan, monotone_constraints='()',\n",
       "               n_estimators=140, n_jobs=4, nthread=4, num_parallel_tree=1,\n",
       "               random_state=42, reg_alpha=0, reg_lambda=1, scale_pos_weight=1,\n",
       "               seed=42, subsample=1, tree_method='exact', validate_parameters=1,\n",
       "               verbosity=None)}"
      ]
     },
     "execution_count": 70,
     "metadata": {},
     "output_type": "execute_result"
    }
   ],
   "source": [
    "models"
   ]
  },
  {
   "cell_type": "code",
   "execution_count": 71,
   "metadata": {},
   "outputs": [],
   "source": [
    "def evaluate_model(name, model, features, labels):\n",
    "    start = time()\n",
    "    pred = model.predict(features)\n",
    "    end = time()\n",
    "    accuracy = round(accuracy_score(labels, pred), 3)\n",
    "    precision = round(precision_score(labels, pred, average='macro'), 3)\n",
    "    recall = round(recall_score(labels, pred, average='macro'), 3)\n",
    "    print('{} -- Accuracy: {} / Precision: {} / Recall: {} / Latency: {}ms'.format(name,\n",
    "                                                                                   accuracy,\n",
    "                                                                                   precision,\n",
    "                                                                                   recall,\n",
    "                                                                                   round((end - start)*1000, 1)))"
   ]
  },
  {
   "cell_type": "code",
   "execution_count": 72,
   "metadata": {},
   "outputs": [
    {
     "name": "stdout",
     "output_type": "stream",
     "text": [
      "XGB -- Accuracy: 0.902 / Precision: 0.897 / Recall: 0.884 / Latency: 5.0ms\n"
     ]
    }
   ],
   "source": [
    "evaluate_model('XGB', models['XGB'], te_features, te_labels)\n"
   ]
  }
 ],
 "metadata": {
  "kernelspec": {
   "display_name": "Python 3",
   "language": "python",
   "name": "python3"
  },
  "language_info": {
   "codemirror_mode": {
    "name": "ipython",
    "version": 3
   },
   "file_extension": ".py",
   "mimetype": "text/x-python",
   "name": "python",
   "nbconvert_exporter": "python",
   "pygments_lexer": "ipython3",
   "version": "3.9.1"
  }
 },
 "nbformat": 4,
 "nbformat_minor": 2
}
